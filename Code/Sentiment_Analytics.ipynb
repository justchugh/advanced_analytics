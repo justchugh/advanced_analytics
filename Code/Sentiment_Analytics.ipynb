{
 "cells": [
  {
   "cell_type": "code",
   "execution_count": null,
   "id": "7310f433",
   "metadata": {},
   "outputs": [],
   "source": [
    "%cd /content/drive/MyDrive/ri/code/data"
   ]
  },
  {
   "cell_type": "code",
   "execution_count": null,
   "id": "b7a03820",
   "metadata": {},
   "outputs": [],
   "source": [
    "import re"
   ]
  },
  {
   "cell_type": "code",
   "execution_count": null,
   "id": "9960834f",
   "metadata": {},
   "outputs": [],
   "source": [
    "import itertools"
   ]
  },
  {
   "cell_type": "code",
   "execution_count": null,
   "id": "ef1a2a60",
   "metadata": {},
   "outputs": [],
   "source": []
  },
  {
   "cell_type": "code",
   "execution_count": null,
   "id": "bb6e9d91",
   "metadata": {},
   "outputs": [],
   "source": [
    "import nltk"
   ]
  },
  {
   "cell_type": "code",
   "execution_count": null,
   "id": "2c9aa476",
   "metadata": {},
   "outputs": [],
   "source": [
    "from nltk.corpus import stopwords"
   ]
  },
  {
   "cell_type": "code",
   "execution_count": null,
   "id": "e434bb38",
   "metadata": {},
   "outputs": [],
   "source": [
    "from nltk.tokenize import word_tokenize"
   ]
  },
  {
   "cell_type": "code",
   "execution_count": null,
   "id": "8b940140",
   "metadata": {},
   "outputs": [],
   "source": [
    "from nltk.stem import WordNetLemmatizer"
   ]
  },
  {
   "cell_type": "code",
   "execution_count": null,
   "id": "80b2a5f4",
   "metadata": {},
   "outputs": [],
   "source": [
    "from nltk.sentiment import SentimentIntensityAnalyzer"
   ]
  },
  {
   "cell_type": "code",
   "execution_count": null,
   "id": "5883ced3",
   "metadata": {},
   "outputs": [],
   "source": []
  },
  {
   "cell_type": "code",
   "execution_count": null,
   "id": "667c88bb",
   "metadata": {},
   "outputs": [],
   "source": [
    "import pandas as pd"
   ]
  },
  {
   "cell_type": "code",
   "execution_count": null,
   "id": "7b6c89c2",
   "metadata": {},
   "outputs": [],
   "source": [
    "import seaborn as sns"
   ]
  },
  {
   "cell_type": "code",
   "execution_count": null,
   "id": "e9c0ded1",
   "metadata": {},
   "outputs": [],
   "source": [
    "import matplotlib.pyplot as plt"
   ]
  },
  {
   "cell_type": "code",
   "execution_count": null,
   "id": "9070e333",
   "metadata": {},
   "outputs": [],
   "source": []
  },
  {
   "cell_type": "code",
   "execution_count": null,
   "id": "3188d521",
   "metadata": {},
   "outputs": [],
   "source": [
    "from sklearn.feature_extraction.text import CountVectorizer, TfidfVectorizer"
   ]
  },
  {
   "cell_type": "code",
   "execution_count": null,
   "id": "3bc25dd9",
   "metadata": {},
   "outputs": [],
   "source": []
  },
  {
   "cell_type": "code",
   "execution_count": null,
   "id": "7cab9e6f",
   "metadata": {},
   "outputs": [],
   "source": [
    "from collections import Counter"
   ]
  },
  {
   "cell_type": "code",
   "execution_count": null,
   "id": "1efe4269",
   "metadata": {},
   "outputs": [],
   "source": [
    "#Data Understanding and Preparation"
   ]
  },
  {
   "cell_type": "code",
   "execution_count": null,
   "id": "d9d471fa",
   "metadata": {},
   "outputs": [],
   "source": [
    "## Import Libraries and Load Data"
   ]
  },
  {
   "cell_type": "code",
   "execution_count": null,
   "id": "e2e08a15",
   "metadata": {},
   "outputs": [],
   "source": []
  },
  {
   "cell_type": "code",
   "execution_count": null,
   "id": "d41df065",
   "metadata": {},
   "outputs": [],
   "source": [
    "df = pd.read_csv('/content/drive/MyDrive/ri/code/data/A1_standard.csv')"
   ]
  },
  {
   "cell_type": "code",
   "execution_count": null,
   "id": "16ce787e",
   "metadata": {},
   "outputs": [],
   "source": [
    "print(df.head())"
   ]
  },
  {
   "cell_type": "code",
   "execution_count": null,
   "id": "7885df4b",
   "metadata": {},
   "outputs": [],
   "source": [
    "## Data Information and Missing Values"
   ]
  },
  {
   "cell_type": "code",
   "execution_count": null,
   "id": "8f433ea9",
   "metadata": {},
   "outputs": [],
   "source": []
  },
  {
   "cell_type": "code",
   "execution_count": null,
   "id": "a2c70169",
   "metadata": {},
   "outputs": [],
   "source": [
    "df.info()"
   ]
  },
  {
   "cell_type": "code",
   "execution_count": null,
   "id": "1d9d104d",
   "metadata": {},
   "outputs": [],
   "source": []
  },
  {
   "cell_type": "code",
   "execution_count": null,
   "id": "94671559",
   "metadata": {},
   "outputs": [],
   "source": [
    "import seaborn as sns"
   ]
  },
  {
   "cell_type": "code",
   "execution_count": null,
   "id": "26e31a5d",
   "metadata": {},
   "outputs": [],
   "source": [
    "import matplotlib.pyplot as plt"
   ]
  },
  {
   "cell_type": "code",
   "execution_count": null,
   "id": "417f9bb7",
   "metadata": {},
   "outputs": [],
   "source": []
  },
  {
   "cell_type": "code",
   "execution_count": null,
   "id": "b88888da",
   "metadata": {},
   "outputs": [],
   "source": [
    "sns.heatmap(df.isnull(), cbar=False, cmap='viridis')"
   ]
  },
  {
   "cell_type": "code",
   "execution_count": null,
   "id": "518aca15",
   "metadata": {},
   "outputs": [],
   "source": [
    "plt.title('Missing Data Visualization')"
   ]
  },
  {
   "cell_type": "code",
   "execution_count": null,
   "id": "0034bc56",
   "metadata": {},
   "outputs": [],
   "source": [
    "plt.show()"
   ]
  },
  {
   "cell_type": "code",
   "execution_count": null,
   "id": "7f90872c",
   "metadata": {},
   "outputs": [],
   "source": []
  },
  {
   "cell_type": "code",
   "execution_count": null,
   "id": "d3fd0f4c",
   "metadata": {},
   "outputs": [],
   "source": [
    "# Handle Missing Values, given there are none but still"
   ]
  },
  {
   "cell_type": "code",
   "execution_count": null,
   "id": "0450a7cd",
   "metadata": {},
   "outputs": [],
   "source": [
    "if df['text'].isnull().sum() > 0:"
   ]
  },
  {
   "cell_type": "code",
   "execution_count": null,
   "id": "2979d919",
   "metadata": {},
   "outputs": [],
   "source": [
    "    df['text'] = df['text'].fillna('no_text')"
   ]
  },
  {
   "cell_type": "code",
   "execution_count": null,
   "id": "22a2c10b",
   "metadata": {},
   "outputs": [],
   "source": [
    "    # df.dropna(subset=['text'], inplace=True)"
   ]
  },
  {
   "cell_type": "code",
   "execution_count": null,
   "id": "90f9b1b8",
   "metadata": {},
   "outputs": [],
   "source": [
    "## Remove Noise, Tokenize, and Normalize Text"
   ]
  },
  {
   "cell_type": "code",
   "execution_count": null,
   "id": "a1c707bb",
   "metadata": {},
   "outputs": [],
   "source": []
  },
  {
   "cell_type": "code",
   "execution_count": null,
   "id": "85352bb6",
   "metadata": {},
   "outputs": [],
   "source": [
    "# Ensure nltk resources are downloaded (first time run)"
   ]
  },
  {
   "cell_type": "code",
   "execution_count": null,
   "id": "d2d0aa50",
   "metadata": {},
   "outputs": [],
   "source": [
    "import nltk"
   ]
  },
  {
   "cell_type": "code",
   "execution_count": null,
   "id": "6c322987",
   "metadata": {},
   "outputs": [],
   "source": [
    "nltk.download('punkt')"
   ]
  },
  {
   "cell_type": "code",
   "execution_count": null,
   "id": "b4178ecf",
   "metadata": {},
   "outputs": [],
   "source": [
    "nltk.download('stopwords')"
   ]
  },
  {
   "cell_type": "code",
   "execution_count": null,
   "id": "ef2d2a76",
   "metadata": {},
   "outputs": [],
   "source": [
    "nltk.download('wordnet')"
   ]
  },
  {
   "cell_type": "code",
   "execution_count": null,
   "id": "2a7f8c0c",
   "metadata": {},
   "outputs": [],
   "source": [
    "nltk.download('averaged_perceptron_tagger')"
   ]
  },
  {
   "cell_type": "code",
   "execution_count": null,
   "id": "9effcd70",
   "metadata": {},
   "outputs": [],
   "source": [
    "nltk.download('vader_lexicon')"
   ]
  },
  {
   "cell_type": "code",
   "execution_count": null,
   "id": "4a3a89fd",
   "metadata": {},
   "outputs": [],
   "source": [
    "# Improved dictionary for replacing abbreviations and unclear words"
   ]
  },
  {
   "cell_type": "code",
   "execution_count": null,
   "id": "61e22707",
   "metadata": {},
   "outputs": [],
   "source": [
    "replacement_dict = {"
   ]
  },
  {
   "cell_type": "code",
   "execution_count": null,
   "id": "7c3a716d",
   "metadata": {},
   "outputs": [],
   "source": [
    "    'eur': 'euro',"
   ]
  },
  {
   "cell_type": "code",
   "execution_count": null,
   "id": "9d9ff9d5",
   "metadata": {},
   "outputs": [],
   "source": [
    "    'mn': 'million',"
   ]
  },
  {
   "cell_type": "code",
   "execution_count": null,
   "id": "75334d35",
   "metadata": {},
   "outputs": [],
   "source": [
    "    'mln': 'million',"
   ]
  },
  {
   "cell_type": "code",
   "execution_count": null,
   "id": "33b220f2",
   "metadata": {},
   "outputs": [],
   "source": [
    "    'oyj': 'company',"
   ]
  },
  {
   "cell_type": "code",
   "execution_count": null,
   "id": "c19c550e",
   "metadata": {},
   "outputs": [],
   "source": [
    "    'pct': 'percent',"
   ]
  },
  {
   "cell_type": "code",
   "execution_count": null,
   "id": "4247baac",
   "metadata": {},
   "outputs": [],
   "source": [
    "    'hel': 'Helsinki',"
   ]
  },
  {
   "cell_type": "code",
   "execution_count": null,
   "id": "cc42b1f9",
   "metadata": {},
   "outputs": [],
   "source": [
    "    'eurm': 'euro million'  # Assuming eurm means euro million"
   ]
  },
  {
   "cell_type": "code",
   "execution_count": null,
   "id": "3c4ffa24",
   "metadata": {},
   "outputs": [],
   "source": [
    "}"
   ]
  },
  {
   "cell_type": "code",
   "execution_count": null,
   "id": "e55e21a1",
   "metadata": {},
   "outputs": [],
   "source": []
  },
  {
   "cell_type": "code",
   "execution_count": null,
   "id": "fdb03eb2",
   "metadata": {},
   "outputs": [],
   "source": [
    "def preprocess_text(text):"
   ]
  },
  {
   "cell_type": "code",
   "execution_count": null,
   "id": "492771a1",
   "metadata": {},
   "outputs": [],
   "source": [
    "    # Remove HTML tags"
   ]
  },
  {
   "cell_type": "code",
   "execution_count": null,
   "id": "0f00d7b1",
   "metadata": {},
   "outputs": [],
   "source": [
    "    text = re.sub(r'<.*?>', '', text)"
   ]
  },
  {
   "cell_type": "code",
   "execution_count": null,
   "id": "d83decc1",
   "metadata": {},
   "outputs": [],
   "source": [
    "    # Replace hyphens with spaces (to maintain semantic integrity)"
   ]
  },
  {
   "cell_type": "code",
   "execution_count": null,
   "id": "bafae5f2",
   "metadata": {},
   "outputs": [],
   "source": [
    "    text = re.sub(r'-', ' ', text)"
   ]
  },
  {
   "cell_type": "code",
   "execution_count": null,
   "id": "7ffd18a2",
   "metadata": {},
   "outputs": [],
   "source": [
    "    # Remove punctuation except for periods (which can help in maintaining sentence boundaries)"
   ]
  },
  {
   "cell_type": "code",
   "execution_count": null,
   "id": "901c63a0",
   "metadata": {},
   "outputs": [],
   "source": [
    "    text = re.sub(r'[^\\w\\s\\.]', '', text)"
   ]
  },
  {
   "cell_type": "code",
   "execution_count": null,
   "id": "8ca1e418",
   "metadata": {},
   "outputs": [],
   "source": [
    "    # Convert text to lowercase"
   ]
  },
  {
   "cell_type": "code",
   "execution_count": null,
   "id": "77048a92",
   "metadata": {},
   "outputs": [],
   "source": [
    "    text = text.lower()"
   ]
  },
  {
   "cell_type": "code",
   "execution_count": null,
   "id": "4f2cc384",
   "metadata": {},
   "outputs": [],
   "source": [
    "    # Tokenize text"
   ]
  },
  {
   "cell_type": "code",
   "execution_count": null,
   "id": "29fcec30",
   "metadata": {},
   "outputs": [],
   "source": [
    "    tokens = word_tokenize(text)"
   ]
  },
  {
   "cell_type": "code",
   "execution_count": null,
   "id": "ffcab32c",
   "metadata": {},
   "outputs": [],
   "source": [
    "    # Lemmatization (Avoid lemmatizing negations to preserve their form)"
   ]
  },
  {
   "cell_type": "code",
   "execution_count": null,
   "id": "ed61be17",
   "metadata": {},
   "outputs": [],
   "source": [
    "    lemmatizer = WordNetLemmatizer()"
   ]
  },
  {
   "cell_type": "code",
   "execution_count": null,
   "id": "5db18e50",
   "metadata": {},
   "outputs": [],
   "source": [
    "    tokens = [lemmatizer.lemmatize(word) if not plural_related(word) else word for word in tokens]"
   ]
  }
 ],
 "metadata": {},
 "nbformat": 4,
 "nbformat_minor": 5
}
