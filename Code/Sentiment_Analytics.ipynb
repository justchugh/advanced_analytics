{
 "cells": [
  {
   "cell_type": "code",
   "execution_count": null,
   "id": "58f3d6da",
   "metadata": {},
   "outputs": [],
   "source": [
    "# EDA"
   ]
  },
  {
   "cell_type": "code",
   "execution_count": null,
   "id": "47cd0adb",
   "metadata": {},
   "outputs": [],
   "source": [
    "## Text Lenghts"
   ]
  },
  {
   "cell_type": "code",
   "execution_count": null,
   "id": "06018210",
   "metadata": {},
   "outputs": [],
   "source": [
    "# Visualize the distribution of text lengths"
   ]
  },
  {
   "cell_type": "code",
   "execution_count": null,
   "id": "1a033f38",
   "metadata": {},
   "outputs": [],
   "source": [
    "plt.figure(figsize=(10, 6))"
   ]
  },
  {
   "cell_type": "code",
   "execution_count": null,
   "id": "054f170c",
   "metadata": {},
   "outputs": [],
   "source": [
    "sns.histplot(df['cleaned_length'], bins=30, color='purple')"
   ]
  },
  {
   "cell_type": "code",
   "execution_count": null,
   "id": "66a65597",
   "metadata": {},
   "outputs": [],
   "source": [
    "plt.title('Distribution of Text Lengths')"
   ]
  },
  {
   "cell_type": "code",
   "execution_count": null,
   "id": "f1e14a38",
   "metadata": {},
   "outputs": [],
   "source": [
    "plt.xlabel('Length of Text (number of words)')"
   ]
  },
  {
   "cell_type": "code",
   "execution_count": null,
   "id": "5b43b338",
   "metadata": {},
   "outputs": [],
   "source": [
    "plt.ylabel('Frequency')"
   ]
  },
  {
   "cell_type": "code",
   "execution_count": null,
   "id": "1fafe492",
   "metadata": {},
   "outputs": [],
   "source": [
    "plt.show()"
   ]
  },
  {
   "cell_type": "code",
   "execution_count": null,
   "id": "f01e1908",
   "metadata": {},
   "outputs": [],
   "source": [
    "import pandas as pd"
   ]
  },
  {
   "cell_type": "code",
   "execution_count": null,
   "id": "2e375c58",
   "metadata": {},
   "outputs": [],
   "source": [
    "from sklearn.feature_extraction.text import CountVectorizer"
   ]
  },
  {
   "cell_type": "code",
   "execution_count": null,
   "id": "b5315981",
   "metadata": {},
   "outputs": [],
   "source": [
    "import matplotlib.pyplot as plt"
   ]
  },
  {
   "cell_type": "code",
   "execution_count": null,
   "id": "b46ae316",
   "metadata": {},
   "outputs": [],
   "source": []
  },
  {
   "cell_type": "code",
   "execution_count": null,
   "id": "26ec9c32",
   "metadata": {},
   "outputs": [],
   "source": [
    "# Assuming 'df' is your DataFrame and 'cleaned_text' is the column with the text data"
   ]
  },
  {
   "cell_type": "code",
   "execution_count": null,
   "id": "6bb52841",
   "metadata": {},
   "outputs": [],
   "source": [
    "vectorizer = CountVectorizer()"
   ]
  },
  {
   "cell_type": "code",
   "execution_count": null,
   "id": "2f49f77a",
   "metadata": {},
   "outputs": [],
   "source": [
    "X = vectorizer.fit_transform(df['cleaned_text'])"
   ]
  },
  {
   "cell_type": "code",
   "execution_count": null,
   "id": "75a080b0",
   "metadata": {},
   "outputs": [],
   "source": []
  },
  {
   "cell_type": "code",
   "execution_count": null,
   "id": "bd8992f3",
   "metadata": {},
   "outputs": [],
   "source": [
    "# Summing up the counts of each vocabulary word"
   ]
  },
  {
   "cell_type": "code",
   "execution_count": null,
   "id": "4536f3f2",
   "metadata": {},
   "outputs": [],
   "source": [
    "sum_words = X.sum(axis=0)"
   ]
  },
  {
   "cell_type": "code",
   "execution_count": null,
   "id": "9239c5f7",
   "metadata": {},
   "outputs": [],
   "source": [
    "words_freq = [(word, sum_words[0, idx]) for word, idx in vectorizer.vocabulary_.items()]"
   ]
  },
  {
   "cell_type": "code",
   "execution_count": null,
   "id": "b27a66f6",
   "metadata": {},
   "outputs": [],
   "source": [
    "words_freq = sorted(words_freq, key=lambda x: x[1], reverse=True)"
   ]
  },
  {
   "cell_type": "code",
   "execution_count": null,
   "id": "3fdd4791",
   "metadata": {},
   "outputs": [],
   "source": []
  },
  {
   "cell_type": "code",
   "execution_count": null,
   "id": "51d9df95",
   "metadata": {},
   "outputs": [],
   "source": [
    "# Extracting the top 100 words"
   ]
  },
  {
   "cell_type": "code",
   "execution_count": null,
   "id": "4384e3e0",
   "metadata": {},
   "outputs": [],
   "source": [
    "top_words = words_freq[:60]"
   ]
  },
  {
   "cell_type": "code",
   "execution_count": null,
   "id": "37d8925b",
   "metadata": {},
   "outputs": [],
   "source": []
  },
  {
   "cell_type": "code",
   "execution_count": null,
   "id": "e74e1262",
   "metadata": {},
   "outputs": [],
   "source": [
    "# Converting to DataFrame for better visualization"
   ]
  },
  {
   "cell_type": "code",
   "execution_count": null,
   "id": "09b93c5e",
   "metadata": {},
   "outputs": [],
   "source": [
    "top_words_df = pd.DataFrame(top_words, columns=['Word', 'Frequency'])"
   ]
  },
  {
   "cell_type": "code",
   "execution_count": null,
   "id": "ef19d0bf",
   "metadata": {},
   "outputs": [],
   "source": []
  },
  {
   "cell_type": "code",
   "execution_count": null,
   "id": "127efb75",
   "metadata": {},
   "outputs": [],
   "source": [
    "# Printing the top 100 words with their frequencies"
   ]
  },
  {
   "cell_type": "code",
   "execution_count": null,
   "id": "7ff0ef88",
   "metadata": {},
   "outputs": [],
   "source": [
    "top_words_df"
   ]
  },
  {
   "cell_type": "code",
   "execution_count": null,
   "id": "544f0138",
   "metadata": {},
   "outputs": [],
   "source": [
    "## Calculate and Visualize the Frequency of Individual Words"
   ]
  },
  {
   "cell_type": "code",
   "execution_count": null,
   "id": "f2b36f21",
   "metadata": {},
   "outputs": [],
   "source": []
  },
  {
   "cell_type": "code",
   "execution_count": null,
   "id": "958ad554",
   "metadata": {},
   "outputs": [],
   "source": [
    "from collections import Counter"
   ]
  },
  {
   "cell_type": "code",
   "execution_count": null,
   "id": "91c89731",
   "metadata": {},
   "outputs": [],
   "source": [
    "import itertools"
   ]
  },
  {
   "cell_type": "code",
   "execution_count": null,
   "id": "b4b8695d",
   "metadata": {},
   "outputs": [],
   "source": []
  },
  {
   "cell_type": "code",
   "execution_count": null,
   "id": "f6b2964d",
   "metadata": {},
   "outputs": [],
   "source": [
    "# Count frequencies of all words in the cleaned text"
   ]
  },
  {
   "cell_type": "code",
   "execution_count": null,
   "id": "3c335661",
   "metadata": {},
   "outputs": [],
   "source": [
    "all_words = list(itertools.chain(*df['cleaned_text'].str.split()))"
   ]
  },
  {
   "cell_type": "code",
   "execution_count": null,
   "id": "3bbb073a",
   "metadata": {},
   "outputs": [],
   "source": [
    "word_counts = Counter(all_words)"
   ]
  },
  {
   "cell_type": "code",
   "execution_count": null,
   "id": "53867c12",
   "metadata": {},
   "outputs": [],
   "source": []
  },
  {
   "cell_type": "code",
   "execution_count": null,
   "id": "e6bf798c",
   "metadata": {},
   "outputs": [],
   "source": [
    "# Display the top 20 most common words"
   ]
  },
  {
   "cell_type": "code",
   "execution_count": null,
   "id": "16e5af23",
   "metadata": {},
   "outputs": [],
   "source": [
    "most_common_words = word_counts.most_common(20)"
   ]
  },
  {
   "cell_type": "code",
   "execution_count": null,
   "id": "dc131b95",
   "metadata": {},
   "outputs": [],
   "source": [
    "words, counts = zip(*most_common_words)"
   ]
  },
  {
   "cell_type": "code",
   "execution_count": null,
   "id": "1f0d0a14",
   "metadata": {},
   "outputs": [],
   "source": []
  },
  {
   "cell_type": "code",
   "execution_count": null,
   "id": "48abb88f",
   "metadata": {},
   "outputs": [],
   "source": [
    "# Corrected code to visualize the Top 20 Most Frequent Words"
   ]
  },
  {
   "cell_type": "code",
   "execution_count": null,
   "id": "d482fe76",
   "metadata": {},
   "outputs": [],
   "source": [
    "plt.figure(figsize=(12, 8))"
   ]
  },
  {
   "cell_type": "code",
   "execution_count": null,
   "id": "7c1ca64c",
   "metadata": {},
   "outputs": [],
   "source": [
    "sns.barplot(x=list(words), y=list(counts))  # Explicitly name the parameters"
   ]
  },
  {
   "cell_type": "code",
   "execution_count": null,
   "id": "08178d99",
   "metadata": {},
   "outputs": [],
   "source": [
    "plt.title('Top 20 Most Frequent Words')"
   ]
  },
  {
   "cell_type": "code",
   "execution_count": null,
   "id": "cb0ce13b",
   "metadata": {},
   "outputs": [],
   "source": [
    "plt.xticks(rotation=45)"
   ]
  },
  {
   "cell_type": "code",
   "execution_count": null,
   "id": "69fff498",
   "metadata": {},
   "outputs": [],
   "source": [
    "plt.xlabel('Words')"
   ]
  },
  {
   "cell_type": "code",
   "execution_count": null,
   "id": "c740515d",
   "metadata": {},
   "outputs": [],
   "source": [
    "plt.ylabel('Frequency')"
   ]
  },
  {
   "cell_type": "code",
   "execution_count": null,
   "id": "d27bbd48",
   "metadata": {},
   "outputs": [],
   "source": [
    "plt.show()"
   ]
  },
  {
   "cell_type": "code",
   "execution_count": null,
   "id": "96d43129",
   "metadata": {},
   "outputs": [],
   "source": [
    "## Visualize the Sentiment Distribution"
   ]
  },
  {
   "cell_type": "code",
   "execution_count": null,
   "id": "41a47a56",
   "metadata": {},
   "outputs": [],
   "source": []
  },
  {
   "cell_type": "code",
   "execution_count": null,
   "id": "d3be099c",
   "metadata": {},
   "outputs": [],
   "source": [
    "print(df.columns)"
   ]
  },
  {
   "cell_type": "code",
   "execution_count": null,
   "id": "194cfe9f",
   "metadata": {},
   "outputs": [],
   "source": [
    "sns.countplot(x=df['class'])"
   ]
  },
  {
   "cell_type": "code",
   "execution_count": null,
   "id": "ac42348b",
   "metadata": {},
   "outputs": [],
   "source": [
    "plt.title('Distribution of Sentiment Labels')"
   ]
  },
  {
   "cell_type": "code",
   "execution_count": null,
   "id": "8d61dd0a",
   "metadata": {},
   "outputs": [],
   "source": [
    "plt.xlabel('Sentiment')"
   ]
  },
  {
   "cell_type": "code",
   "execution_count": null,
   "id": "163408a8",
   "metadata": {},
   "outputs": [],
   "source": [
    "plt.ylabel('Count')"
   ]
  },
  {
   "cell_type": "code",
   "execution_count": null,
   "id": "addaeebd",
   "metadata": {},
   "outputs": [],
   "source": [
    "plt.show()"
   ]
  },
  {
   "cell_type": "code",
   "execution_count": null,
   "id": "df70c251",
   "metadata": {},
   "outputs": [],
   "source": []
  },
  {
   "cell_type": "code",
   "execution_count": null,
   "id": "e6a1a657",
   "metadata": {},
   "outputs": [],
   "source": [
    "# Calculate class imbalance ratio"
   ]
  },
  {
   "cell_type": "code",
   "execution_count": null,
   "id": "af38bacb",
   "metadata": {},
   "outputs": [],
   "source": [
    "positive_count = df[df['class'] == 'positive'].shape[0]"
   ]
  },
  {
   "cell_type": "code",
   "execution_count": null,
   "id": "5b4a3017",
   "metadata": {},
   "outputs": [],
   "source": [
    "negative_count = df[df['class'] == 'negative'].shape[0]"
   ]
  },
  {
   "cell_type": "code",
   "execution_count": null,
   "id": "c4729414",
   "metadata": {},
   "outputs": [],
   "source": [
    "ratio = positive_count / negative_count"
   ]
  },
  {
   "cell_type": "code",
   "execution_count": null,
   "id": "b422af41",
   "metadata": {},
   "outputs": [],
   "source": [
    "print(f\"Ratio of Positive to Negative Samples: {ratio:.2f}\")"
   ]
  },
  {
   "cell_type": "code",
   "execution_count": null,
   "id": "244c0cab",
   "metadata": {},
   "outputs": [],
   "source": [
    "sentiment_counts = df['class'].value_counts()"
   ]
  },
  {
   "cell_type": "code",
   "execution_count": null,
   "id": "e04bb564",
   "metadata": {},
   "outputs": [],
   "source": [
    "plt.figure(figsize=(8, 8))"
   ]
  },
  {
   "cell_type": "code",
   "execution_count": null,
   "id": "370ebbc5",
   "metadata": {},
   "outputs": [],
   "source": [
    "plt.pie(sentiment_counts, labels=sentiment_counts.index, autopct='%1.1f%%', startangle=140, colors=['skyblue', 'orange', 'green'])"
   ]
  },
  {
   "cell_type": "code",
   "execution_count": null,
   "id": "00503fc3",
   "metadata": {},
   "outputs": [],
   "source": [
    "plt.title('Pie Chart of Sentiment Distribution')"
   ]
  }
 ],
 "metadata": {},
 "nbformat": 4,
 "nbformat_minor": 5
}
