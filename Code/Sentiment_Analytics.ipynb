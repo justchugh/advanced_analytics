{
 "cells": [
  {
   "cell_type": "code",
   "execution_count": null,
   "id": "85191dff",
   "metadata": {},
   "outputs": [],
   "source": [
    "##roBERTa"
   ]
  },
  {
   "cell_type": "code",
   "execution_count": null,
   "id": "69b50a47",
   "metadata": {},
   "outputs": [],
   "source": [
    "!pip install transformers torch"
   ]
  },
  {
   "cell_type": "code",
   "execution_count": null,
   "id": "019d4bfa",
   "metadata": {},
   "outputs": [],
   "source": []
  },
  {
   "cell_type": "code",
   "execution_count": null,
   "id": "c7dd6b9a",
   "metadata": {},
   "outputs": [],
   "source": [
    "import pandas as pd"
   ]
  },
  {
   "cell_type": "code",
   "execution_count": null,
   "id": "90eaa5d1",
   "metadata": {},
   "outputs": [],
   "source": [
    "from transformers import RobertaTokenizer, RobertaForSequenceClassification"
   ]
  },
  {
   "cell_type": "code",
   "execution_count": null,
   "id": "30445771",
   "metadata": {},
   "outputs": [],
   "source": [
    "import torch"
   ]
  },
  {
   "cell_type": "code",
   "execution_count": null,
   "id": "2298e07d",
   "metadata": {},
   "outputs": [],
   "source": [
    "from torch.utils.data import DataLoader, TensorDataset"
   ]
  },
  {
   "cell_type": "code",
   "execution_count": null,
   "id": "141eaefd",
   "metadata": {},
   "outputs": [],
   "source": [
    "from sklearn.model_selection import train_test_split"
   ]
  },
  {
   "cell_type": "code",
   "execution_count": null,
   "id": "b73890c3",
   "metadata": {},
   "outputs": [],
   "source": [
    "from sklearn.preprocessing import LabelEncoder"
   ]
  },
  {
   "cell_type": "code",
   "execution_count": null,
   "id": "5dc30f2a",
   "metadata": {},
   "outputs": [],
   "source": []
  },
  {
   "cell_type": "code",
   "execution_count": null,
   "id": "3742d17b",
   "metadata": {},
   "outputs": [],
   "source": [
    "# Encoding labels ('positive', 'negative', 'neutral') to numerical values"
   ]
  },
  {
   "cell_type": "code",
   "execution_count": null,
   "id": "3f9a9d1c",
   "metadata": {},
   "outputs": [],
   "source": [
    "label_encoder = LabelEncoder()"
   ]
  },
  {
   "cell_type": "code",
   "execution_count": null,
   "id": "4ec523a8",
   "metadata": {},
   "outputs": [],
   "source": [
    "df['class'] = label_encoder.fit_transform(df['class'])"
   ]
  },
  {
   "cell_type": "code",
   "execution_count": null,
   "id": "3cf08658",
   "metadata": {},
   "outputs": [],
   "source": []
  },
  {
   "cell_type": "code",
   "execution_count": null,
   "id": "b3f10ff3",
   "metadata": {},
   "outputs": [],
   "source": [
    "# Tokenization and Data Preparation (using cleaned text)"
   ]
  },
  {
   "cell_type": "code",
   "execution_count": null,
   "id": "1520105c",
   "metadata": {},
   "outputs": [],
   "source": [
    "tokenizer = RobertaTokenizer.from_pretrained('roberta-base')"
   ]
  },
  {
   "cell_type": "code",
   "execution_count": null,
   "id": "540951c5",
   "metadata": {},
   "outputs": [],
   "source": [
    "encoded_data = tokenizer.batch_encode_plus("
   ]
  },
  {
   "cell_type": "code",
   "execution_count": null,
   "id": "63bbd449",
   "metadata": {},
   "outputs": [],
   "source": [
    "    df['cleaned_text'].tolist(),"
   ]
  },
  {
   "cell_type": "code",
   "execution_count": null,
   "id": "dda6d1f4",
   "metadata": {},
   "outputs": [],
   "source": [
    "    add_special_tokens=True,"
   ]
  },
  {
   "cell_type": "code",
   "execution_count": null,
   "id": "90111d9c",
   "metadata": {},
   "outputs": [],
   "source": [
    "    return_attention_mask=True,"
   ]
  },
  {
   "cell_type": "code",
   "execution_count": null,
   "id": "14dfcd14",
   "metadata": {},
   "outputs": [],
   "source": [
    "    padding='max_length',"
   ]
  },
  {
   "cell_type": "code",
   "execution_count": null,
   "id": "0ae4870c",
   "metadata": {},
   "outputs": [],
   "source": [
    "    max_length=128,  # Adjust if your sentences are longer"
   ]
  },
  {
   "cell_type": "code",
   "execution_count": null,
   "id": "7a4eca12",
   "metadata": {},
   "outputs": [],
   "source": [
    "    truncation=True,"
   ]
  },
  {
   "cell_type": "code",
   "execution_count": null,
   "id": "65c5a01a",
   "metadata": {},
   "outputs": [],
   "source": [
    "    return_tensors='pt'"
   ]
  },
  {
   "cell_type": "code",
   "execution_count": null,
   "id": "fc79c333",
   "metadata": {},
   "outputs": [],
   "source": [
    ")"
   ]
  },
  {
   "cell_type": "code",
   "execution_count": null,
   "id": "6c9d6b75",
   "metadata": {},
   "outputs": [],
   "source": []
  }
 ],
 "metadata": {},
 "nbformat": 4,
 "nbformat_minor": 5
}
