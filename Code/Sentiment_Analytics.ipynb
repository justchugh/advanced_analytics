{
 "cells": [
  {
   "cell_type": "code",
   "execution_count": null,
   "id": "6c15a8df",
   "metadata": {},
   "outputs": [],
   "source": [
    "%cd /content/drive/MyDrive/ri/code/data"
   ]
  },
  {
   "cell_type": "code",
   "execution_count": null,
   "id": "4a60d52b",
   "metadata": {},
   "outputs": [],
   "source": [
    "import re"
   ]
  },
  {
   "cell_type": "code",
   "execution_count": null,
   "id": "c9d60b8b",
   "metadata": {},
   "outputs": [],
   "source": [
    "import itertools"
   ]
  },
  {
   "cell_type": "code",
   "execution_count": null,
   "id": "31439a40",
   "metadata": {},
   "outputs": [],
   "source": []
  },
  {
   "cell_type": "code",
   "execution_count": null,
   "id": "52641eea",
   "metadata": {},
   "outputs": [],
   "source": [
    "import nltk"
   ]
  },
  {
   "cell_type": "code",
   "execution_count": null,
   "id": "4160ae54",
   "metadata": {},
   "outputs": [],
   "source": [
    "from nltk.corpus import stopwords"
   ]
  },
  {
   "cell_type": "code",
   "execution_count": null,
   "id": "20b993f4",
   "metadata": {},
   "outputs": [],
   "source": [
    "from nltk.tokenize import word_tokenize"
   ]
  },
  {
   "cell_type": "code",
   "execution_count": null,
   "id": "eccbe06c",
   "metadata": {},
   "outputs": [],
   "source": [
    "from nltk.stem import WordNetLemmatizer"
   ]
  },
  {
   "cell_type": "code",
   "execution_count": null,
   "id": "c284deda",
   "metadata": {},
   "outputs": [],
   "source": [
    "from nltk.sentiment import SentimentIntensityAnalyzer"
   ]
  },
  {
   "cell_type": "code",
   "execution_count": null,
   "id": "146ab407",
   "metadata": {},
   "outputs": [],
   "source": []
  },
  {
   "cell_type": "code",
   "execution_count": null,
   "id": "3a40c8ef",
   "metadata": {},
   "outputs": [],
   "source": [
    "import pandas as pd"
   ]
  },
  {
   "cell_type": "code",
   "execution_count": null,
   "id": "79b21849",
   "metadata": {},
   "outputs": [],
   "source": [
    "import seaborn as sns"
   ]
  },
  {
   "cell_type": "code",
   "execution_count": null,
   "id": "3813a122",
   "metadata": {},
   "outputs": [],
   "source": [
    "import matplotlib.pyplot as plt"
   ]
  },
  {
   "cell_type": "code",
   "execution_count": null,
   "id": "56018319",
   "metadata": {},
   "outputs": [],
   "source": []
  },
  {
   "cell_type": "code",
   "execution_count": null,
   "id": "9ceada10",
   "metadata": {},
   "outputs": [],
   "source": [
    "from sklearn.feature_extraction.text import CountVectorizer, TfidfVectorizer"
   ]
  },
  {
   "cell_type": "code",
   "execution_count": null,
   "id": "cc92d7b5",
   "metadata": {},
   "outputs": [],
   "source": []
  },
  {
   "cell_type": "code",
   "execution_count": null,
   "id": "fc232ec5",
   "metadata": {},
   "outputs": [],
   "source": [
    "from collections import Counter"
   ]
  },
  {
   "cell_type": "code",
   "execution_count": null,
   "id": "f325f457",
   "metadata": {},
   "outputs": [],
   "source": [
    "#Data Understanding and Preparation"
   ]
  },
  {
   "cell_type": "code",
   "execution_count": null,
   "id": "4722f57b",
   "metadata": {},
   "outputs": [],
   "source": [
    "## Import Libraries and Load Data"
   ]
  },
  {
   "cell_type": "code",
   "execution_count": null,
   "id": "f5c061ff",
   "metadata": {},
   "outputs": [],
   "source": []
  },
  {
   "cell_type": "code",
   "execution_count": null,
   "id": "4e211c00",
   "metadata": {},
   "outputs": [],
   "source": [
    "df = pd.read_csv('/content/drive/MyDrive/ri/code/data/A1_standard.csv')"
   ]
  },
  {
   "cell_type": "code",
   "execution_count": null,
   "id": "9cc4b8b3",
   "metadata": {},
   "outputs": [],
   "source": [
    "print(df.head())"
   ]
  },
  {
   "cell_type": "code",
   "execution_count": null,
   "id": "2b3e59c0",
   "metadata": {},
   "outputs": [],
   "source": [
    "## Data Information and Missing Values"
   ]
  },
  {
   "cell_type": "code",
   "execution_count": null,
   "id": "829f2167",
   "metadata": {},
   "outputs": [],
   "source": []
  },
  {
   "cell_type": "code",
   "execution_count": null,
   "id": "1024fa70",
   "metadata": {},
   "outputs": [],
   "source": [
    "df.info()"
   ]
  },
  {
   "cell_type": "code",
   "execution_count": null,
   "id": "c3916aac",
   "metadata": {},
   "outputs": [],
   "source": []
  },
  {
   "cell_type": "code",
   "execution_count": null,
   "id": "84515fab",
   "metadata": {},
   "outputs": [],
   "source": [
    "import seaborn as sns"
   ]
  },
  {
   "cell_type": "code",
   "execution_count": null,
   "id": "82ae8a89",
   "metadata": {},
   "outputs": [],
   "source": [
    "import matplotlib.pyplot as plt"
   ]
  },
  {
   "cell_type": "code",
   "execution_count": null,
   "id": "1a50ecaa",
   "metadata": {},
   "outputs": [],
   "source": []
  },
  {
   "cell_type": "code",
   "execution_count": null,
   "id": "30400f53",
   "metadata": {},
   "outputs": [],
   "source": [
    "sns.heatmap(df.isnull(), cbar=False, cmap='viridis')"
   ]
  },
  {
   "cell_type": "code",
   "execution_count": null,
   "id": "43e6079d",
   "metadata": {},
   "outputs": [],
   "source": [
    "plt.title('Missing Data Visualization')"
   ]
  },
  {
   "cell_type": "code",
   "execution_count": null,
   "id": "638c5bbf",
   "metadata": {},
   "outputs": [],
   "source": [
    "plt.show()"
   ]
  },
  {
   "cell_type": "code",
   "execution_count": null,
   "id": "abbfb082",
   "metadata": {},
   "outputs": [],
   "source": []
  },
  {
   "cell_type": "code",
   "execution_count": null,
   "id": "b8c3d47a",
   "metadata": {},
   "outputs": [],
   "source": [
    "# Handle Missing Values, given there are none but still"
   ]
  },
  {
   "cell_type": "code",
   "execution_count": null,
   "id": "37e3bd3c",
   "metadata": {},
   "outputs": [],
   "source": [
    "if df['text'].isnull().sum() > 0:"
   ]
  },
  {
   "cell_type": "code",
   "execution_count": null,
   "id": "5abd9a16",
   "metadata": {},
   "outputs": [],
   "source": [
    "    df['text'] = df['text'].fillna('no_text')"
   ]
  },
  {
   "cell_type": "code",
   "execution_count": null,
   "id": "b1b6feb8",
   "metadata": {},
   "outputs": [],
   "source": [
    "    # df.dropna(subset=['text'], inplace=True)"
   ]
  },
  {
   "cell_type": "code",
   "execution_count": null,
   "id": "c402c213",
   "metadata": {},
   "outputs": [],
   "source": [
    "## Remove Noise, Tokenize, and Normalize Text"
   ]
  },
  {
   "cell_type": "code",
   "execution_count": null,
   "id": "4a4f7363",
   "metadata": {},
   "outputs": [],
   "source": []
  },
  {
   "cell_type": "code",
   "execution_count": null,
   "id": "717161dd",
   "metadata": {},
   "outputs": [],
   "source": [
    "# Ensure nltk resources are downloaded (first time run)"
   ]
  },
  {
   "cell_type": "code",
   "execution_count": null,
   "id": "48ed1b46",
   "metadata": {},
   "outputs": [],
   "source": [
    "import nltk"
   ]
  },
  {
   "cell_type": "code",
   "execution_count": null,
   "id": "5ca1e1ca",
   "metadata": {},
   "outputs": [],
   "source": [
    "nltk.download('punkt')"
   ]
  },
  {
   "cell_type": "code",
   "execution_count": null,
   "id": "65a66000",
   "metadata": {},
   "outputs": [],
   "source": [
    "nltk.download('stopwords')"
   ]
  },
  {
   "cell_type": "code",
   "execution_count": null,
   "id": "05ac7bef",
   "metadata": {},
   "outputs": [],
   "source": [
    "nltk.download('wordnet')"
   ]
  },
  {
   "cell_type": "code",
   "execution_count": null,
   "id": "7056e6ff",
   "metadata": {},
   "outputs": [],
   "source": [
    "nltk.download('averaged_perceptron_tagger')"
   ]
  },
  {
   "cell_type": "code",
   "execution_count": null,
   "id": "42b03653",
   "metadata": {},
   "outputs": [],
   "source": [
    "nltk.download('vader_lexicon')"
   ]
  },
  {
   "cell_type": "code",
   "execution_count": null,
   "id": "1ee96def",
   "metadata": {},
   "outputs": [],
   "source": [
    "# Improved dictionary for replacing abbreviations and unclear words"
   ]
  },
  {
   "cell_type": "code",
   "execution_count": null,
   "id": "6aff5c6d",
   "metadata": {},
   "outputs": [],
   "source": [
    "replacement_dict = {"
   ]
  },
  {
   "cell_type": "code",
   "execution_count": null,
   "id": "29336c06",
   "metadata": {},
   "outputs": [],
   "source": [
    "    'eur': 'euro',"
   ]
  },
  {
   "cell_type": "code",
   "execution_count": null,
   "id": "37ace63d",
   "metadata": {},
   "outputs": [],
   "source": [
    "    'mn': 'million',"
   ]
  },
  {
   "cell_type": "code",
   "execution_count": null,
   "id": "27dbfff7",
   "metadata": {},
   "outputs": [],
   "source": [
    "    'mln': 'million',"
   ]
  },
  {
   "cell_type": "code",
   "execution_count": null,
   "id": "d7a47a16",
   "metadata": {},
   "outputs": [],
   "source": [
    "    'oyj': 'company',"
   ]
  },
  {
   "cell_type": "code",
   "execution_count": null,
   "id": "69321791",
   "metadata": {},
   "outputs": [],
   "source": [
    "    'pct': 'percent',"
   ]
  },
  {
   "cell_type": "code",
   "execution_count": null,
   "id": "9d9a676b",
   "metadata": {},
   "outputs": [],
   "source": [
    "    'hel': 'Helsinki',"
   ]
  },
  {
   "cell_type": "code",
   "execution_count": null,
   "id": "5be68de5",
   "metadata": {},
   "outputs": [],
   "source": [
    "    'eurm': 'euro million'  # Assuming eurm means euro million"
   ]
  },
  {
   "cell_type": "code",
   "execution_count": null,
   "id": "60d1dd0c",
   "metadata": {},
   "outputs": [],
   "source": [
    "}"
   ]
  },
  {
   "cell_type": "code",
   "execution_count": null,
   "id": "14e97054",
   "metadata": {},
   "outputs": [],
   "source": []
  },
  {
   "cell_type": "code",
   "execution_count": null,
   "id": "c9e43bce",
   "metadata": {},
   "outputs": [],
   "source": [
    "def preprocess_text(text):"
   ]
  },
  {
   "cell_type": "code",
   "execution_count": null,
   "id": "4bde8155",
   "metadata": {},
   "outputs": [],
   "source": [
    "    # Remove HTML tags"
   ]
  },
  {
   "cell_type": "code",
   "execution_count": null,
   "id": "434bb2de",
   "metadata": {},
   "outputs": [],
   "source": [
    "    text = re.sub(r'<.*?>', '', text)"
   ]
  },
  {
   "cell_type": "code",
   "execution_count": null,
   "id": "e03683d6",
   "metadata": {},
   "outputs": [],
   "source": [
    "    # Replace hyphens with spaces (to maintain semantic integrity)"
   ]
  },
  {
   "cell_type": "code",
   "execution_count": null,
   "id": "5be3704c",
   "metadata": {},
   "outputs": [],
   "source": [
    "    text = re.sub(r'-', ' ', text)"
   ]
  },
  {
   "cell_type": "code",
   "execution_count": null,
   "id": "eb74cbf9",
   "metadata": {},
   "outputs": [],
   "source": [
    "    # Remove punctuation except for periods (which can help in maintaining sentence boundaries)"
   ]
  },
  {
   "cell_type": "code",
   "execution_count": null,
   "id": "ac1c500a",
   "metadata": {},
   "outputs": [],
   "source": [
    "    text = re.sub(r'[^\\w\\s\\.]', '', text)"
   ]
  },
  {
   "cell_type": "code",
   "execution_count": null,
   "id": "6194f24d",
   "metadata": {},
   "outputs": [],
   "source": [
    "    # Convert text to lowercase"
   ]
  },
  {
   "cell_type": "code",
   "execution_count": null,
   "id": "3db86474",
   "metadata": {},
   "outputs": [],
   "source": [
    "    text = text.lower()"
   ]
  }
 ],
 "metadata": {},
 "nbformat": 4,
 "nbformat_minor": 5
}
