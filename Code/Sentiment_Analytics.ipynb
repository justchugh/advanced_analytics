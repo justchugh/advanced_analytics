{
 "cells": [
  {
   "cell_type": "code",
   "execution_count": null,
   "id": "75503b69",
   "metadata": {},
   "outputs": [],
   "source": [
    "##roBERTa"
   ]
  },
  {
   "cell_type": "code",
   "execution_count": null,
   "id": "555dfb6b",
   "metadata": {},
   "outputs": [],
   "source": [
    "!pip install transformers torch"
   ]
  },
  {
   "cell_type": "code",
   "execution_count": null,
   "id": "e6c86a1a",
   "metadata": {},
   "outputs": [],
   "source": []
  },
  {
   "cell_type": "code",
   "execution_count": null,
   "id": "df817506",
   "metadata": {},
   "outputs": [],
   "source": [
    "import pandas as pd"
   ]
  },
  {
   "cell_type": "code",
   "execution_count": null,
   "id": "0e01c793",
   "metadata": {},
   "outputs": [],
   "source": [
    "from transformers import RobertaTokenizer, RobertaForSequenceClassification"
   ]
  },
  {
   "cell_type": "code",
   "execution_count": null,
   "id": "27f93ae0",
   "metadata": {},
   "outputs": [],
   "source": [
    "import torch"
   ]
  },
  {
   "cell_type": "code",
   "execution_count": null,
   "id": "0d75b8aa",
   "metadata": {},
   "outputs": [],
   "source": [
    "from torch.utils.data import DataLoader, TensorDataset"
   ]
  },
  {
   "cell_type": "code",
   "execution_count": null,
   "id": "99e1a2af",
   "metadata": {},
   "outputs": [],
   "source": [
    "from sklearn.model_selection import train_test_split"
   ]
  },
  {
   "cell_type": "code",
   "execution_count": null,
   "id": "91f9b918",
   "metadata": {},
   "outputs": [],
   "source": [
    "from sklearn.preprocessing import LabelEncoder"
   ]
  },
  {
   "cell_type": "code",
   "execution_count": null,
   "id": "64f32a0d",
   "metadata": {},
   "outputs": [],
   "source": []
  },
  {
   "cell_type": "code",
   "execution_count": null,
   "id": "09132742",
   "metadata": {},
   "outputs": [],
   "source": [
    "# Encoding labels ('positive', 'negative', 'neutral') to numerical values"
   ]
  },
  {
   "cell_type": "code",
   "execution_count": null,
   "id": "4351dcb1",
   "metadata": {},
   "outputs": [],
   "source": [
    "label_encoder = LabelEncoder()"
   ]
  },
  {
   "cell_type": "code",
   "execution_count": null,
   "id": "e01f2570",
   "metadata": {},
   "outputs": [],
   "source": [
    "df['class'] = label_encoder.fit_transform(df['class'])"
   ]
  },
  {
   "cell_type": "code",
   "execution_count": null,
   "id": "6a82af48",
   "metadata": {},
   "outputs": [],
   "source": []
  },
  {
   "cell_type": "code",
   "execution_count": null,
   "id": "5c1ef629",
   "metadata": {},
   "outputs": [],
   "source": [
    "# Tokenization and Data Preparation (using cleaned text)"
   ]
  },
  {
   "cell_type": "code",
   "execution_count": null,
   "id": "1f5febfb",
   "metadata": {},
   "outputs": [],
   "source": [
    "tokenizer = RobertaTokenizer.from_pretrained('roberta-base')"
   ]
  },
  {
   "cell_type": "code",
   "execution_count": null,
   "id": "173c4bc5",
   "metadata": {},
   "outputs": [],
   "source": [
    "encoded_data = tokenizer.batch_encode_plus("
   ]
  },
  {
   "cell_type": "code",
   "execution_count": null,
   "id": "cedc3720",
   "metadata": {},
   "outputs": [],
   "source": [
    "    df['cleaned_text'].tolist(),"
   ]
  },
  {
   "cell_type": "code",
   "execution_count": null,
   "id": "02969c67",
   "metadata": {},
   "outputs": [],
   "source": [
    "    add_special_tokens=True,"
   ]
  },
  {
   "cell_type": "code",
   "execution_count": null,
   "id": "8f8a591b",
   "metadata": {},
   "outputs": [],
   "source": [
    "    return_attention_mask=True,"
   ]
  },
  {
   "cell_type": "code",
   "execution_count": null,
   "id": "66264f0e",
   "metadata": {},
   "outputs": [],
   "source": [
    "    padding='max_length',"
   ]
  },
  {
   "cell_type": "code",
   "execution_count": null,
   "id": "be58c200",
   "metadata": {},
   "outputs": [],
   "source": [
    "    max_length=128,  # Adjust if your sentences are longer"
   ]
  },
  {
   "cell_type": "code",
   "execution_count": null,
   "id": "ce0adf8c",
   "metadata": {},
   "outputs": [],
   "source": [
    "    truncation=True,"
   ]
  },
  {
   "cell_type": "code",
   "execution_count": null,
   "id": "e0c21e82",
   "metadata": {},
   "outputs": [],
   "source": [
    "    return_tensors='pt'"
   ]
  },
  {
   "cell_type": "code",
   "execution_count": null,
   "id": "e896cfa3",
   "metadata": {},
   "outputs": [],
   "source": [
    ")"
   ]
  },
  {
   "cell_type": "code",
   "execution_count": null,
   "id": "5e32c995",
   "metadata": {},
   "outputs": [],
   "source": []
  },
  {
   "cell_type": "code",
   "execution_count": null,
   "id": "4341e3d6",
   "metadata": {},
   "outputs": [],
   "source": [
    "input_ids = encoded_data['input_ids']"
   ]
  },
  {
   "cell_type": "code",
   "execution_count": null,
   "id": "85777db8",
   "metadata": {},
   "outputs": [],
   "source": [
    "attention_masks = encoded_data['attention_mask']"
   ]
  },
  {
   "cell_type": "code",
   "execution_count": null,
   "id": "71868368",
   "metadata": {},
   "outputs": [],
   "source": [
    "labels = torch.tensor(df['label'].tolist())"
   ]
  },
  {
   "cell_type": "code",
   "execution_count": null,
   "id": "bff42c64",
   "metadata": {},
   "outputs": [],
   "source": []
  },
  {
   "cell_type": "code",
   "execution_count": null,
   "id": "38220333",
   "metadata": {},
   "outputs": [],
   "source": [
    "# Split into training and testing sets"
   ]
  },
  {
   "cell_type": "code",
   "execution_count": null,
   "id": "f704f262",
   "metadata": {},
   "outputs": [],
   "source": [
    "train_inputs, test_inputs, train_labels, test_labels = train_test_split("
   ]
  },
  {
   "cell_type": "code",
   "execution_count": null,
   "id": "09d81c23",
   "metadata": {},
   "outputs": [],
   "source": [
    "    input_ids, labels, random_state=35476648, test_size=0.2"
   ]
  },
  {
   "cell_type": "code",
   "execution_count": null,
   "id": "b9c3c670",
   "metadata": {},
   "outputs": [],
   "source": [
    ")"
   ]
  },
  {
   "cell_type": "code",
   "execution_count": null,
   "id": "3b730487",
   "metadata": {},
   "outputs": [],
   "source": [
    "train_masks, test_masks, _, _ = train_test_split("
   ]
  },
  {
   "cell_type": "code",
   "execution_count": null,
   "id": "d46697b7",
   "metadata": {},
   "outputs": [],
   "source": [
    "    attention_masks, input_ids, random_state=35476648, test_size=0.2"
   ]
  },
  {
   "cell_type": "code",
   "execution_count": null,
   "id": "040c3820",
   "metadata": {},
   "outputs": [],
   "source": [
    ")"
   ]
  },
  {
   "cell_type": "code",
   "execution_count": null,
   "id": "a7c17f9b",
   "metadata": {},
   "outputs": [],
   "source": [
    "# Create DataLoader"
   ]
  },
  {
   "cell_type": "code",
   "execution_count": null,
   "id": "d7a36c0a",
   "metadata": {},
   "outputs": [],
   "source": [
    "train_data = TensorDataset(train_inputs, train_masks, train_labels)"
   ]
  },
  {
   "cell_type": "code",
   "execution_count": null,
   "id": "dfec52bf",
   "metadata": {},
   "outputs": [],
   "source": [
    "train_dataloader = DataLoader(train_data, batch_size=32, shuffle=True)"
   ]
  },
  {
   "cell_type": "code",
   "execution_count": null,
   "id": "7794acf0",
   "metadata": {},
   "outputs": [],
   "source": []
  },
  {
   "cell_type": "code",
   "execution_count": null,
   "id": "3716aa2c",
   "metadata": {},
   "outputs": [],
   "source": [
    "test_data = TensorDataset(test_inputs, test_masks, test_labels)"
   ]
  },
  {
   "cell_type": "code",
   "execution_count": null,
   "id": "6c640be6",
   "metadata": {},
   "outputs": [],
   "source": [
    "test_dataloader = DataLoader(test_data, batch_size=32)"
   ]
  },
  {
   "cell_type": "code",
   "execution_count": null,
   "id": "a9d8c331",
   "metadata": {},
   "outputs": [],
   "source": []
  },
  {
   "cell_type": "code",
   "execution_count": null,
   "id": "edfe3e57",
   "metadata": {},
   "outputs": [],
   "source": [
    "# Load Pre-trained Model"
   ]
  },
  {
   "cell_type": "code",
   "execution_count": null,
   "id": "a73d0a63",
   "metadata": {},
   "outputs": [],
   "source": [
    "model = RobertaForSequenceClassification.from_pretrained(\"roberta-base\", num_labels=3) # 3 labels for positive, negative, neutral"
   ]
  }
 ],
 "metadata": {},
 "nbformat": 4,
 "nbformat_minor": 5
}
