{
 "cells": [
  {
   "cell_type": "code",
   "execution_count": null,
   "id": "92566e57",
   "metadata": {},
   "outputs": [],
   "source": [
    "# Sentiment Analysis Model Development"
   ]
  },
  {
   "cell_type": "code",
   "execution_count": null,
   "id": "d9d99772",
   "metadata": {},
   "outputs": [],
   "source": [
    "## Loading"
   ]
  },
  {
   "cell_type": "code",
   "execution_count": null,
   "id": "f2b66fb1",
   "metadata": {},
   "outputs": [],
   "source": [
    "df = pd.read_csv('eda_data.csv')"
   ]
  },
  {
   "cell_type": "code",
   "execution_count": null,
   "id": "fa315318",
   "metadata": {},
   "outputs": [],
   "source": []
  },
  {
   "cell_type": "code",
   "execution_count": null,
   "id": "01ba56af",
   "metadata": {},
   "outputs": [],
   "source": [
    "# Function to create and return the Bag of Words DataFrame"
   ]
  },
  {
   "cell_type": "code",
   "execution_count": null,
   "id": "99e3d2db",
   "metadata": {},
   "outputs": [],
   "source": [
    "def create_bow_representation(texts, use_tfidf=False, max_features=100):"
   ]
  },
  {
   "cell_type": "code",
   "execution_count": null,
   "id": "f1b06763",
   "metadata": {},
   "outputs": [],
   "source": [
    "    vectorizer = TfidfVectorizer(max_features=max_features) if use_tfidf else CountVectorizer(max_features=max_features)"
   ]
  },
  {
   "cell_type": "code",
   "execution_count": null,
   "id": "ec6bc939",
   "metadata": {},
   "outputs": [],
   "source": [
    "    X = vectorizer.fit_transform(texts)"
   ]
  },
  {
   "cell_type": "code",
   "execution_count": null,
   "id": "30b6ce09",
   "metadata": {},
   "outputs": [],
   "source": [
    "    feature_names = vectorizer.get_feature_names_out()"
   ]
  },
  {
   "cell_type": "code",
   "execution_count": null,
   "id": "c00ff631",
   "metadata": {},
   "outputs": [],
   "source": [
    "    df_bow = pd.DataFrame(X.toarray(), columns=feature_names)"
   ]
  },
  {
   "cell_type": "code",
   "execution_count": null,
   "id": "53cbe101",
   "metadata": {},
   "outputs": [],
   "source": [
    "    return df_bow, feature_names"
   ]
  },
  {
   "cell_type": "code",
   "execution_count": null,
   "id": "9a0a958d",
   "metadata": {},
   "outputs": [],
   "source": []
  },
  {
   "cell_type": "code",
   "execution_count": null,
   "id": "31c8acbf",
   "metadata": {},
   "outputs": [],
   "source": [
    "df_bow, feature_names = create_bow_representation(df['cleaned_text'], use_tfidf=False, max_features=50)"
   ]
  },
  {
   "cell_type": "code",
   "execution_count": null,
   "id": "4cc16aaf",
   "metadata": {},
   "outputs": [],
   "source": []
  },
  {
   "cell_type": "code",
   "execution_count": null,
   "id": "14c97090",
   "metadata": {},
   "outputs": [],
   "source": [
    "def visualize_bow(df_bow, feature_names, annotate=False):"
   ]
  },
  {
   "cell_type": "code",
   "execution_count": null,
   "id": "56e2aa63",
   "metadata": {},
   "outputs": [],
   "source": [
    "    plt.figure(figsize=(12, 8))"
   ]
  },
  {
   "cell_type": "code",
   "execution_count": null,
   "id": "485ea839",
   "metadata": {},
   "outputs": [],
   "source": [
    "    sns.heatmap(df_bow, annot=annotate, cmap='viridis', cbar=False, xticklabels=feature_names)"
   ]
  },
  {
   "cell_type": "code",
   "execution_count": null,
   "id": "3bd6be7c",
   "metadata": {},
   "outputs": [],
   "source": [
    "    plt.title('Bag of Words Matrix')"
   ]
  },
  {
   "cell_type": "code",
   "execution_count": null,
   "id": "39296332",
   "metadata": {},
   "outputs": [],
   "source": [
    "    plt.xlabel('Features')"
   ]
  },
  {
   "cell_type": "code",
   "execution_count": null,
   "id": "ea456c85",
   "metadata": {},
   "outputs": [],
   "source": [
    "    plt.ylabel('Documents')"
   ]
  },
  {
   "cell_type": "code",
   "execution_count": null,
   "id": "0c48abd5",
   "metadata": {},
   "outputs": [],
   "source": [
    "    plt.show()"
   ]
  },
  {
   "cell_type": "code",
   "execution_count": null,
   "id": "5da85fc6",
   "metadata": {},
   "outputs": [],
   "source": []
  },
  {
   "cell_type": "code",
   "execution_count": null,
   "id": "ebb44876",
   "metadata": {},
   "outputs": [],
   "source": [
    "visualize_bow(df_bow, feature_names, annotate=False)"
   ]
  },
  {
   "cell_type": "code",
   "execution_count": null,
   "id": "7a564034",
   "metadata": {},
   "outputs": [],
   "source": []
  },
  {
   "cell_type": "code",
   "execution_count": null,
   "id": "50f12e4e",
   "metadata": {},
   "outputs": [],
   "source": [
    "# Logistic Regression Model"
   ]
  },
  {
   "cell_type": "code",
   "execution_count": null,
   "id": "61d9663f",
   "metadata": {},
   "outputs": [],
   "source": [
    "from sklearn.feature_extraction.text import TfidfVectorizer"
   ]
  },
  {
   "cell_type": "code",
   "execution_count": null,
   "id": "aba563a5",
   "metadata": {},
   "outputs": [],
   "source": [
    "from sklearn.linear_model import LogisticRegression"
   ]
  },
  {
   "cell_type": "code",
   "execution_count": null,
   "id": "3a53d49e",
   "metadata": {},
   "outputs": [],
   "source": [
    "from sklearn.model_selection import train_test_split"
   ]
  },
  {
   "cell_type": "code",
   "execution_count": null,
   "id": "5b6f8be6",
   "metadata": {},
   "outputs": [],
   "source": [
    "from sklearn.preprocessing import LabelEncoder"
   ]
  },
  {
   "cell_type": "code",
   "execution_count": null,
   "id": "9b2d38ac",
   "metadata": {},
   "outputs": [],
   "source": [
    "from sklearn.metrics import classification_report, roc_auc_score"
   ]
  },
  {
   "cell_type": "code",
   "execution_count": null,
   "id": "9bc098bf",
   "metadata": {},
   "outputs": [],
   "source": []
  },
  {
   "cell_type": "code",
   "execution_count": null,
   "id": "ae5c86ad",
   "metadata": {},
   "outputs": [],
   "source": [
    "vectorizer = TfidfVectorizer()"
   ]
  },
  {
   "cell_type": "code",
   "execution_count": null,
   "id": "86da9243",
   "metadata": {},
   "outputs": [],
   "source": [
    "X = vectorizer.fit_transform(df['cleaned_text'])"
   ]
  },
  {
   "cell_type": "code",
   "execution_count": null,
   "id": "c695b3c5",
   "metadata": {},
   "outputs": [],
   "source": [
    "y = df['class']"
   ]
  },
  {
   "cell_type": "code",
   "execution_count": null,
   "id": "ee8e4e40",
   "metadata": {},
   "outputs": [],
   "source": []
  },
  {
   "cell_type": "code",
   "execution_count": null,
   "id": "abc04893",
   "metadata": {},
   "outputs": [],
   "source": [
    "encoder = LabelEncoder()"
   ]
  },
  {
   "cell_type": "code",
   "execution_count": null,
   "id": "6d80c9fe",
   "metadata": {},
   "outputs": [],
   "source": [
    "y_encoded = encoder.fit_transform(y)"
   ]
  },
  {
   "cell_type": "code",
   "execution_count": null,
   "id": "4e632c17",
   "metadata": {},
   "outputs": [],
   "source": []
  },
  {
   "cell_type": "code",
   "execution_count": null,
   "id": "41e496e9",
   "metadata": {},
   "outputs": [],
   "source": [
    "X_train, X_test, y_train, y_test = train_test_split(X, y_encoded, test_size=0.2, random_state=35476648)"
   ]
  },
  {
   "cell_type": "code",
   "execution_count": null,
   "id": "41ee1ba9",
   "metadata": {},
   "outputs": [],
   "source": [
    "model = LogisticRegression(max_iter=1000)"
   ]
  },
  {
   "cell_type": "code",
   "execution_count": null,
   "id": "f06fada8",
   "metadata": {},
   "outputs": [],
   "source": [
    "model.fit(X_train, y_train)"
   ]
  },
  {
   "cell_type": "code",
   "execution_count": null,
   "id": "07e74664",
   "metadata": {},
   "outputs": [],
   "source": []
  },
  {
   "cell_type": "code",
   "execution_count": null,
   "id": "98319f34",
   "metadata": {},
   "outputs": [],
   "source": [
    "predictions = model.predict(X_test)"
   ]
  },
  {
   "cell_type": "code",
   "execution_count": null,
   "id": "30b83b2c",
   "metadata": {},
   "outputs": [],
   "source": [
    "print(\"Classification Report:\")"
   ]
  },
  {
   "cell_type": "code",
   "execution_count": null,
   "id": "34489c40",
   "metadata": {},
   "outputs": [],
   "source": [
    "print(classification_report(y_test, predictions))"
   ]
  },
  {
   "cell_type": "code",
   "execution_count": null,
   "id": "e83d804a",
   "metadata": {},
   "outputs": [],
   "source": []
  },
  {
   "cell_type": "code",
   "execution_count": null,
   "id": "b3c37200",
   "metadata": {},
   "outputs": [],
   "source": [
    "probabilities = model.predict_proba(X_test)"
   ]
  },
  {
   "cell_type": "code",
   "execution_count": null,
   "id": "0f5973bc",
   "metadata": {},
   "outputs": [],
   "source": [
    "auc_score = roc_auc_score(y_test, probabilities, multi_class='ovr')"
   ]
  },
  {
   "cell_type": "code",
   "execution_count": null,
   "id": "69dda390",
   "metadata": {},
   "outputs": [],
   "source": [
    "print(f\"ROC AUC Score: {auc_score:.2f}\")"
   ]
  },
  {
   "cell_type": "code",
   "execution_count": null,
   "id": "7e9ffbfa",
   "metadata": {},
   "outputs": [],
   "source": []
  },
  {
   "cell_type": "code",
   "execution_count": null,
   "id": "c91d29ca",
   "metadata": {},
   "outputs": [],
   "source": [
    "# SVM Model"
   ]
  },
  {
   "cell_type": "code",
   "execution_count": null,
   "id": "09a55989",
   "metadata": {},
   "outputs": [],
   "source": [
    "from sklearn.svm import SVC"
   ]
  },
  {
   "cell_type": "code",
   "execution_count": null,
   "id": "61dd84bf",
   "metadata": {},
   "outputs": [],
   "source": [
    "from sklearn.metrics import classification_report, roc_auc_score"
   ]
  },
  {
   "cell_type": "code",
   "execution_count": null,
   "id": "5c552026",
   "metadata": {},
   "outputs": [],
   "source": [
    "from sklearn.model_selection import GridSearchCV"
   ]
  },
  {
   "cell_type": "code",
   "execution_count": null,
   "id": "1ac7676c",
   "metadata": {},
   "outputs": [],
   "source": []
  },
  {
   "cell_type": "code",
   "execution_count": null,
   "id": "3b6a7d7f",
   "metadata": {},
   "outputs": [],
   "source": [
    "vectorizer = TfidfVectorizer(ngram_range=(1,2))"
   ]
  },
  {
   "cell_type": "code",
   "execution_count": null,
   "id": "f90ce598",
   "metadata": {},
   "outputs": [],
   "source": [
    "X = vectorizer.fit_transform(df['cleaned_text'])"
   ]
  },
  {
   "cell_type": "code",
   "execution_count": null,
   "id": "0333de51",
   "metadata": {},
   "outputs": [],
   "source": [
    "y = df['class']"
   ]
  },
  {
   "cell_type": "code",
   "execution_count": null,
   "id": "33b0a5be",
   "metadata": {},
   "outputs": [],
   "source": []
  },
  {
   "cell_type": "code",
   "execution_count": null,
   "id": "daf806a0",
   "metadata": {},
   "outputs": [],
   "source": [
    "encoder = LabelEncoder()"
   ]
  },
  {
   "cell_type": "code",
   "execution_count": null,
   "id": "46291351",
   "metadata": {},
   "outputs": [],
   "source": [
    "y_encoded = encoder.fit_transform(y)"
   ]
  },
  {
   "cell_type": "code",
   "execution_count": null,
   "id": "ee16d598",
   "metadata": {},
   "outputs": [],
   "source": []
  },
  {
   "cell_type": "code",
   "execution_count": null,
   "id": "55488dea",
   "metadata": {},
   "outputs": [],
   "source": [
    "X_train, X_test, y_train, y_test = train_test_split(X, y_encoded, test_size=0.2, random_state=35476648)"
   ]
  },
  {
   "cell_type": "code",
   "execution_count": null,
   "id": "d76ab6a2",
   "metadata": {},
   "outputs": [],
   "source": []
  },
  {
   "cell_type": "code",
   "execution_count": null,
   "id": "2b636b31",
   "metadata": {},
   "outputs": [],
   "source": [
    "model = SVC(class_weight='balanced', probability=True)"
   ]
  },
  {
   "cell_type": "code",
   "execution_count": null,
   "id": "65e6c379",
   "metadata": {},
   "outputs": [],
   "source": [
    "param_grid = {'C': [0.1, 1, 10], 'kernel': ['linear', 'rbf']}"
   ]
  },
  {
   "cell_type": "code",
   "execution_count": null,
   "id": "cf02f638",
   "metadata": {},
   "outputs": [],
   "source": [
    "grid_search = GridSearchCV(model, param_grid, cv=5, scoring='f1_macro', verbose=1)"
   ]
  },
  {
   "cell_type": "code",
   "execution_count": null,
   "id": "374be56b",
   "metadata": {},
   "outputs": [],
   "source": [
    "grid_search.fit(X_train, y_train)"
   ]
  },
  {
   "cell_type": "code",
   "execution_count": null,
   "id": "f6d3ff8a",
   "metadata": {},
   "outputs": [],
   "source": []
  },
  {
   "cell_type": "code",
   "execution_count": null,
   "id": "707c5784",
   "metadata": {},
   "outputs": [],
   "source": [
    "best_model = grid_search.best_estimator_"
   ]
  },
  {
   "cell_type": "code",
   "execution_count": null,
   "id": "17d50cd7",
   "metadata": {},
   "outputs": [],
   "source": [
    "predictions = best_model.predict(X_test)"
   ]
  },
  {
   "cell_type": "code",
   "execution_count": null,
   "id": "a90903f0",
   "metadata": {},
   "outputs": [],
   "source": [
    "probs = best_model.predict_proba(X_test)"
   ]
  },
  {
   "cell_type": "code",
   "execution_count": null,
   "id": "59f2758a",
   "metadata": {},
   "outputs": [],
   "source": []
  },
  {
   "cell_type": "code",
   "execution_count": null,
   "id": "facedc06",
   "metadata": {},
   "outputs": [],
   "source": [
    "auc_score = roc_auc_score(y_test, probs, multi_class='ovr')"
   ]
  },
  {
   "cell_type": "code",
   "execution_count": null,
   "id": "4f1aa4d6",
   "metadata": {},
   "outputs": [],
   "source": [
    "print(\"Classification Report:\")"
   ]
  },
  {
   "cell_type": "code",
   "execution_count": null,
   "id": "6f6c0a52",
   "metadata": {},
   "outputs": [],
   "source": [
    "print(classification_report(y_test, predictions))"
   ]
  },
  {
   "cell_type": "code",
   "execution_count": null,
   "id": "69aa69d9",
   "metadata": {},
   "outputs": [],
   "source": [
    "print(f\"ROC AUC Score: {auc_score:.2f}\")"
   ]
  },
  {
   "cell_type": "code",
   "execution_count": null,
   "id": "0052a14a",
   "metadata": {},
   "outputs": [],
   "source": []
  },
  {
   "cell_type": "code",
   "execution_count": null,
   "id": "047315f4",
   "metadata": {},
   "outputs": [],
   "source": [
    "# Random Forest Model"
   ]
  },
  {
   "cell_type": "code",
   "execution_count": null,
   "id": "a7df04dc",
   "metadata": {},
   "outputs": [],
   "source": [
    "from sklearn.ensemble import RandomForestClassifier"
   ]
  },
  {
   "cell_type": "code",
   "execution_count": null,
   "id": "e486fce0",
   "metadata": {},
   "outputs": [],
   "source": [
    "from sklearn.model_selection import train_test_split, GridSearchCV"
   ]
  },
  {
   "cell_type": "code",
   "execution_count": null,
   "id": "fd986b63",
   "metadata": {},
   "outputs": [],
   "source": [
    "from sklearn.metrics import classification_report, roc_auc_score"
   ]
  },
  {
   "cell_type": "code",
   "execution_count": null,
   "id": "33c96fda",
   "metadata": {},
   "outputs": [],
   "source": [
    "from sklearn.preprocessing import LabelEncoder"
   ]
  },
  {
   "cell_type": "code",
   "execution_count": null,
   "id": "a2fca3a0",
   "metadata": {},
   "outputs": [],
   "source": []
  },
  {
   "cell_type": "code",
   "execution_count": null,
   "id": "f7ba86fc",
   "metadata": {},
   "outputs": [],
   "source": [
    "vectorizer = TfidfVectorizer(max_features=1000)"
   ]
  },
  {
   "cell_type": "code",
   "execution_count": null,
   "id": "ecf135fe",
   "metadata": {},
   "outputs": [],
   "source": [
    "X = vectorizer.fit_transform(df['cleaned_text'])"
   ]
  },
  {
   "cell_type": "code",
   "execution_count": null,
   "id": "d3599fef",
   "metadata": {},
   "outputs": [],
   "source": [
    "y = df['class']"
   ]
  },
  {
   "cell_type": "code",
   "execution_count": null,
   "id": "f110c046",
   "metadata": {},
   "outputs": [],
   "source": []
  },
  {
   "cell_type": "code",
   "execution_count": null,
   "id": "4c5f4951",
   "metadata": {},
   "outputs": [],
   "source": [
    "encoder = LabelEncoder()"
   ]
  },
  {
   "cell_type": "code",
   "execution_count": null,
   "id": "3614aa34",
   "metadata": {},
   "outputs": [],
   "source": [
    "y_encoded = encoder.fit_transform(y)"
   ]
  },
  {
   "cell_type": "code",
   "execution_count": null,
   "id": "0f43449b",
   "metadata": {},
   "outputs": [],
   "source": []
  },
  {
   "cell_type": "code",
   "execution_count": null,
   "id": "379c36c9",
   "metadata": {},
   "outputs": [],
   "source": [
    "X_train, X_test, y_train, y_test = train_test_split(X, y_encoded, test_size=0.2, random_state=35476648)"
   ]
  },
  {
   "cell_type": "code",
   "execution_count": null,
   "id": "2072b620",
   "metadata": {},
   "outputs": [],
   "source": []
  },
  {
   "cell_type": "code",
   "execution_count": null,
   "id": "73adf4ef",
   "metadata": {},
   "outputs": [],
   "source": [
    "rf = RandomForestClassifier(random_state=42, class_weight='balanced')"
   ]
  },
  {
   "cell_type": "code",
   "execution_count": null,
   "id": "84b4e611",
   "metadata": {},
   "outputs": [],
   "source": [
    "param_grid = {"
   ]
  },
  {
   "cell_type": "code",
   "execution_count": null,
   "id": "3186f408",
   "metadata": {},
   "outputs": [],
   "source": [
    "    'n_estimators': [100, 200, 300],"
   ]
  },
  {
   "cell_type": "code",
   "execution_count": null,
   "id": "89903938",
   "metadata": {},
   "outputs": [],
   "source": [
    "    'max_depth': [10, 20, 30],"
   ]
  },
  {
   "cell_type": "code",
   "execution_count": null,
   "id": "baf363a5",
   "metadata": {},
   "outputs": [],
   "source": [
    "    'min_samples_split': [2, 5, 10],"
   ]
  },
  {
   "cell_type": "code",
   "execution_count": null,
   "id": "d6874c25",
   "metadata": {},
   "outputs": [],
   "source": [
    "    'min_samples_leaf': [1, 2, 4]"
   ]
  },
  {
   "cell_type": "code",
   "execution_count": null,
   "id": "15551eec",
   "metadata": {},
   "outputs": [],
   "source": [
    "}"
   ]
  },
  {
   "cell_type": "code",
   "execution_count": null,
   "id": "956b7fdf",
   "metadata": {},
   "outputs": [],
   "source": []
  },
  {
   "cell_type": "code",
   "execution_count": null,
   "id": "81329e76",
   "metadata": {},
   "outputs": [],
   "source": [
    "grid_search = GridSearchCV(estimator=rf, param_grid=param_grid, cv=3, scoring='accuracy', verbose=1, n_jobs=-1)"
   ]
  },
  {
   "cell_type": "code",
   "execution_count": null,
   "id": "4aa127ac",
   "metadata": {},
   "outputs": [],
   "source": [
    "grid_search.fit(X_train, y_train)"
   ]
  },
  {
   "cell_type": "code",
   "execution_count": null,
   "id": "c2cd5ab1",
   "metadata": {},
   "outputs": [],
   "source": []
  },
  {
   "cell_type": "code",
   "execution_count": null,
   "id": "fcc644e9",
   "metadata": {},
   "outputs": [],
   "source": [
    "best_model = grid_search.best_estimator_"
   ]
  },
  {
   "cell_type": "code",
   "execution_count": null,
   "id": "58a3f7b9",
   "metadata": {},
   "outputs": [],
   "source": [
    "predictions = best_model.predict(X_test)"
   ]
  },
  {
   "cell_type": "code",
   "execution_count": null,
   "id": "3a291f32",
   "metadata": {},
   "outputs": [],
   "source": [
    "probs = best_model.predict_proba(X_test)"
   ]
  },
  {
   "cell_type": "code",
   "execution_count": null,
   "id": "b488e1c5",
   "metadata": {},
   "outputs": [],
   "source": []
  }
 ],
 "metadata": {},
 "nbformat": 4,
 "nbformat_minor": 5
}
