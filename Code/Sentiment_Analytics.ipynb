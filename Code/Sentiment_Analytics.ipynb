{
 "cells": [
  {
   "cell_type": "code",
   "execution_count": null,
   "id": "5bdfef7a",
   "metadata": {},
   "outputs": [],
   "source": [
    "%cd /content/drive/MyDrive/ri/code/data"
   ]
  },
  {
   "cell_type": "code",
   "execution_count": null,
   "id": "5a179ea7",
   "metadata": {},
   "outputs": [],
   "source": [
    "import re"
   ]
  },
  {
   "cell_type": "code",
   "execution_count": null,
   "id": "981b093b",
   "metadata": {},
   "outputs": [],
   "source": [
    "import itertools"
   ]
  },
  {
   "cell_type": "code",
   "execution_count": null,
   "id": "2637c183",
   "metadata": {},
   "outputs": [],
   "source": []
  },
  {
   "cell_type": "code",
   "execution_count": null,
   "id": "924e7139",
   "metadata": {},
   "outputs": [],
   "source": [
    "import nltk"
   ]
  },
  {
   "cell_type": "code",
   "execution_count": null,
   "id": "bc0e8c63",
   "metadata": {},
   "outputs": [],
   "source": [
    "from nltk.corpus import stopwords"
   ]
  },
  {
   "cell_type": "code",
   "execution_count": null,
   "id": "fb375b1b",
   "metadata": {},
   "outputs": [],
   "source": [
    "from nltk.tokenize import word_tokenize"
   ]
  },
  {
   "cell_type": "code",
   "execution_count": null,
   "id": "d8b3ea8c",
   "metadata": {},
   "outputs": [],
   "source": [
    "from nltk.stem import WordNetLemmatizer"
   ]
  },
  {
   "cell_type": "code",
   "execution_count": null,
   "id": "af76614d",
   "metadata": {},
   "outputs": [],
   "source": [
    "from nltk.sentiment import SentimentIntensityAnalyzer"
   ]
  },
  {
   "cell_type": "code",
   "execution_count": null,
   "id": "ab59e76d",
   "metadata": {},
   "outputs": [],
   "source": []
  },
  {
   "cell_type": "code",
   "execution_count": null,
   "id": "6a5b2a62",
   "metadata": {},
   "outputs": [],
   "source": [
    "import pandas as pd"
   ]
  },
  {
   "cell_type": "code",
   "execution_count": null,
   "id": "64d1d3cd",
   "metadata": {},
   "outputs": [],
   "source": [
    "import seaborn as sns"
   ]
  },
  {
   "cell_type": "code",
   "execution_count": null,
   "id": "6fd2ecc9",
   "metadata": {},
   "outputs": [],
   "source": [
    "import matplotlib.pyplot as plt"
   ]
  },
  {
   "cell_type": "code",
   "execution_count": null,
   "id": "e64018a4",
   "metadata": {},
   "outputs": [],
   "source": []
  },
  {
   "cell_type": "code",
   "execution_count": null,
   "id": "f025d635",
   "metadata": {},
   "outputs": [],
   "source": [
    "from sklearn.feature_extraction.text import CountVectorizer, TfidfVectorizer"
   ]
  },
  {
   "cell_type": "code",
   "execution_count": null,
   "id": "65a987fe",
   "metadata": {},
   "outputs": [],
   "source": []
  },
  {
   "cell_type": "code",
   "execution_count": null,
   "id": "6dbb3c8d",
   "metadata": {},
   "outputs": [],
   "source": [
    "from collections import Counter"
   ]
  },
  {
   "cell_type": "code",
   "execution_count": null,
   "id": "11f3d789",
   "metadata": {},
   "outputs": [],
   "source": [
    "#Data Understanding and Preparation"
   ]
  },
  {
   "cell_type": "code",
   "execution_count": null,
   "id": "e5b131da",
   "metadata": {},
   "outputs": [],
   "source": [
    "## Import Libraries and Load Data"
   ]
  },
  {
   "cell_type": "code",
   "execution_count": null,
   "id": "1bfaaa0d",
   "metadata": {},
   "outputs": [],
   "source": []
  },
  {
   "cell_type": "code",
   "execution_count": null,
   "id": "f411f0cd",
   "metadata": {},
   "outputs": [],
   "source": [
    "df = pd.read_csv('/content/drive/MyDrive/ri/code/data/A1_standard.csv')"
   ]
  },
  {
   "cell_type": "code",
   "execution_count": null,
   "id": "796dfdf9",
   "metadata": {},
   "outputs": [],
   "source": [
    "print(df.head())"
   ]
  },
  {
   "cell_type": "code",
   "execution_count": null,
   "id": "40a23b82",
   "metadata": {},
   "outputs": [],
   "source": [
    "## Data Information and Missing Values"
   ]
  },
  {
   "cell_type": "code",
   "execution_count": null,
   "id": "9f8fb687",
   "metadata": {},
   "outputs": [],
   "source": []
  },
  {
   "cell_type": "code",
   "execution_count": null,
   "id": "49ee852b",
   "metadata": {},
   "outputs": [],
   "source": [
    "df.info()"
   ]
  },
  {
   "cell_type": "code",
   "execution_count": null,
   "id": "5dd1d2ec",
   "metadata": {},
   "outputs": [],
   "source": []
  },
  {
   "cell_type": "code",
   "execution_count": null,
   "id": "7c8a7dc3",
   "metadata": {},
   "outputs": [],
   "source": [
    "import seaborn as sns"
   ]
  },
  {
   "cell_type": "code",
   "execution_count": null,
   "id": "b8f718a5",
   "metadata": {},
   "outputs": [],
   "source": [
    "import matplotlib.pyplot as plt"
   ]
  },
  {
   "cell_type": "code",
   "execution_count": null,
   "id": "0a679933",
   "metadata": {},
   "outputs": [],
   "source": []
  },
  {
   "cell_type": "code",
   "execution_count": null,
   "id": "3346e74f",
   "metadata": {},
   "outputs": [],
   "source": [
    "sns.heatmap(df.isnull(), cbar=False, cmap='viridis')"
   ]
  },
  {
   "cell_type": "code",
   "execution_count": null,
   "id": "69b84559",
   "metadata": {},
   "outputs": [],
   "source": [
    "plt.title('Missing Data Visualization')"
   ]
  },
  {
   "cell_type": "code",
   "execution_count": null,
   "id": "1cd7141d",
   "metadata": {},
   "outputs": [],
   "source": [
    "plt.show()"
   ]
  },
  {
   "cell_type": "code",
   "execution_count": null,
   "id": "8ae31afa",
   "metadata": {},
   "outputs": [],
   "source": []
  },
  {
   "cell_type": "code",
   "execution_count": null,
   "id": "b0b5366d",
   "metadata": {},
   "outputs": [],
   "source": [
    "# Handle Missing Values, given there are none but still"
   ]
  },
  {
   "cell_type": "code",
   "execution_count": null,
   "id": "bf23ea7f",
   "metadata": {},
   "outputs": [],
   "source": [
    "if df['text'].isnull().sum() > 0:"
   ]
  },
  {
   "cell_type": "code",
   "execution_count": null,
   "id": "2c709a25",
   "metadata": {},
   "outputs": [],
   "source": [
    "    df['text'] = df['text'].fillna('no_text')"
   ]
  },
  {
   "cell_type": "code",
   "execution_count": null,
   "id": "f56723b1",
   "metadata": {},
   "outputs": [],
   "source": [
    "    # df.dropna(subset=['text'], inplace=True)"
   ]
  },
  {
   "cell_type": "code",
   "execution_count": null,
   "id": "e1f2cf59",
   "metadata": {},
   "outputs": [],
   "source": [
    "## Remove Noise, Tokenize, and Normalize Text"
   ]
  },
  {
   "cell_type": "code",
   "execution_count": null,
   "id": "2a22587c",
   "metadata": {},
   "outputs": [],
   "source": []
  },
  {
   "cell_type": "code",
   "execution_count": null,
   "id": "4a4ff508",
   "metadata": {},
   "outputs": [],
   "source": [
    "# Ensure nltk resources are downloaded (first time run)"
   ]
  },
  {
   "cell_type": "code",
   "execution_count": null,
   "id": "78bb03c4",
   "metadata": {},
   "outputs": [],
   "source": [
    "import nltk"
   ]
  },
  {
   "cell_type": "code",
   "execution_count": null,
   "id": "61d3be50",
   "metadata": {},
   "outputs": [],
   "source": [
    "nltk.download('punkt')"
   ]
  },
  {
   "cell_type": "code",
   "execution_count": null,
   "id": "5ffe8030",
   "metadata": {},
   "outputs": [],
   "source": [
    "nltk.download('stopwords')"
   ]
  },
  {
   "cell_type": "code",
   "execution_count": null,
   "id": "294641ed",
   "metadata": {},
   "outputs": [],
   "source": [
    "nltk.download('wordnet')"
   ]
  },
  {
   "cell_type": "code",
   "execution_count": null,
   "id": "d750541b",
   "metadata": {},
   "outputs": [],
   "source": [
    "nltk.download('averaged_perceptron_tagger')"
   ]
  },
  {
   "cell_type": "code",
   "execution_count": null,
   "id": "59fa64b8",
   "metadata": {},
   "outputs": [],
   "source": [
    "nltk.download('vader_lexicon')"
   ]
  },
  {
   "cell_type": "code",
   "execution_count": null,
   "id": "31071e79",
   "metadata": {},
   "outputs": [],
   "source": [
    "# Improved dictionary for replacing abbreviations and unclear words"
   ]
  },
  {
   "cell_type": "code",
   "execution_count": null,
   "id": "4c4822f5",
   "metadata": {},
   "outputs": [],
   "source": [
    "replacement_dict = {"
   ]
  },
  {
   "cell_type": "code",
   "execution_count": null,
   "id": "4a41ee1c",
   "metadata": {},
   "outputs": [],
   "source": [
    "    'eur': 'euro',"
   ]
  },
  {
   "cell_type": "code",
   "execution_count": null,
   "id": "4a1fc34f",
   "metadata": {},
   "outputs": [],
   "source": [
    "    'mn': 'million',"
   ]
  },
  {
   "cell_type": "code",
   "execution_count": null,
   "id": "08480efd",
   "metadata": {},
   "outputs": [],
   "source": [
    "    'mln': 'million',"
   ]
  },
  {
   "cell_type": "code",
   "execution_count": null,
   "id": "de9a6789",
   "metadata": {},
   "outputs": [],
   "source": [
    "    'oyj': 'company',"
   ]
  },
  {
   "cell_type": "code",
   "execution_count": null,
   "id": "38fdf5a9",
   "metadata": {},
   "outputs": [],
   "source": [
    "    'pct': 'percent',"
   ]
  },
  {
   "cell_type": "code",
   "execution_count": null,
   "id": "486c5b0b",
   "metadata": {},
   "outputs": [],
   "source": [
    "    'hel': 'Helsinki',"
   ]
  },
  {
   "cell_type": "code",
   "execution_count": null,
   "id": "e511e27f",
   "metadata": {},
   "outputs": [],
   "source": [
    "    'eurm': 'euro million'  # Assuming eurm means euro million"
   ]
  }
 ],
 "metadata": {},
 "nbformat": 4,
 "nbformat_minor": 5
}
