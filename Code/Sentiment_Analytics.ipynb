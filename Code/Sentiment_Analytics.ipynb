{
 "cells": [
  {
   "cell_type": "code",
   "execution_count": null,
   "id": "b6b43be9",
   "metadata": {},
   "outputs": [],
   "source": [
    "## BERT"
   ]
  },
  {
   "cell_type": "code",
   "execution_count": null,
   "id": "425eb82b",
   "metadata": {},
   "outputs": [],
   "source": [
    "!pip install transformers torch"
   ]
  },
  {
   "cell_type": "code",
   "execution_count": null,
   "id": "7b5a6c98",
   "metadata": {},
   "outputs": [],
   "source": []
  },
  {
   "cell_type": "code",
   "execution_count": null,
   "id": "c0ced415",
   "metadata": {},
   "outputs": [],
   "source": [
    "import pandas as pd"
   ]
  },
  {
   "cell_type": "code",
   "execution_count": null,
   "id": "0af32bba",
   "metadata": {},
   "outputs": [],
   "source": [
    "from transformers import BertTokenizer, BertForSequenceClassification"
   ]
  },
  {
   "cell_type": "code",
   "execution_count": null,
   "id": "36a24af6",
   "metadata": {},
   "outputs": [],
   "source": [
    "import torch"
   ]
  },
  {
   "cell_type": "code",
   "execution_count": null,
   "id": "d8acfac1",
   "metadata": {},
   "outputs": [],
   "source": [
    "from torch.utils.data import DataLoader, TensorDataset"
   ]
  },
  {
   "cell_type": "code",
   "execution_count": null,
   "id": "e9c59123",
   "metadata": {},
   "outputs": [],
   "source": [
    "from sklearn.model_selection import train_test_split"
   ]
  },
  {
   "cell_type": "code",
   "execution_count": null,
   "id": "a934a964",
   "metadata": {},
   "outputs": [],
   "source": [
    "from sklearn.metrics import classification_report, roc_curve, auc, roc_auc_score"
   ]
  },
  {
   "cell_type": "code",
   "execution_count": null,
   "id": "427e098d",
   "metadata": {},
   "outputs": [],
   "source": [
    "from sklearn.preprocessing import LabelEncoder, label_binarize"
   ]
  },
  {
   "cell_type": "code",
   "execution_count": null,
   "id": "09352dc6",
   "metadata": {},
   "outputs": [],
   "source": [
    "import matplotlib.pyplot as plt"
   ]
  },
  {
   "cell_type": "code",
   "execution_count": null,
   "id": "a934ac80",
   "metadata": {},
   "outputs": [],
   "source": [
    "from itertools import cycle"
   ]
  },
  {
   "cell_type": "code",
   "execution_count": null,
   "id": "f36789ff",
   "metadata": {},
   "outputs": [],
   "source": [
    "import numpy as np"
   ]
  },
  {
   "cell_type": "code",
   "execution_count": null,
   "id": "1938f342",
   "metadata": {},
   "outputs": [],
   "source": []
  },
  {
   "cell_type": "code",
   "execution_count": null,
   "id": "f650d132",
   "metadata": {},
   "outputs": [],
   "source": [
    "# Encoding labels ('positive', 'negative', 'neutral') to numerical values"
   ]
  },
  {
   "cell_type": "code",
   "execution_count": null,
   "id": "81eb496f",
   "metadata": {},
   "outputs": [],
   "source": [
    "label_encoder = LabelEncoder()"
   ]
  },
  {
   "cell_type": "code",
   "execution_count": null,
   "id": "2b8be8ff",
   "metadata": {},
   "outputs": [],
   "source": [
    "df['label'] = label_encoder.fit_transform(df['class'])"
   ]
  },
  {
   "cell_type": "code",
   "execution_count": null,
   "id": "d0b4866f",
   "metadata": {},
   "outputs": [],
   "source": []
  },
  {
   "cell_type": "code",
   "execution_count": null,
   "id": "b3d99b3d",
   "metadata": {},
   "outputs": [],
   "source": [
    "# Tokenization and Data Preparation (using cleaned text)"
   ]
  },
  {
   "cell_type": "code",
   "execution_count": null,
   "id": "47d0fae5",
   "metadata": {},
   "outputs": [],
   "source": [
    "tokenizer = BertTokenizer.from_pretrained('bert-base-uncased')"
   ]
  },
  {
   "cell_type": "code",
   "execution_count": null,
   "id": "1b38e52f",
   "metadata": {},
   "outputs": [],
   "source": [
    "encoded_data = tokenizer.batch_encode_plus("
   ]
  },
  {
   "cell_type": "code",
   "execution_count": null,
   "id": "66e1a274",
   "metadata": {},
   "outputs": [],
   "source": [
    "    df['cleaned_text'].tolist(),"
   ]
  },
  {
   "cell_type": "code",
   "execution_count": null,
   "id": "f0a548e0",
   "metadata": {},
   "outputs": [],
   "source": [
    "    add_special_tokens=True,"
   ]
  },
  {
   "cell_type": "code",
   "execution_count": null,
   "id": "e8149554",
   "metadata": {},
   "outputs": [],
   "source": [
    "    return_attention_mask=True,"
   ]
  },
  {
   "cell_type": "code",
   "execution_count": null,
   "id": "609927b3",
   "metadata": {},
   "outputs": [],
   "source": [
    "    padding='max_length',"
   ]
  },
  {
   "cell_type": "code",
   "execution_count": null,
   "id": "2403af3f",
   "metadata": {},
   "outputs": [],
   "source": [
    "    max_length=128,  # Adjust if your sentences are longer"
   ]
  },
  {
   "cell_type": "code",
   "execution_count": null,
   "id": "77b95acd",
   "metadata": {},
   "outputs": [],
   "source": [
    "    truncation=True,"
   ]
  },
  {
   "cell_type": "code",
   "execution_count": null,
   "id": "bc35fbfc",
   "metadata": {},
   "outputs": [],
   "source": [
    "    return_tensors='pt'"
   ]
  },
  {
   "cell_type": "code",
   "execution_count": null,
   "id": "b61c4605",
   "metadata": {},
   "outputs": [],
   "source": [
    ")"
   ]
  },
  {
   "cell_type": "code",
   "execution_count": null,
   "id": "8e7d57d9",
   "metadata": {},
   "outputs": [],
   "source": []
  },
  {
   "cell_type": "code",
   "execution_count": null,
   "id": "205a1096",
   "metadata": {},
   "outputs": [],
   "source": [
    "input_ids = encoded_data['input_ids']"
   ]
  },
  {
   "cell_type": "code",
   "execution_count": null,
   "id": "e04cd228",
   "metadata": {},
   "outputs": [],
   "source": [
    "attention_masks = encoded_data['attention_mask']"
   ]
  },
  {
   "cell_type": "code",
   "execution_count": null,
   "id": "44c522ca",
   "metadata": {},
   "outputs": [],
   "source": [
    "labels = torch.tensor(df['label'].tolist())"
   ]
  },
  {
   "cell_type": "code",
   "execution_count": null,
   "id": "42f37b35",
   "metadata": {},
   "outputs": [],
   "source": []
  },
  {
   "cell_type": "code",
   "execution_count": null,
   "id": "63088e8c",
   "metadata": {},
   "outputs": [],
   "source": [
    "# Split into training and testing sets"
   ]
  },
  {
   "cell_type": "code",
   "execution_count": null,
   "id": "bbaeb000",
   "metadata": {},
   "outputs": [],
   "source": [
    "train_inputs, test_inputs, train_labels, test_labels = train_test_split("
   ]
  },
  {
   "cell_type": "code",
   "execution_count": null,
   "id": "6b54f431",
   "metadata": {},
   "outputs": [],
   "source": [
    "    input_ids, labels, random_state=35476648, test_size=0.2"
   ]
  },
  {
   "cell_type": "code",
   "execution_count": null,
   "id": "7b002eaa",
   "metadata": {},
   "outputs": [],
   "source": [
    ")"
   ]
  },
  {
   "cell_type": "code",
   "execution_count": null,
   "id": "73f4060c",
   "metadata": {},
   "outputs": [],
   "source": [
    "train_masks, test_masks, _, _ = train_test_split("
   ]
  },
  {
   "cell_type": "code",
   "execution_count": null,
   "id": "37d71472",
   "metadata": {},
   "outputs": [],
   "source": [
    "    attention_masks, input_ids, random_state=35476648, test_size=0.2"
   ]
  },
  {
   "cell_type": "code",
   "execution_count": null,
   "id": "c1804c9a",
   "metadata": {},
   "outputs": [],
   "source": [
    ")"
   ]
  },
  {
   "cell_type": "code",
   "execution_count": null,
   "id": "018948ba",
   "metadata": {},
   "outputs": [],
   "source": [
    "# Create DataLoader"
   ]
  },
  {
   "cell_type": "code",
   "execution_count": null,
   "id": "2b2aa6c7",
   "metadata": {},
   "outputs": [],
   "source": [
    "train_data = TensorDataset(train_inputs, train_masks, train_labels)"
   ]
  },
  {
   "cell_type": "code",
   "execution_count": null,
   "id": "ee61d3e7",
   "metadata": {},
   "outputs": [],
   "source": [
    "train_dataloader = DataLoader(train_data, batch_size=32, shuffle=True)"
   ]
  },
  {
   "cell_type": "code",
   "execution_count": null,
   "id": "47a022a3",
   "metadata": {},
   "outputs": [],
   "source": []
  },
  {
   "cell_type": "code",
   "execution_count": null,
   "id": "bea3bdf3",
   "metadata": {},
   "outputs": [],
   "source": [
    "test_data = TensorDataset(test_inputs, test_masks, test_labels)"
   ]
  },
  {
   "cell_type": "code",
   "execution_count": null,
   "id": "c88eae1c",
   "metadata": {},
   "outputs": [],
   "source": [
    "test_dataloader = DataLoader(test_data, batch_size=32)"
   ]
  },
  {
   "cell_type": "code",
   "execution_count": null,
   "id": "8f989c11",
   "metadata": {},
   "outputs": [],
   "source": []
  },
  {
   "cell_type": "code",
   "execution_count": null,
   "id": "1b22ff23",
   "metadata": {},
   "outputs": [],
   "source": [
    "# Load Pre-trained Model"
   ]
  },
  {
   "cell_type": "code",
   "execution_count": null,
   "id": "b9d3c6b5",
   "metadata": {},
   "outputs": [],
   "source": [
    "model = BertForSequenceClassification.from_pretrained(\"bert-base-uncased\", num_labels=3) # 3 labels for positive, negative, neutral"
   ]
  },
  {
   "cell_type": "code",
   "execution_count": null,
   "id": "4ea0a014",
   "metadata": {},
   "outputs": [],
   "source": []
  },
  {
   "cell_type": "code",
   "execution_count": null,
   "id": "426a6611",
   "metadata": {},
   "outputs": [],
   "source": [
    "# Enable GPU"
   ]
  },
  {
   "cell_type": "code",
   "execution_count": null,
   "id": "c570252b",
   "metadata": {},
   "outputs": [],
   "source": [
    "device = torch.device('cuda' if torch.cuda.is_available() else 'cpu')"
   ]
  },
  {
   "cell_type": "code",
   "execution_count": null,
   "id": "cc5cb507",
   "metadata": {},
   "outputs": [],
   "source": [
    "model.to(device)"
   ]
  },
  {
   "cell_type": "code",
   "execution_count": null,
   "id": "568e1ad3",
   "metadata": {},
   "outputs": [],
   "source": []
  },
  {
   "cell_type": "code",
   "execution_count": null,
   "id": "b6c9abf6",
   "metadata": {},
   "outputs": [],
   "source": [
    "# Fine-tune (Optimizer, Loss Function, Training Loop)"
   ]
  },
  {
   "cell_type": "code",
   "execution_count": null,
   "id": "38b06c04",
   "metadata": {},
   "outputs": [],
   "source": [
    "optimizer = torch.optim.AdamW(model.parameters(), lr=2e-5, eps=1e-8)"
   ]
  },
  {
   "cell_type": "code",
   "execution_count": null,
   "id": "2765c776",
   "metadata": {},
   "outputs": [],
   "source": [
    "loss_fn = torch.nn.CrossEntropyLoss()"
   ]
  },
  {
   "cell_type": "code",
   "execution_count": null,
   "id": "30ad3b57",
   "metadata": {},
   "outputs": [],
   "source": []
  },
  {
   "cell_type": "code",
   "execution_count": null,
   "id": "b7ee4335",
   "metadata": {},
   "outputs": [],
   "source": [
    "for epoch in range(3):  # Adjust number of epochs"
   ]
  },
  {
   "cell_type": "code",
   "execution_count": null,
   "id": "14e52923",
   "metadata": {},
   "outputs": [],
   "source": [
    "    model.train()"
   ]
  },
  {
   "cell_type": "code",
   "execution_count": null,
   "id": "0fea7a23",
   "metadata": {},
   "outputs": [],
   "source": [
    "    for batch in train_dataloader:"
   ]
  },
  {
   "cell_type": "code",
   "execution_count": null,
   "id": "823b9f60",
   "metadata": {},
   "outputs": [],
   "source": [
    "        batch = tuple(t.to(device) for t in batch)"
   ]
  },
  {
   "cell_type": "code",
   "execution_count": null,
   "id": "93068fa8",
   "metadata": {},
   "outputs": [],
   "source": [
    "        b_input_ids, b_input_mask, b_labels = batch"
   ]
  },
  {
   "cell_type": "code",
   "execution_count": null,
   "id": "fb7f65d5",
   "metadata": {},
   "outputs": [],
   "source": []
  },
  {
   "cell_type": "code",
   "execution_count": null,
   "id": "9bcc8265",
   "metadata": {},
   "outputs": [],
   "source": [
    "        optimizer.zero_grad()"
   ]
  },
  {
   "cell_type": "code",
   "execution_count": null,
   "id": "144c0daf",
   "metadata": {},
   "outputs": [],
   "source": [
    "        outputs = model(b_input_ids,"
   ]
  },
  {
   "cell_type": "code",
   "execution_count": null,
   "id": "169bbbb5",
   "metadata": {},
   "outputs": [],
   "source": [
    "                        token_type_ids=None,"
   ]
  },
  {
   "cell_type": "code",
   "execution_count": null,
   "id": "00d8d050",
   "metadata": {},
   "outputs": [],
   "source": [
    "                        attention_mask=b_input_mask)"
   ]
  },
  {
   "cell_type": "code",
   "execution_count": null,
   "id": "1ab17589",
   "metadata": {},
   "outputs": [],
   "source": []
  },
  {
   "cell_type": "code",
   "execution_count": null,
   "id": "a6a5b0fd",
   "metadata": {},
   "outputs": [],
   "source": [
    "        loss = loss_fn(outputs.logits, b_labels)"
   ]
  },
  {
   "cell_type": "code",
   "execution_count": null,
   "id": "c0c12b15",
   "metadata": {},
   "outputs": [],
   "source": [
    "        loss.backward()"
   ]
  },
  {
   "cell_type": "code",
   "execution_count": null,
   "id": "ae34feb0",
   "metadata": {},
   "outputs": [],
   "source": [
    "        optimizer.step()"
   ]
  },
  {
   "cell_type": "code",
   "execution_count": null,
   "id": "61a44b0f",
   "metadata": {},
   "outputs": [],
   "source": [
    "# Evaluation"
   ]
  },
  {
   "cell_type": "code",
   "execution_count": null,
   "id": "1c908df3",
   "metadata": {},
   "outputs": [],
   "source": [
    "model.eval()"
   ]
  },
  {
   "cell_type": "code",
   "execution_count": null,
   "id": "6a9b26de",
   "metadata": {},
   "outputs": [],
   "source": [
    "logits_list, true_labels = [], []"
   ]
  },
  {
   "cell_type": "code",
   "execution_count": null,
   "id": "d13b1861",
   "metadata": {},
   "outputs": [],
   "source": [
    "for batch in test_dataloader:"
   ]
  },
  {
   "cell_type": "code",
   "execution_count": null,
   "id": "3c7e7855",
   "metadata": {},
   "outputs": [],
   "source": [
    "    batch = tuple(t.to(device) for t in batch)"
   ]
  },
  {
   "cell_type": "code",
   "execution_count": null,
   "id": "3759e9bf",
   "metadata": {},
   "outputs": [],
   "source": [
    "    b_input_ids, b_input_mask, b_labels = batch"
   ]
  }
 ],
 "metadata": {},
 "nbformat": 4,
 "nbformat_minor": 5
}
