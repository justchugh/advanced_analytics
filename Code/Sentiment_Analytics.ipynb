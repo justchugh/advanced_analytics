{
 "cells": [
  {
   "cell_type": "code",
   "execution_count": null,
   "id": "72fdf57c",
   "metadata": {},
   "outputs": [],
   "source": [
    "# EDA"
   ]
  },
  {
   "cell_type": "code",
   "execution_count": null,
   "id": "7c094f3c",
   "metadata": {},
   "outputs": [],
   "source": [
    "## Text Lenghts"
   ]
  },
  {
   "cell_type": "code",
   "execution_count": null,
   "id": "bb9f2ef6",
   "metadata": {},
   "outputs": [],
   "source": [
    "# Visualize the distribution of text lengths"
   ]
  },
  {
   "cell_type": "code",
   "execution_count": null,
   "id": "3fa47356",
   "metadata": {},
   "outputs": [],
   "source": [
    "plt.figure(figsize=(10, 6))"
   ]
  },
  {
   "cell_type": "code",
   "execution_count": null,
   "id": "c964fbdf",
   "metadata": {},
   "outputs": [],
   "source": [
    "sns.histplot(df['cleaned_length'], bins=30, color='purple')"
   ]
  },
  {
   "cell_type": "code",
   "execution_count": null,
   "id": "e28ef741",
   "metadata": {},
   "outputs": [],
   "source": [
    "plt.title('Distribution of Text Lengths')"
   ]
  },
  {
   "cell_type": "code",
   "execution_count": null,
   "id": "5c740218",
   "metadata": {},
   "outputs": [],
   "source": [
    "plt.xlabel('Length of Text (number of words)')"
   ]
  },
  {
   "cell_type": "code",
   "execution_count": null,
   "id": "b3c5b462",
   "metadata": {},
   "outputs": [],
   "source": [
    "plt.ylabel('Frequency')"
   ]
  },
  {
   "cell_type": "code",
   "execution_count": null,
   "id": "61a3c368",
   "metadata": {},
   "outputs": [],
   "source": [
    "plt.show()"
   ]
  },
  {
   "cell_type": "code",
   "execution_count": null,
   "id": "0cdb9f1c",
   "metadata": {},
   "outputs": [],
   "source": [
    "import pandas as pd"
   ]
  },
  {
   "cell_type": "code",
   "execution_count": null,
   "id": "fbb680d2",
   "metadata": {},
   "outputs": [],
   "source": [
    "from sklearn.feature_extraction.text import CountVectorizer"
   ]
  },
  {
   "cell_type": "code",
   "execution_count": null,
   "id": "729be85f",
   "metadata": {},
   "outputs": [],
   "source": [
    "import matplotlib.pyplot as plt"
   ]
  },
  {
   "cell_type": "code",
   "execution_count": null,
   "id": "f2ff4165",
   "metadata": {},
   "outputs": [],
   "source": []
  },
  {
   "cell_type": "code",
   "execution_count": null,
   "id": "58cd8646",
   "metadata": {},
   "outputs": [],
   "source": [
    "# Assuming 'df' is your DataFrame and 'cleaned_text' is the column with the text data"
   ]
  },
  {
   "cell_type": "code",
   "execution_count": null,
   "id": "460a1987",
   "metadata": {},
   "outputs": [],
   "source": [
    "vectorizer = CountVectorizer()"
   ]
  },
  {
   "cell_type": "code",
   "execution_count": null,
   "id": "e444dc4b",
   "metadata": {},
   "outputs": [],
   "source": [
    "X = vectorizer.fit_transform(df['cleaned_text'])"
   ]
  },
  {
   "cell_type": "code",
   "execution_count": null,
   "id": "45f7e4af",
   "metadata": {},
   "outputs": [],
   "source": []
  },
  {
   "cell_type": "code",
   "execution_count": null,
   "id": "d704345f",
   "metadata": {},
   "outputs": [],
   "source": [
    "# Summing up the counts of each vocabulary word"
   ]
  },
  {
   "cell_type": "code",
   "execution_count": null,
   "id": "6afd28a7",
   "metadata": {},
   "outputs": [],
   "source": [
    "sum_words = X.sum(axis=0)"
   ]
  },
  {
   "cell_type": "code",
   "execution_count": null,
   "id": "eeaf77f8",
   "metadata": {},
   "outputs": [],
   "source": [
    "words_freq = [(word, sum_words[0, idx]) for word, idx in vectorizer.vocabulary_.items()]"
   ]
  },
  {
   "cell_type": "code",
   "execution_count": null,
   "id": "9b5eeec0",
   "metadata": {},
   "outputs": [],
   "source": [
    "words_freq = sorted(words_freq, key=lambda x: x[1], reverse=True)"
   ]
  },
  {
   "cell_type": "code",
   "execution_count": null,
   "id": "dea8d422",
   "metadata": {},
   "outputs": [],
   "source": []
  },
  {
   "cell_type": "code",
   "execution_count": null,
   "id": "5ad8f2ad",
   "metadata": {},
   "outputs": [],
   "source": [
    "# Extracting the top 100 words"
   ]
  },
  {
   "cell_type": "code",
   "execution_count": null,
   "id": "38bb3786",
   "metadata": {},
   "outputs": [],
   "source": [
    "top_words = words_freq[:60]"
   ]
  },
  {
   "cell_type": "code",
   "execution_count": null,
   "id": "801929d9",
   "metadata": {},
   "outputs": [],
   "source": []
  },
  {
   "cell_type": "code",
   "execution_count": null,
   "id": "dcc67cd4",
   "metadata": {},
   "outputs": [],
   "source": [
    "# Converting to DataFrame for better visualization"
   ]
  },
  {
   "cell_type": "code",
   "execution_count": null,
   "id": "ec6d1443",
   "metadata": {},
   "outputs": [],
   "source": [
    "top_words_df = pd.DataFrame(top_words, columns=['Word', 'Frequency'])"
   ]
  },
  {
   "cell_type": "code",
   "execution_count": null,
   "id": "bdb9f733",
   "metadata": {},
   "outputs": [],
   "source": []
  },
  {
   "cell_type": "code",
   "execution_count": null,
   "id": "14e39d88",
   "metadata": {},
   "outputs": [],
   "source": [
    "# Printing the top 100 words with their frequencies"
   ]
  },
  {
   "cell_type": "code",
   "execution_count": null,
   "id": "9f2ec556",
   "metadata": {},
   "outputs": [],
   "source": [
    "top_words_df"
   ]
  },
  {
   "cell_type": "code",
   "execution_count": null,
   "id": "e7b27625",
   "metadata": {},
   "outputs": [],
   "source": [
    "## Calculate and Visualize the Frequency of Individual Words"
   ]
  },
  {
   "cell_type": "code",
   "execution_count": null,
   "id": "f08e2b1a",
   "metadata": {},
   "outputs": [],
   "source": []
  },
  {
   "cell_type": "code",
   "execution_count": null,
   "id": "b737b9fa",
   "metadata": {},
   "outputs": [],
   "source": [
    "from collections import Counter"
   ]
  },
  {
   "cell_type": "code",
   "execution_count": null,
   "id": "38e68459",
   "metadata": {},
   "outputs": [],
   "source": [
    "import itertools"
   ]
  },
  {
   "cell_type": "code",
   "execution_count": null,
   "id": "8a3b6734",
   "metadata": {},
   "outputs": [],
   "source": []
  },
  {
   "cell_type": "code",
   "execution_count": null,
   "id": "592e284d",
   "metadata": {},
   "outputs": [],
   "source": [
    "# Count frequencies of all words in the cleaned text"
   ]
  },
  {
   "cell_type": "code",
   "execution_count": null,
   "id": "d6a9c798",
   "metadata": {},
   "outputs": [],
   "source": [
    "all_words = list(itertools.chain(*df['cleaned_text'].str.split()))"
   ]
  },
  {
   "cell_type": "code",
   "execution_count": null,
   "id": "f5e76fcd",
   "metadata": {},
   "outputs": [],
   "source": [
    "word_counts = Counter(all_words)"
   ]
  },
  {
   "cell_type": "code",
   "execution_count": null,
   "id": "c8206210",
   "metadata": {},
   "outputs": [],
   "source": []
  },
  {
   "cell_type": "code",
   "execution_count": null,
   "id": "91b46b80",
   "metadata": {},
   "outputs": [],
   "source": [
    "# Display the top 20 most common words"
   ]
  },
  {
   "cell_type": "code",
   "execution_count": null,
   "id": "712c61f2",
   "metadata": {},
   "outputs": [],
   "source": [
    "most_common_words = word_counts.most_common(20)"
   ]
  },
  {
   "cell_type": "code",
   "execution_count": null,
   "id": "ddc3b498",
   "metadata": {},
   "outputs": [],
   "source": [
    "words, counts = zip(*most_common_words)"
   ]
  },
  {
   "cell_type": "code",
   "execution_count": null,
   "id": "b6b2789c",
   "metadata": {},
   "outputs": [],
   "source": []
  },
  {
   "cell_type": "code",
   "execution_count": null,
   "id": "38a0a72e",
   "metadata": {},
   "outputs": [],
   "source": [
    "# Corrected code to visualize the Top 20 Most Frequent Words"
   ]
  },
  {
   "cell_type": "code",
   "execution_count": null,
   "id": "10c716f0",
   "metadata": {},
   "outputs": [],
   "source": [
    "plt.figure(figsize=(12, 8))"
   ]
  },
  {
   "cell_type": "code",
   "execution_count": null,
   "id": "b9eef999",
   "metadata": {},
   "outputs": [],
   "source": [
    "sns.barplot(x=list(words), y=list(counts))  # Explicitly name the parameters"
   ]
  },
  {
   "cell_type": "code",
   "execution_count": null,
   "id": "5f5310ec",
   "metadata": {},
   "outputs": [],
   "source": [
    "plt.title('Top 20 Most Frequent Words')"
   ]
  },
  {
   "cell_type": "code",
   "execution_count": null,
   "id": "459ece05",
   "metadata": {},
   "outputs": [],
   "source": [
    "plt.xticks(rotation=45)"
   ]
  },
  {
   "cell_type": "code",
   "execution_count": null,
   "id": "109ca66a",
   "metadata": {},
   "outputs": [],
   "source": [
    "plt.xlabel('Words')"
   ]
  }
 ],
 "metadata": {},
 "nbformat": 4,
 "nbformat_minor": 5
}
