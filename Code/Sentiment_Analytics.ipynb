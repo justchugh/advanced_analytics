{
 "cells": [
  {
   "cell_type": "code",
   "execution_count": null,
   "id": "437bcd1a",
   "metadata": {},
   "outputs": [],
   "source": [
    "## Tabulate"
   ]
  },
  {
   "cell_type": "code",
   "execution_count": null,
   "id": "30f846cb",
   "metadata": {},
   "outputs": [],
   "source": []
  },
  {
   "cell_type": "code",
   "execution_count": null,
   "id": "30634c3c",
   "metadata": {},
   "outputs": [],
   "source": [
    "import pandas as pd"
   ]
  },
  {
   "cell_type": "code",
   "execution_count": null,
   "id": "60775ce8",
   "metadata": {},
   "outputs": [],
   "source": [
    "from tabulate import tabulate"
   ]
  },
  {
   "cell_type": "code",
   "execution_count": null,
   "id": "ea5c118e",
   "metadata": {},
   "outputs": [],
   "source": []
  },
  {
   "cell_type": "code",
   "execution_count": null,
   "id": "65ca0b29",
   "metadata": {},
   "outputs": [],
   "source": [
    "# Example data: replace this with your actual model metrics"
   ]
  },
  {
   "cell_type": "code",
   "execution_count": null,
   "id": "d3516dfa",
   "metadata": {},
   "outputs": [],
   "source": [
    "data = ["
   ]
  },
  {
   "cell_type": "code",
   "execution_count": null,
   "id": "e3e917d6",
   "metadata": {},
   "outputs": [],
   "source": [
    "    {\"Model\": \"Logistic Regression\", \"Type\": \"Machine Learning\", \"Accuracy\": 0.74, \"Precision\": 0.74, \"Recall\": 0.74, \"F1-Score\": 0.71, \"ROC AUC Score\": 0.85},"
   ]
  },
  {
   "cell_type": "code",
   "execution_count": null,
   "id": "8c09de83",
   "metadata": {},
   "outputs": [],
   "source": [
    "    {\"Model\": \"SVM\", \"Type\": \"Machine Learning\", \"Accuracy\": 0.76, \"Precision\": 0.75, \"Recall\": 0.76, \"F1-Score\": 0.75, \"ROC AUC Score\": 0.87},"
   ]
  },
  {
   "cell_type": "code",
   "execution_count": null,
   "id": "20a6da6f",
   "metadata": {},
   "outputs": [],
   "source": [
    "    {\"Model\": \"Random Forest\", \"Type\": \"Machine Learning\", \"Accuracy\": 0.76, \"Precision\": 0.75, \"Recall\": 0.76, \"F1-Score\": 0.73, \"ROC AUC Score\": 0.83},"
   ]
  },
  {
   "cell_type": "code",
   "execution_count": null,
   "id": "07205b66",
   "metadata": {},
   "outputs": [],
   "source": [
    "    {\"Model\": \"CNN\", \"Type\": \"Deep Learning\", \"Accuracy\": 0.76, \"Precision\": 0.75, \"Recall\": 0.76, \"F1-Score\": 0.75, \"ROC AUC Score\": 0.85},"
   ]
  },
  {
   "cell_type": "code",
   "execution_count": null,
   "id": "d35c2f91",
   "metadata": {},
   "outputs": [],
   "source": [
    "    {\"Model\": \"LSTM\", \"Type\": \"Deep Learning\", \"Accuracy\": 0.66, \"Precision\": 0.68, \"Recall\": 0.66, \"F1-Score\": 0.67, \"ROC AUC Score\": 0.80},"
   ]
  },
  {
   "cell_type": "code",
   "execution_count": null,
   "id": "ceab7433",
   "metadata": {},
   "outputs": [],
   "source": [
    "    {\"Model\": \"BiLSTM\", \"Type\": \"Deep Learning\", \"Accuracy\": 0.63, \"Precision\": 0.64, \"Recall\": 0.63, \"F1-Score\": 0.64, \"ROC AUC Score\": 0.77},"
   ]
  },
  {
   "cell_type": "code",
   "execution_count": null,
   "id": "b21aee29",
   "metadata": {},
   "outputs": [],
   "source": [
    "    {\"Model\": \"BERT\", \"Type\": \"Transformer Model\", \"Accuracy\": 0.85, \"Precision\": 0.86, \"Recall\": 0.85, \"F1-Score\": 0.85, \"ROC AUC Score\": 0.94},"
   ]
  },
  {
   "cell_type": "code",
   "execution_count": null,
   "id": "07c61c88",
   "metadata": {},
   "outputs": [],
   "source": [
    "    {\"Model\": \"RoBERTa\", \"Type\": \"Transformer Model\", \"Accuracy\": 0.87, \"Precision\": 0.87, \"Recall\": 0.87, \"F1-Score\": 0.86, \"ROC AUC Score\": 0.95},"
   ]
  },
  {
   "cell_type": "code",
   "execution_count": null,
   "id": "6f0ae952",
   "metadata": {},
   "outputs": [],
   "source": [
    "]"
   ]
  },
  {
   "cell_type": "code",
   "execution_count": null,
   "id": "b130a288",
   "metadata": {},
   "outputs": [],
   "source": []
  },
  {
   "cell_type": "code",
   "execution_count": null,
   "id": "39f341a9",
   "metadata": {},
   "outputs": [],
   "source": [
    "# Creating a DataFrame"
   ]
  },
  {
   "cell_type": "code",
   "execution_count": null,
   "id": "b4ecd2d0",
   "metadata": {},
   "outputs": [],
   "source": [
    "df = pd.DataFrame(data)"
   ]
  },
  {
   "cell_type": "code",
   "execution_count": null,
   "id": "1c2d08ca",
   "metadata": {},
   "outputs": [],
   "source": []
  },
  {
   "cell_type": "code",
   "execution_count": null,
   "id": "fe32fcf7",
   "metadata": {},
   "outputs": [],
   "source": [
    "# Optionally, fill NaN values with dashes if any"
   ]
  },
  {
   "cell_type": "code",
   "execution_count": null,
   "id": "38858757",
   "metadata": {},
   "outputs": [],
   "source": [
    "df.fillna('-', inplace=True)"
   ]
  },
  {
   "cell_type": "code",
   "execution_count": null,
   "id": "f6b33f35",
   "metadata": {},
   "outputs": [],
   "source": []
  }
 ],
 "metadata": {},
 "nbformat": 4,
 "nbformat_minor": 5
}
