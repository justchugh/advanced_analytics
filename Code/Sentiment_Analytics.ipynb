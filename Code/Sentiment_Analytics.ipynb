{
 "cells": [
  {
   "cell_type": "code",
   "execution_count": null,
   "id": "45b64403",
   "metadata": {},
   "outputs": [],
   "source": [
    "##roBERTa"
   ]
  },
  {
   "cell_type": "code",
   "execution_count": null,
   "id": "0a77e869",
   "metadata": {},
   "outputs": [],
   "source": [
    "!pip install transformers torch"
   ]
  },
  {
   "cell_type": "code",
   "execution_count": null,
   "id": "14cdc693",
   "metadata": {},
   "outputs": [],
   "source": []
  },
  {
   "cell_type": "code",
   "execution_count": null,
   "id": "30f97f1a",
   "metadata": {},
   "outputs": [],
   "source": [
    "import pandas as pd"
   ]
  },
  {
   "cell_type": "code",
   "execution_count": null,
   "id": "69ddf009",
   "metadata": {},
   "outputs": [],
   "source": [
    "from transformers import RobertaTokenizer, RobertaForSequenceClassification"
   ]
  },
  {
   "cell_type": "code",
   "execution_count": null,
   "id": "c9a1dfc6",
   "metadata": {},
   "outputs": [],
   "source": [
    "import torch"
   ]
  },
  {
   "cell_type": "code",
   "execution_count": null,
   "id": "eb63d3bf",
   "metadata": {},
   "outputs": [],
   "source": [
    "from torch.utils.data import DataLoader, TensorDataset"
   ]
  },
  {
   "cell_type": "code",
   "execution_count": null,
   "id": "5c317191",
   "metadata": {},
   "outputs": [],
   "source": [
    "from sklearn.model_selection import train_test_split"
   ]
  },
  {
   "cell_type": "code",
   "execution_count": null,
   "id": "f6b42f98",
   "metadata": {},
   "outputs": [],
   "source": [
    "from sklearn.preprocessing import LabelEncoder"
   ]
  },
  {
   "cell_type": "code",
   "execution_count": null,
   "id": "4e39ca0a",
   "metadata": {},
   "outputs": [],
   "source": []
  },
  {
   "cell_type": "code",
   "execution_count": null,
   "id": "c40cf90c",
   "metadata": {},
   "outputs": [],
   "source": [
    "# Encoding labels ('positive', 'negative', 'neutral') to numerical values"
   ]
  },
  {
   "cell_type": "code",
   "execution_count": null,
   "id": "bb3e956a",
   "metadata": {},
   "outputs": [],
   "source": [
    "label_encoder = LabelEncoder()"
   ]
  },
  {
   "cell_type": "code",
   "execution_count": null,
   "id": "c22fd09e",
   "metadata": {},
   "outputs": [],
   "source": [
    "df['class'] = label_encoder.fit_transform(df['class'])"
   ]
  },
  {
   "cell_type": "code",
   "execution_count": null,
   "id": "e9e9c7df",
   "metadata": {},
   "outputs": [],
   "source": []
  },
  {
   "cell_type": "code",
   "execution_count": null,
   "id": "a550b0c1",
   "metadata": {},
   "outputs": [],
   "source": [
    "# Tokenization and Data Preparation (using cleaned text)"
   ]
  },
  {
   "cell_type": "code",
   "execution_count": null,
   "id": "1d99ae39",
   "metadata": {},
   "outputs": [],
   "source": [
    "tokenizer = RobertaTokenizer.from_pretrained('roberta-base')"
   ]
  },
  {
   "cell_type": "code",
   "execution_count": null,
   "id": "c3531482",
   "metadata": {},
   "outputs": [],
   "source": [
    "encoded_data = tokenizer.batch_encode_plus("
   ]
  },
  {
   "cell_type": "code",
   "execution_count": null,
   "id": "e0e1afb9",
   "metadata": {},
   "outputs": [],
   "source": [
    "    df['cleaned_text'].tolist(),"
   ]
  },
  {
   "cell_type": "code",
   "execution_count": null,
   "id": "70860d95",
   "metadata": {},
   "outputs": [],
   "source": [
    "    add_special_tokens=True,"
   ]
  },
  {
   "cell_type": "code",
   "execution_count": null,
   "id": "156f7b24",
   "metadata": {},
   "outputs": [],
   "source": [
    "    return_attention_mask=True,"
   ]
  },
  {
   "cell_type": "code",
   "execution_count": null,
   "id": "1949d6ed",
   "metadata": {},
   "outputs": [],
   "source": [
    "    padding='max_length',"
   ]
  },
  {
   "cell_type": "code",
   "execution_count": null,
   "id": "7bd27928",
   "metadata": {},
   "outputs": [],
   "source": [
    "    max_length=128,  # Adjust if your sentences are longer"
   ]
  },
  {
   "cell_type": "code",
   "execution_count": null,
   "id": "e8e51196",
   "metadata": {},
   "outputs": [],
   "source": [
    "    truncation=True,"
   ]
  },
  {
   "cell_type": "code",
   "execution_count": null,
   "id": "6b2c7fcc",
   "metadata": {},
   "outputs": [],
   "source": [
    "    return_tensors='pt'"
   ]
  },
  {
   "cell_type": "code",
   "execution_count": null,
   "id": "5600e790",
   "metadata": {},
   "outputs": [],
   "source": [
    ")"
   ]
  },
  {
   "cell_type": "code",
   "execution_count": null,
   "id": "2da984d8",
   "metadata": {},
   "outputs": [],
   "source": []
  },
  {
   "cell_type": "code",
   "execution_count": null,
   "id": "0c51b24a",
   "metadata": {},
   "outputs": [],
   "source": [
    "input_ids = encoded_data['input_ids']"
   ]
  },
  {
   "cell_type": "code",
   "execution_count": null,
   "id": "a9d3e724",
   "metadata": {},
   "outputs": [],
   "source": [
    "attention_masks = encoded_data['attention_mask']"
   ]
  },
  {
   "cell_type": "code",
   "execution_count": null,
   "id": "bd178d5e",
   "metadata": {},
   "outputs": [],
   "source": [
    "labels = torch.tensor(df['label'].tolist())"
   ]
  },
  {
   "cell_type": "code",
   "execution_count": null,
   "id": "77f0e382",
   "metadata": {},
   "outputs": [],
   "source": []
  },
  {
   "cell_type": "code",
   "execution_count": null,
   "id": "c643baa3",
   "metadata": {},
   "outputs": [],
   "source": [
    "# Split into training and testing sets"
   ]
  },
  {
   "cell_type": "code",
   "execution_count": null,
   "id": "23022a8c",
   "metadata": {},
   "outputs": [],
   "source": [
    "train_inputs, test_inputs, train_labels, test_labels = train_test_split("
   ]
  },
  {
   "cell_type": "code",
   "execution_count": null,
   "id": "acf64719",
   "metadata": {},
   "outputs": [],
   "source": [
    "    input_ids, labels, random_state=35476648, test_size=0.2"
   ]
  },
  {
   "cell_type": "code",
   "execution_count": null,
   "id": "fe8b4266",
   "metadata": {},
   "outputs": [],
   "source": [
    ")"
   ]
  },
  {
   "cell_type": "code",
   "execution_count": null,
   "id": "68316ac7",
   "metadata": {},
   "outputs": [],
   "source": [
    "train_masks, test_masks, _, _ = train_test_split("
   ]
  },
  {
   "cell_type": "code",
   "execution_count": null,
   "id": "b5889550",
   "metadata": {},
   "outputs": [],
   "source": [
    "    attention_masks, input_ids, random_state=35476648, test_size=0.2"
   ]
  },
  {
   "cell_type": "code",
   "execution_count": null,
   "id": "3ac9e8fc",
   "metadata": {},
   "outputs": [],
   "source": [
    ")"
   ]
  },
  {
   "cell_type": "code",
   "execution_count": null,
   "id": "a1886d4e",
   "metadata": {},
   "outputs": [],
   "source": [
    "# Create DataLoader"
   ]
  },
  {
   "cell_type": "code",
   "execution_count": null,
   "id": "01c67987",
   "metadata": {},
   "outputs": [],
   "source": [
    "train_data = TensorDataset(train_inputs, train_masks, train_labels)"
   ]
  },
  {
   "cell_type": "code",
   "execution_count": null,
   "id": "6bfb2bfd",
   "metadata": {},
   "outputs": [],
   "source": [
    "train_dataloader = DataLoader(train_data, batch_size=32, shuffle=True)"
   ]
  },
  {
   "cell_type": "code",
   "execution_count": null,
   "id": "9e9d17aa",
   "metadata": {},
   "outputs": [],
   "source": []
  },
  {
   "cell_type": "code",
   "execution_count": null,
   "id": "89be8d8f",
   "metadata": {},
   "outputs": [],
   "source": [
    "test_data = TensorDataset(test_inputs, test_masks, test_labels)"
   ]
  },
  {
   "cell_type": "code",
   "execution_count": null,
   "id": "69832cc3",
   "metadata": {},
   "outputs": [],
   "source": [
    "test_dataloader = DataLoader(test_data, batch_size=32)"
   ]
  },
  {
   "cell_type": "code",
   "execution_count": null,
   "id": "50d47c3c",
   "metadata": {},
   "outputs": [],
   "source": []
  },
  {
   "cell_type": "code",
   "execution_count": null,
   "id": "3f3df9b4",
   "metadata": {},
   "outputs": [],
   "source": [
    "# Load Pre-trained Model"
   ]
  },
  {
   "cell_type": "code",
   "execution_count": null,
   "id": "faa55b72",
   "metadata": {},
   "outputs": [],
   "source": [
    "model = RobertaForSequenceClassification.from_pretrained(\"roberta-base\", num_labels=3) # 3 labels for positive, negative, neutral"
   ]
  },
  {
   "cell_type": "code",
   "execution_count": null,
   "id": "db88d705",
   "metadata": {},
   "outputs": [],
   "source": []
  },
  {
   "cell_type": "code",
   "execution_count": null,
   "id": "b113f134",
   "metadata": {},
   "outputs": [],
   "source": [
    "# Enable GPU"
   ]
  },
  {
   "cell_type": "code",
   "execution_count": null,
   "id": "b4ee5440",
   "metadata": {},
   "outputs": [],
   "source": [
    "device = torch.device('cuda' if torch.cuda.is_available() else 'cpu')"
   ]
  },
  {
   "cell_type": "code",
   "execution_count": null,
   "id": "d5e6d089",
   "metadata": {},
   "outputs": [],
   "source": [
    "model.to(device)"
   ]
  },
  {
   "cell_type": "code",
   "execution_count": null,
   "id": "8533bd24",
   "metadata": {},
   "outputs": [],
   "source": []
  },
  {
   "cell_type": "code",
   "execution_count": null,
   "id": "74e680d8",
   "metadata": {},
   "outputs": [],
   "source": [
    "# Fine-tune (Optimizer, Loss Function, Training Loop)"
   ]
  },
  {
   "cell_type": "code",
   "execution_count": null,
   "id": "e0924b22",
   "metadata": {},
   "outputs": [],
   "source": [
    "optimizer = torch.optim.AdamW(model.parameters(), lr=2e-5, eps=1e-8)"
   ]
  },
  {
   "cell_type": "code",
   "execution_count": null,
   "id": "95f3c6b9",
   "metadata": {},
   "outputs": [],
   "source": [
    "loss_fn = torch.nn.CrossEntropyLoss()"
   ]
  },
  {
   "cell_type": "code",
   "execution_count": null,
   "id": "20714bb2",
   "metadata": {},
   "outputs": [],
   "source": []
  },
  {
   "cell_type": "code",
   "execution_count": null,
   "id": "38033336",
   "metadata": {},
   "outputs": [],
   "source": [
    "for epoch in range(3):  # Adjust number of epochs"
   ]
  },
  {
   "cell_type": "code",
   "execution_count": null,
   "id": "2c399eb5",
   "metadata": {},
   "outputs": [],
   "source": [
    "    model.train()"
   ]
  },
  {
   "cell_type": "code",
   "execution_count": null,
   "id": "e1fe6a4f",
   "metadata": {},
   "outputs": [],
   "source": [
    "    for batch in train_dataloader:"
   ]
  },
  {
   "cell_type": "code",
   "execution_count": null,
   "id": "783b84da",
   "metadata": {},
   "outputs": [],
   "source": [
    "        batch = tuple(t.to(device) for t in batch)"
   ]
  },
  {
   "cell_type": "code",
   "execution_count": null,
   "id": "9b564689",
   "metadata": {},
   "outputs": [],
   "source": [
    "        b_input_ids, b_input_mask, b_labels = batch"
   ]
  },
  {
   "cell_type": "code",
   "execution_count": null,
   "id": "bb157b66",
   "metadata": {},
   "outputs": [],
   "source": []
  },
  {
   "cell_type": "code",
   "execution_count": null,
   "id": "dc48f43f",
   "metadata": {},
   "outputs": [],
   "source": [
    "        optimizer.zero_grad()"
   ]
  },
  {
   "cell_type": "code",
   "execution_count": null,
   "id": "d5d001e0",
   "metadata": {},
   "outputs": [],
   "source": [
    "        outputs = model(b_input_ids, attention_mask=b_input_mask)  # RoBERTa doesn't use token_type_ids"
   ]
  },
  {
   "cell_type": "code",
   "execution_count": null,
   "id": "8c8ebbeb",
   "metadata": {},
   "outputs": [],
   "source": []
  },
  {
   "cell_type": "code",
   "execution_count": null,
   "id": "bc2e2f5b",
   "metadata": {},
   "outputs": [],
   "source": [
    "        loss = loss_fn(outputs.logits, b_labels)"
   ]
  },
  {
   "cell_type": "code",
   "execution_count": null,
   "id": "60097dfc",
   "metadata": {},
   "outputs": [],
   "source": [
    "        loss.backward()"
   ]
  },
  {
   "cell_type": "code",
   "execution_count": null,
   "id": "d08460b3",
   "metadata": {},
   "outputs": [],
   "source": [
    "        optimizer.step()"
   ]
  },
  {
   "cell_type": "code",
   "execution_count": null,
   "id": "1f5e1ce2",
   "metadata": {},
   "outputs": [],
   "source": []
  },
  {
   "cell_type": "code",
   "execution_count": null,
   "id": "e655a8aa",
   "metadata": {},
   "outputs": [],
   "source": [
    "# Evaluation"
   ]
  },
  {
   "cell_type": "code",
   "execution_count": null,
   "id": "d289ce55",
   "metadata": {},
   "outputs": [],
   "source": [
    "model.eval()"
   ]
  },
  {
   "cell_type": "code",
   "execution_count": null,
   "id": "2f2d1092",
   "metadata": {},
   "outputs": [],
   "source": [
    "logits_list, true_labels = [], []"
   ]
  },
  {
   "cell_type": "code",
   "execution_count": null,
   "id": "1a36a512",
   "metadata": {},
   "outputs": [],
   "source": [
    "for batch in test_dataloader:"
   ]
  },
  {
   "cell_type": "code",
   "execution_count": null,
   "id": "8d8a3e34",
   "metadata": {},
   "outputs": [],
   "source": [
    "    batch = tuple(t.to(device) for t in batch)"
   ]
  },
  {
   "cell_type": "code",
   "execution_count": null,
   "id": "1f32ecd5",
   "metadata": {},
   "outputs": [],
   "source": [
    "    b_input_ids, b_input_mask, b_labels = batch"
   ]
  },
  {
   "cell_type": "code",
   "execution_count": null,
   "id": "d54663de",
   "metadata": {},
   "outputs": [],
   "source": [
    "    with torch.no_grad():"
   ]
  },
  {
   "cell_type": "code",
   "execution_count": null,
   "id": "5268a098",
   "metadata": {},
   "outputs": [],
   "source": [
    "        outputs = model(b_input_ids, attention_mask=b_input_mask)"
   ]
  },
  {
   "cell_type": "code",
   "execution_count": null,
   "id": "a122efbc",
   "metadata": {},
   "outputs": [],
   "source": [
    "    logits = outputs.logits.detach().cpu().numpy()"
   ]
  },
  {
   "cell_type": "code",
   "execution_count": null,
   "id": "682ec0f7",
   "metadata": {},
   "outputs": [],
   "source": [
    "    label_ids = b_labels.to('cpu').numpy()"
   ]
  },
  {
   "cell_type": "code",
   "execution_count": null,
   "id": "1fa6e2e5",
   "metadata": {},
   "outputs": [],
   "source": [
    "    logits_list.extend(logits)"
   ]
  },
  {
   "cell_type": "code",
   "execution_count": null,
   "id": "5c1a4581",
   "metadata": {},
   "outputs": [],
   "source": [
    "    true_labels.extend(label_ids)"
   ]
  },
  {
   "cell_type": "code",
   "execution_count": null,
   "id": "81df3432",
   "metadata": {},
   "outputs": [],
   "source": []
  },
  {
   "cell_type": "code",
   "execution_count": null,
   "id": "246809a2",
   "metadata": {},
   "outputs": [],
   "source": [
    "# Convert logits to probabilities"
   ]
  },
  {
   "cell_type": "code",
   "execution_count": null,
   "id": "2c74f24a",
   "metadata": {},
   "outputs": [],
   "source": [
    "softmax = torch.nn.Softmax(dim=1)"
   ]
  },
  {
   "cell_type": "code",
   "execution_count": null,
   "id": "52c640da",
   "metadata": {},
   "outputs": [],
   "source": [
    "probs = softmax(torch.tensor(logits_list)).numpy()"
   ]
  },
  {
   "cell_type": "code",
   "execution_count": null,
   "id": "4d638d50",
   "metadata": {},
   "outputs": [],
   "source": []
  },
  {
   "cell_type": "code",
   "execution_count": null,
   "id": "822bf127",
   "metadata": {},
   "outputs": [],
   "source": [
    "# Binarize the labels and calculate ROC AUC"
   ]
  },
  {
   "cell_type": "code",
   "execution_count": null,
   "id": "ffef8956",
   "metadata": {},
   "outputs": [],
   "source": [
    "y_test_binarized = label_binarize(true_labels, classes=[0, 1, 2])"
   ]
  },
  {
   "cell_type": "code",
   "execution_count": null,
   "id": "663f30f6",
   "metadata": {},
   "outputs": [],
   "source": [
    "n_classes = y_test_binarized.shape[1]"
   ]
  },
  {
   "cell_type": "code",
   "execution_count": null,
   "id": "9d055d9e",
   "metadata": {},
   "outputs": [],
   "source": []
  },
  {
   "cell_type": "code",
   "execution_count": null,
   "id": "09c9abde",
   "metadata": {},
   "outputs": [],
   "source": [
    "fpr, tpr, roc_auc = {}, {}, {}"
   ]
  },
  {
   "cell_type": "code",
   "execution_count": null,
   "id": "24cac278",
   "metadata": {},
   "outputs": [],
   "source": [
    "for i in range(n_classes):"
   ]
  },
  {
   "cell_type": "code",
   "execution_count": null,
   "id": "3ea7b5a0",
   "metadata": {},
   "outputs": [],
   "source": [
    "    fpr[i], tpr[i], _ = roc_curve(y_test_binarized[:, i], probs[:, i])"
   ]
  },
  {
   "cell_type": "code",
   "execution_count": null,
   "id": "80bb4fc7",
   "metadata": {},
   "outputs": [],
   "source": [
    "    roc_auc[i] = auc(fpr[i], tpr[i])"
   ]
  },
  {
   "cell_type": "code",
   "execution_count": null,
   "id": "808f18a4",
   "metadata": {},
   "outputs": [],
   "source": []
  },
  {
   "cell_type": "code",
   "execution_count": null,
   "id": "2965ee1a",
   "metadata": {},
   "outputs": [],
   "source": [
    "# Calculate macro-average ROC AUC"
   ]
  },
  {
   "cell_type": "code",
   "execution_count": null,
   "id": "9adbda15",
   "metadata": {},
   "outputs": [],
   "source": [
    "roc_auc[\"macro\"] = roc_auc_score(y_test_binarized, probs, multi_class=\"ovr\", average=\"macro\")"
   ]
  },
  {
   "cell_type": "code",
   "execution_count": null,
   "id": "0d8f4e05",
   "metadata": {},
   "outputs": [],
   "source": []
  },
  {
   "cell_type": "code",
   "execution_count": null,
   "id": "1bf392b7",
   "metadata": {},
   "outputs": [],
   "source": [
    "# Plot all ROC curves"
   ]
  },
  {
   "cell_type": "code",
   "execution_count": null,
   "id": "37d1dc43",
   "metadata": {},
   "outputs": [],
   "source": [
    "plt.figure()"
   ]
  },
  {
   "cell_type": "code",
   "execution_count": null,
   "id": "f68ec201",
   "metadata": {},
   "outputs": [],
   "source": [
    "colors = cycle(['blue', 'green', 'red'])"
   ]
  },
  {
   "cell_type": "code",
   "execution_count": null,
   "id": "90cf6a12",
   "metadata": {},
   "outputs": [],
   "source": [
    "for i, color in zip(range(n_classes), colors):"
   ]
  },
  {
   "cell_type": "code",
   "execution_count": null,
   "id": "f5b17f52",
   "metadata": {},
   "outputs": [],
   "source": [
    "    plt.plot(fpr[i], tpr[i], color=color, lw=2,"
   ]
  },
  {
   "cell_type": "code",
   "execution_count": null,
   "id": "4195dd5f",
   "metadata": {},
   "outputs": [],
   "source": [
    "             label='ROC curve of class {0} (area = {1:0.2f})'.format(i, roc_auc[i]))"
   ]
  },
  {
   "cell_type": "code",
   "execution_count": null,
   "id": "5af9672c",
   "metadata": {},
   "outputs": [],
   "source": []
  },
  {
   "cell_type": "code",
   "execution_count": null,
   "id": "5765aee0",
   "metadata": {},
   "outputs": [],
   "source": [
    "plt.plot([0, 1], [0, 1], 'k--', lw=2)"
   ]
  },
  {
   "cell_type": "code",
   "execution_count": null,
   "id": "a7caf501",
   "metadata": {},
   "outputs": [],
   "source": [
    "plt.xlim([0.0, 1.0])"
   ]
  },
  {
   "cell_type": "code",
   "execution_count": null,
   "id": "50b9b514",
   "metadata": {},
   "outputs": [],
   "source": [
    "plt.ylim([0.0, 1.05])"
   ]
  },
  {
   "cell_type": "code",
   "execution_count": null,
   "id": "57e41f89",
   "metadata": {},
   "outputs": [],
   "source": [
    "plt.xlabel('False Positive Rate')"
   ]
  },
  {
   "cell_type": "code",
   "execution_count": null,
   "id": "c727afe8",
   "metadata": {},
   "outputs": [],
   "source": [
    "plt.ylabel('True Positive Rate')"
   ]
  },
  {
   "cell_type": "code",
   "execution_count": null,
   "id": "bcca4292",
   "metadata": {},
   "outputs": [],
   "source": [
    "plt.title('Multiclass ROC')"
   ]
  },
  {
   "cell_type": "code",
   "execution_count": null,
   "id": "9b7579b2",
   "metadata": {},
   "outputs": [],
   "source": [
    "plt.legend(loc=\"lower right\")"
   ]
  },
  {
   "cell_type": "code",
   "execution_count": null,
   "id": "852425cb",
   "metadata": {},
   "outputs": [],
   "source": [
    "plt.show()"
   ]
  },
  {
   "cell_type": "code",
   "execution_count": null,
   "id": "550614ab",
   "metadata": {},
   "outputs": [],
   "source": []
  },
  {
   "cell_type": "code",
   "execution_count": null,
   "id": "e7286453",
   "metadata": {},
   "outputs": [],
   "source": [
    "# Print out all AUC scores"
   ]
  },
  {
   "cell_type": "code",
   "execution_count": null,
   "id": "754f6b28",
   "metadata": {},
   "outputs": [],
   "source": [
    "print(\"AUC for each class:\")"
   ]
  },
  {
   "cell_type": "code",
   "execution_count": null,
   "id": "be2c962d",
   "metadata": {},
   "outputs": [],
   "source": [
    "for i in range(n_classes):"
   ]
  }
 ],
 "metadata": {},
 "nbformat": 4,
 "nbformat_minor": 5
}
