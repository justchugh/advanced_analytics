{
 "cells": [
  {
   "cell_type": "code",
   "execution_count": null,
   "id": "9aad1c6b",
   "metadata": {},
   "outputs": [],
   "source": [
    "##roBERTa"
   ]
  },
  {
   "cell_type": "code",
   "execution_count": null,
   "id": "5ec03eea",
   "metadata": {},
   "outputs": [],
   "source": [
    "!pip install transformers torch"
   ]
  },
  {
   "cell_type": "code",
   "execution_count": null,
   "id": "d1350c2d",
   "metadata": {},
   "outputs": [],
   "source": []
  },
  {
   "cell_type": "code",
   "execution_count": null,
   "id": "8c60bbf0",
   "metadata": {},
   "outputs": [],
   "source": [
    "import pandas as pd"
   ]
  },
  {
   "cell_type": "code",
   "execution_count": null,
   "id": "0dcbd400",
   "metadata": {},
   "outputs": [],
   "source": [
    "from transformers import RobertaTokenizer, RobertaForSequenceClassification"
   ]
  },
  {
   "cell_type": "code",
   "execution_count": null,
   "id": "c8fa58ea",
   "metadata": {},
   "outputs": [],
   "source": [
    "import torch"
   ]
  },
  {
   "cell_type": "code",
   "execution_count": null,
   "id": "3bbd446c",
   "metadata": {},
   "outputs": [],
   "source": [
    "from torch.utils.data import DataLoader, TensorDataset"
   ]
  },
  {
   "cell_type": "code",
   "execution_count": null,
   "id": "561d26d6",
   "metadata": {},
   "outputs": [],
   "source": [
    "from sklearn.model_selection import train_test_split"
   ]
  },
  {
   "cell_type": "code",
   "execution_count": null,
   "id": "f1710da6",
   "metadata": {},
   "outputs": [],
   "source": [
    "from sklearn.preprocessing import LabelEncoder"
   ]
  },
  {
   "cell_type": "code",
   "execution_count": null,
   "id": "8393bd2a",
   "metadata": {},
   "outputs": [],
   "source": []
  },
  {
   "cell_type": "code",
   "execution_count": null,
   "id": "e41845e3",
   "metadata": {},
   "outputs": [],
   "source": [
    "# Encoding labels ('positive', 'negative', 'neutral') to numerical values"
   ]
  },
  {
   "cell_type": "code",
   "execution_count": null,
   "id": "b4210f91",
   "metadata": {},
   "outputs": [],
   "source": [
    "label_encoder = LabelEncoder()"
   ]
  },
  {
   "cell_type": "code",
   "execution_count": null,
   "id": "354f8efc",
   "metadata": {},
   "outputs": [],
   "source": [
    "df['class'] = label_encoder.fit_transform(df['class'])"
   ]
  },
  {
   "cell_type": "code",
   "execution_count": null,
   "id": "165a0e32",
   "metadata": {},
   "outputs": [],
   "source": []
  },
  {
   "cell_type": "code",
   "execution_count": null,
   "id": "8bee2467",
   "metadata": {},
   "outputs": [],
   "source": [
    "# Tokenization and Data Preparation (using cleaned text)"
   ]
  },
  {
   "cell_type": "code",
   "execution_count": null,
   "id": "9bd087de",
   "metadata": {},
   "outputs": [],
   "source": [
    "tokenizer = RobertaTokenizer.from_pretrained('roberta-base')"
   ]
  },
  {
   "cell_type": "code",
   "execution_count": null,
   "id": "2b56a6d0",
   "metadata": {},
   "outputs": [],
   "source": [
    "encoded_data = tokenizer.batch_encode_plus("
   ]
  },
  {
   "cell_type": "code",
   "execution_count": null,
   "id": "299f405c",
   "metadata": {},
   "outputs": [],
   "source": [
    "    df['cleaned_text'].tolist(),"
   ]
  },
  {
   "cell_type": "code",
   "execution_count": null,
   "id": "48ecc89c",
   "metadata": {},
   "outputs": [],
   "source": [
    "    add_special_tokens=True,"
   ]
  },
  {
   "cell_type": "code",
   "execution_count": null,
   "id": "b6c4dcf6",
   "metadata": {},
   "outputs": [],
   "source": [
    "    return_attention_mask=True,"
   ]
  },
  {
   "cell_type": "code",
   "execution_count": null,
   "id": "5c58d3bb",
   "metadata": {},
   "outputs": [],
   "source": [
    "    padding='max_length',"
   ]
  },
  {
   "cell_type": "code",
   "execution_count": null,
   "id": "69d78577",
   "metadata": {},
   "outputs": [],
   "source": [
    "    max_length=128,  # Adjust if your sentences are longer"
   ]
  },
  {
   "cell_type": "code",
   "execution_count": null,
   "id": "b1f68f2d",
   "metadata": {},
   "outputs": [],
   "source": [
    "    truncation=True,"
   ]
  },
  {
   "cell_type": "code",
   "execution_count": null,
   "id": "9f911ae3",
   "metadata": {},
   "outputs": [],
   "source": [
    "    return_tensors='pt'"
   ]
  },
  {
   "cell_type": "code",
   "execution_count": null,
   "id": "1d21a4cb",
   "metadata": {},
   "outputs": [],
   "source": [
    ")"
   ]
  },
  {
   "cell_type": "code",
   "execution_count": null,
   "id": "b6f76ebb",
   "metadata": {},
   "outputs": [],
   "source": []
  },
  {
   "cell_type": "code",
   "execution_count": null,
   "id": "e1aff3f2",
   "metadata": {},
   "outputs": [],
   "source": [
    "input_ids = encoded_data['input_ids']"
   ]
  },
  {
   "cell_type": "code",
   "execution_count": null,
   "id": "ff087b9a",
   "metadata": {},
   "outputs": [],
   "source": [
    "attention_masks = encoded_data['attention_mask']"
   ]
  },
  {
   "cell_type": "code",
   "execution_count": null,
   "id": "2ef89d7c",
   "metadata": {},
   "outputs": [],
   "source": [
    "labels = torch.tensor(df['label'].tolist())"
   ]
  },
  {
   "cell_type": "code",
   "execution_count": null,
   "id": "6352fc3d",
   "metadata": {},
   "outputs": [],
   "source": []
  },
  {
   "cell_type": "code",
   "execution_count": null,
   "id": "ba93eadf",
   "metadata": {},
   "outputs": [],
   "source": [
    "# Split into training and testing sets"
   ]
  },
  {
   "cell_type": "code",
   "execution_count": null,
   "id": "768b81fa",
   "metadata": {},
   "outputs": [],
   "source": [
    "train_inputs, test_inputs, train_labels, test_labels = train_test_split("
   ]
  },
  {
   "cell_type": "code",
   "execution_count": null,
   "id": "baf94969",
   "metadata": {},
   "outputs": [],
   "source": [
    "    input_ids, labels, random_state=35476648, test_size=0.2"
   ]
  },
  {
   "cell_type": "code",
   "execution_count": null,
   "id": "1e91c9c4",
   "metadata": {},
   "outputs": [],
   "source": [
    ")"
   ]
  },
  {
   "cell_type": "code",
   "execution_count": null,
   "id": "0d4d291e",
   "metadata": {},
   "outputs": [],
   "source": [
    "train_masks, test_masks, _, _ = train_test_split("
   ]
  },
  {
   "cell_type": "code",
   "execution_count": null,
   "id": "19baf784",
   "metadata": {},
   "outputs": [],
   "source": [
    "    attention_masks, input_ids, random_state=35476648, test_size=0.2"
   ]
  },
  {
   "cell_type": "code",
   "execution_count": null,
   "id": "d91d1b49",
   "metadata": {},
   "outputs": [],
   "source": [
    ")"
   ]
  },
  {
   "cell_type": "code",
   "execution_count": null,
   "id": "1d0d4022",
   "metadata": {},
   "outputs": [],
   "source": [
    "# Create DataLoader"
   ]
  },
  {
   "cell_type": "code",
   "execution_count": null,
   "id": "9d2331b7",
   "metadata": {},
   "outputs": [],
   "source": [
    "train_data = TensorDataset(train_inputs, train_masks, train_labels)"
   ]
  },
  {
   "cell_type": "code",
   "execution_count": null,
   "id": "06bbd30a",
   "metadata": {},
   "outputs": [],
   "source": [
    "train_dataloader = DataLoader(train_data, batch_size=32, shuffle=True)"
   ]
  },
  {
   "cell_type": "code",
   "execution_count": null,
   "id": "c1ba9e9e",
   "metadata": {},
   "outputs": [],
   "source": []
  },
  {
   "cell_type": "code",
   "execution_count": null,
   "id": "7a4dd017",
   "metadata": {},
   "outputs": [],
   "source": [
    "test_data = TensorDataset(test_inputs, test_masks, test_labels)"
   ]
  },
  {
   "cell_type": "code",
   "execution_count": null,
   "id": "38cc8ac2",
   "metadata": {},
   "outputs": [],
   "source": [
    "test_dataloader = DataLoader(test_data, batch_size=32)"
   ]
  },
  {
   "cell_type": "code",
   "execution_count": null,
   "id": "3ab2afa3",
   "metadata": {},
   "outputs": [],
   "source": []
  },
  {
   "cell_type": "code",
   "execution_count": null,
   "id": "dc4af63e",
   "metadata": {},
   "outputs": [],
   "source": [
    "# Load Pre-trained Model"
   ]
  },
  {
   "cell_type": "code",
   "execution_count": null,
   "id": "3d178a34",
   "metadata": {},
   "outputs": [],
   "source": [
    "model = RobertaForSequenceClassification.from_pretrained(\"roberta-base\", num_labels=3) # 3 labels for positive, negative, neutral"
   ]
  },
  {
   "cell_type": "code",
   "execution_count": null,
   "id": "2591a1a6",
   "metadata": {},
   "outputs": [],
   "source": []
  },
  {
   "cell_type": "code",
   "execution_count": null,
   "id": "f381733f",
   "metadata": {},
   "outputs": [],
   "source": [
    "# Enable GPU"
   ]
  },
  {
   "cell_type": "code",
   "execution_count": null,
   "id": "2efb127a",
   "metadata": {},
   "outputs": [],
   "source": [
    "device = torch.device('cuda' if torch.cuda.is_available() else 'cpu')"
   ]
  },
  {
   "cell_type": "code",
   "execution_count": null,
   "id": "c319a28c",
   "metadata": {},
   "outputs": [],
   "source": [
    "model.to(device)"
   ]
  },
  {
   "cell_type": "code",
   "execution_count": null,
   "id": "f5d390ae",
   "metadata": {},
   "outputs": [],
   "source": []
  },
  {
   "cell_type": "code",
   "execution_count": null,
   "id": "b416fcb3",
   "metadata": {},
   "outputs": [],
   "source": [
    "# Fine-tune (Optimizer, Loss Function, Training Loop)"
   ]
  },
  {
   "cell_type": "code",
   "execution_count": null,
   "id": "9d13495b",
   "metadata": {},
   "outputs": [],
   "source": [
    "optimizer = torch.optim.AdamW(model.parameters(), lr=2e-5, eps=1e-8)"
   ]
  },
  {
   "cell_type": "code",
   "execution_count": null,
   "id": "189a3b82",
   "metadata": {},
   "outputs": [],
   "source": [
    "loss_fn = torch.nn.CrossEntropyLoss()"
   ]
  },
  {
   "cell_type": "code",
   "execution_count": null,
   "id": "8cfeacfe",
   "metadata": {},
   "outputs": [],
   "source": []
  },
  {
   "cell_type": "code",
   "execution_count": null,
   "id": "a31a5b32",
   "metadata": {},
   "outputs": [],
   "source": [
    "for epoch in range(3):  # Adjust number of epochs"
   ]
  },
  {
   "cell_type": "code",
   "execution_count": null,
   "id": "b684d6ec",
   "metadata": {},
   "outputs": [],
   "source": [
    "    model.train()"
   ]
  },
  {
   "cell_type": "code",
   "execution_count": null,
   "id": "70c041cf",
   "metadata": {},
   "outputs": [],
   "source": [
    "    for batch in train_dataloader:"
   ]
  },
  {
   "cell_type": "code",
   "execution_count": null,
   "id": "52a07171",
   "metadata": {},
   "outputs": [],
   "source": [
    "        batch = tuple(t.to(device) for t in batch)"
   ]
  },
  {
   "cell_type": "code",
   "execution_count": null,
   "id": "d9c3fe1d",
   "metadata": {},
   "outputs": [],
   "source": [
    "        b_input_ids, b_input_mask, b_labels = batch"
   ]
  },
  {
   "cell_type": "code",
   "execution_count": null,
   "id": "c67c3d1c",
   "metadata": {},
   "outputs": [],
   "source": []
  },
  {
   "cell_type": "code",
   "execution_count": null,
   "id": "d18fad3b",
   "metadata": {},
   "outputs": [],
   "source": [
    "        optimizer.zero_grad()"
   ]
  },
  {
   "cell_type": "code",
   "execution_count": null,
   "id": "f7df8957",
   "metadata": {},
   "outputs": [],
   "source": [
    "        outputs = model(b_input_ids, attention_mask=b_input_mask)  # RoBERTa doesn't use token_type_ids"
   ]
  },
  {
   "cell_type": "code",
   "execution_count": null,
   "id": "730173b3",
   "metadata": {},
   "outputs": [],
   "source": []
  },
  {
   "cell_type": "code",
   "execution_count": null,
   "id": "395b0df7",
   "metadata": {},
   "outputs": [],
   "source": [
    "        loss = loss_fn(outputs.logits, b_labels)"
   ]
  },
  {
   "cell_type": "code",
   "execution_count": null,
   "id": "dd30cf2a",
   "metadata": {},
   "outputs": [],
   "source": [
    "        loss.backward()"
   ]
  },
  {
   "cell_type": "code",
   "execution_count": null,
   "id": "e6494948",
   "metadata": {},
   "outputs": [],
   "source": [
    "        optimizer.step()"
   ]
  },
  {
   "cell_type": "code",
   "execution_count": null,
   "id": "ee12c387",
   "metadata": {},
   "outputs": [],
   "source": []
  },
  {
   "cell_type": "code",
   "execution_count": null,
   "id": "af5b8a30",
   "metadata": {},
   "outputs": [],
   "source": [
    "# Evaluation"
   ]
  },
  {
   "cell_type": "code",
   "execution_count": null,
   "id": "d6b3e83c",
   "metadata": {},
   "outputs": [],
   "source": [
    "model.eval()"
   ]
  },
  {
   "cell_type": "code",
   "execution_count": null,
   "id": "2221d70f",
   "metadata": {},
   "outputs": [],
   "source": [
    "logits_list, true_labels = [], []"
   ]
  },
  {
   "cell_type": "code",
   "execution_count": null,
   "id": "cfd225b9",
   "metadata": {},
   "outputs": [],
   "source": [
    "for batch in test_dataloader:"
   ]
  },
  {
   "cell_type": "code",
   "execution_count": null,
   "id": "5604a201",
   "metadata": {},
   "outputs": [],
   "source": [
    "    batch = tuple(t.to(device) for t in batch)"
   ]
  },
  {
   "cell_type": "code",
   "execution_count": null,
   "id": "890e58fb",
   "metadata": {},
   "outputs": [],
   "source": [
    "    b_input_ids, b_input_mask, b_labels = batch"
   ]
  },
  {
   "cell_type": "code",
   "execution_count": null,
   "id": "7fbfdc59",
   "metadata": {},
   "outputs": [],
   "source": [
    "    with torch.no_grad():"
   ]
  },
  {
   "cell_type": "code",
   "execution_count": null,
   "id": "98e66160",
   "metadata": {},
   "outputs": [],
   "source": [
    "        outputs = model(b_input_ids, attention_mask=b_input_mask)"
   ]
  },
  {
   "cell_type": "code",
   "execution_count": null,
   "id": "9a5a6ebb",
   "metadata": {},
   "outputs": [],
   "source": [
    "    logits = outputs.logits.detach().cpu().numpy()"
   ]
  },
  {
   "cell_type": "code",
   "execution_count": null,
   "id": "bb6c9412",
   "metadata": {},
   "outputs": [],
   "source": [
    "    label_ids = b_labels.to('cpu').numpy()"
   ]
  },
  {
   "cell_type": "code",
   "execution_count": null,
   "id": "134014ac",
   "metadata": {},
   "outputs": [],
   "source": [
    "    logits_list.extend(logits)"
   ]
  },
  {
   "cell_type": "code",
   "execution_count": null,
   "id": "94a47f88",
   "metadata": {},
   "outputs": [],
   "source": [
    "    true_labels.extend(label_ids)"
   ]
  },
  {
   "cell_type": "code",
   "execution_count": null,
   "id": "1de8d648",
   "metadata": {},
   "outputs": [],
   "source": []
  },
  {
   "cell_type": "code",
   "execution_count": null,
   "id": "f3da8b0c",
   "metadata": {},
   "outputs": [],
   "source": [
    "# Convert logits to probabilities"
   ]
  },
  {
   "cell_type": "code",
   "execution_count": null,
   "id": "3634188a",
   "metadata": {},
   "outputs": [],
   "source": [
    "softmax = torch.nn.Softmax(dim=1)"
   ]
  },
  {
   "cell_type": "code",
   "execution_count": null,
   "id": "70ac1990",
   "metadata": {},
   "outputs": [],
   "source": [
    "probs = softmax(torch.tensor(logits_list)).numpy()"
   ]
  },
  {
   "cell_type": "code",
   "execution_count": null,
   "id": "c7a9cb2a",
   "metadata": {},
   "outputs": [],
   "source": []
  },
  {
   "cell_type": "code",
   "execution_count": null,
   "id": "0f2fbb3a",
   "metadata": {},
   "outputs": [],
   "source": [
    "# Binarize the labels and calculate ROC AUC"
   ]
  },
  {
   "cell_type": "code",
   "execution_count": null,
   "id": "44639232",
   "metadata": {},
   "outputs": [],
   "source": [
    "y_test_binarized = label_binarize(true_labels, classes=[0, 1, 2])"
   ]
  },
  {
   "cell_type": "code",
   "execution_count": null,
   "id": "760c16e7",
   "metadata": {},
   "outputs": [],
   "source": [
    "n_classes = y_test_binarized.shape[1]"
   ]
  },
  {
   "cell_type": "code",
   "execution_count": null,
   "id": "9f7b7757",
   "metadata": {},
   "outputs": [],
   "source": []
  },
  {
   "cell_type": "code",
   "execution_count": null,
   "id": "013e2385",
   "metadata": {},
   "outputs": [],
   "source": [
    "fpr, tpr, roc_auc = {}, {}, {}"
   ]
  },
  {
   "cell_type": "code",
   "execution_count": null,
   "id": "3d22c414",
   "metadata": {},
   "outputs": [],
   "source": [
    "for i in range(n_classes):"
   ]
  },
  {
   "cell_type": "code",
   "execution_count": null,
   "id": "2514f446",
   "metadata": {},
   "outputs": [],
   "source": [
    "    fpr[i], tpr[i], _ = roc_curve(y_test_binarized[:, i], probs[:, i])"
   ]
  },
  {
   "cell_type": "code",
   "execution_count": null,
   "id": "fae3d90d",
   "metadata": {},
   "outputs": [],
   "source": [
    "    roc_auc[i] = auc(fpr[i], tpr[i])"
   ]
  },
  {
   "cell_type": "code",
   "execution_count": null,
   "id": "c04f37f7",
   "metadata": {},
   "outputs": [],
   "source": []
  },
  {
   "cell_type": "code",
   "execution_count": null,
   "id": "af557dcb",
   "metadata": {},
   "outputs": [],
   "source": [
    "# Calculate macro-average ROC AUC"
   ]
  },
  {
   "cell_type": "code",
   "execution_count": null,
   "id": "1c91f6d4",
   "metadata": {},
   "outputs": [],
   "source": [
    "roc_auc[\"macro\"] = roc_auc_score(y_test_binarized, probs, multi_class=\"ovr\", average=\"macro\")"
   ]
  }
 ],
 "metadata": {},
 "nbformat": 4,
 "nbformat_minor": 5
}
