{
 "cells": [
  {
   "cell_type": "code",
   "execution_count": null,
   "id": "5ae20d1b",
   "metadata": {},
   "outputs": [],
   "source": [
    "##roBERTa"
   ]
  },
  {
   "cell_type": "code",
   "execution_count": null,
   "id": "13bd71b8",
   "metadata": {},
   "outputs": [],
   "source": [
    "!pip install transformers torch"
   ]
  },
  {
   "cell_type": "code",
   "execution_count": null,
   "id": "7f329dd8",
   "metadata": {},
   "outputs": [],
   "source": []
  },
  {
   "cell_type": "code",
   "execution_count": null,
   "id": "b4a8931e",
   "metadata": {},
   "outputs": [],
   "source": [
    "import pandas as pd"
   ]
  },
  {
   "cell_type": "code",
   "execution_count": null,
   "id": "698a619f",
   "metadata": {},
   "outputs": [],
   "source": [
    "from transformers import RobertaTokenizer, RobertaForSequenceClassification"
   ]
  },
  {
   "cell_type": "code",
   "execution_count": null,
   "id": "4eee790e",
   "metadata": {},
   "outputs": [],
   "source": [
    "import torch"
   ]
  },
  {
   "cell_type": "code",
   "execution_count": null,
   "id": "5dc6397f",
   "metadata": {},
   "outputs": [],
   "source": [
    "from torch.utils.data import DataLoader, TensorDataset"
   ]
  },
  {
   "cell_type": "code",
   "execution_count": null,
   "id": "2fb08dee",
   "metadata": {},
   "outputs": [],
   "source": [
    "from sklearn.model_selection import train_test_split"
   ]
  },
  {
   "cell_type": "code",
   "execution_count": null,
   "id": "ddfdcec0",
   "metadata": {},
   "outputs": [],
   "source": [
    "from sklearn.preprocessing import LabelEncoder"
   ]
  },
  {
   "cell_type": "code",
   "execution_count": null,
   "id": "98888008",
   "metadata": {},
   "outputs": [],
   "source": []
  },
  {
   "cell_type": "code",
   "execution_count": null,
   "id": "3a23a681",
   "metadata": {},
   "outputs": [],
   "source": [
    "# Encoding labels ('positive', 'negative', 'neutral') to numerical values"
   ]
  },
  {
   "cell_type": "code",
   "execution_count": null,
   "id": "934921ac",
   "metadata": {},
   "outputs": [],
   "source": [
    "label_encoder = LabelEncoder()"
   ]
  },
  {
   "cell_type": "code",
   "execution_count": null,
   "id": "37a55bac",
   "metadata": {},
   "outputs": [],
   "source": [
    "df['class'] = label_encoder.fit_transform(df['class'])"
   ]
  },
  {
   "cell_type": "code",
   "execution_count": null,
   "id": "0f4cac19",
   "metadata": {},
   "outputs": [],
   "source": []
  },
  {
   "cell_type": "code",
   "execution_count": null,
   "id": "06e72750",
   "metadata": {},
   "outputs": [],
   "source": [
    "# Tokenization and Data Preparation (using cleaned text)"
   ]
  },
  {
   "cell_type": "code",
   "execution_count": null,
   "id": "98d860a8",
   "metadata": {},
   "outputs": [],
   "source": [
    "tokenizer = RobertaTokenizer.from_pretrained('roberta-base')"
   ]
  },
  {
   "cell_type": "code",
   "execution_count": null,
   "id": "da4ac2f8",
   "metadata": {},
   "outputs": [],
   "source": [
    "encoded_data = tokenizer.batch_encode_plus("
   ]
  },
  {
   "cell_type": "code",
   "execution_count": null,
   "id": "648c02d4",
   "metadata": {},
   "outputs": [],
   "source": [
    "    df['cleaned_text'].tolist(),"
   ]
  },
  {
   "cell_type": "code",
   "execution_count": null,
   "id": "fada3557",
   "metadata": {},
   "outputs": [],
   "source": [
    "    add_special_tokens=True,"
   ]
  },
  {
   "cell_type": "code",
   "execution_count": null,
   "id": "e62b6b9c",
   "metadata": {},
   "outputs": [],
   "source": [
    "    return_attention_mask=True,"
   ]
  },
  {
   "cell_type": "code",
   "execution_count": null,
   "id": "915d5fd7",
   "metadata": {},
   "outputs": [],
   "source": [
    "    padding='max_length',"
   ]
  },
  {
   "cell_type": "code",
   "execution_count": null,
   "id": "5d11e960",
   "metadata": {},
   "outputs": [],
   "source": [
    "    max_length=128,  # Adjust if your sentences are longer"
   ]
  },
  {
   "cell_type": "code",
   "execution_count": null,
   "id": "85be59dd",
   "metadata": {},
   "outputs": [],
   "source": [
    "    truncation=True,"
   ]
  },
  {
   "cell_type": "code",
   "execution_count": null,
   "id": "0a1f2752",
   "metadata": {},
   "outputs": [],
   "source": [
    "    return_tensors='pt'"
   ]
  },
  {
   "cell_type": "code",
   "execution_count": null,
   "id": "3a5297b3",
   "metadata": {},
   "outputs": [],
   "source": [
    ")"
   ]
  },
  {
   "cell_type": "code",
   "execution_count": null,
   "id": "e5c0daf0",
   "metadata": {},
   "outputs": [],
   "source": []
  },
  {
   "cell_type": "code",
   "execution_count": null,
   "id": "26cfd03e",
   "metadata": {},
   "outputs": [],
   "source": [
    "input_ids = encoded_data['input_ids']"
   ]
  },
  {
   "cell_type": "code",
   "execution_count": null,
   "id": "7e149e4b",
   "metadata": {},
   "outputs": [],
   "source": [
    "attention_masks = encoded_data['attention_mask']"
   ]
  },
  {
   "cell_type": "code",
   "execution_count": null,
   "id": "2c9052fc",
   "metadata": {},
   "outputs": [],
   "source": [
    "labels = torch.tensor(df['label'].tolist())"
   ]
  },
  {
   "cell_type": "code",
   "execution_count": null,
   "id": "f70af251",
   "metadata": {},
   "outputs": [],
   "source": []
  },
  {
   "cell_type": "code",
   "execution_count": null,
   "id": "24d278b3",
   "metadata": {},
   "outputs": [],
   "source": [
    "# Split into training and testing sets"
   ]
  },
  {
   "cell_type": "code",
   "execution_count": null,
   "id": "15eceaff",
   "metadata": {},
   "outputs": [],
   "source": [
    "train_inputs, test_inputs, train_labels, test_labels = train_test_split("
   ]
  },
  {
   "cell_type": "code",
   "execution_count": null,
   "id": "d159dc6b",
   "metadata": {},
   "outputs": [],
   "source": [
    "    input_ids, labels, random_state=35476648, test_size=0.2"
   ]
  },
  {
   "cell_type": "code",
   "execution_count": null,
   "id": "2d3ec740",
   "metadata": {},
   "outputs": [],
   "source": [
    ")"
   ]
  },
  {
   "cell_type": "code",
   "execution_count": null,
   "id": "ff8e2607",
   "metadata": {},
   "outputs": [],
   "source": [
    "train_masks, test_masks, _, _ = train_test_split("
   ]
  },
  {
   "cell_type": "code",
   "execution_count": null,
   "id": "4e9ee1e1",
   "metadata": {},
   "outputs": [],
   "source": [
    "    attention_masks, input_ids, random_state=35476648, test_size=0.2"
   ]
  },
  {
   "cell_type": "code",
   "execution_count": null,
   "id": "3d92971c",
   "metadata": {},
   "outputs": [],
   "source": [
    ")"
   ]
  },
  {
   "cell_type": "code",
   "execution_count": null,
   "id": "314a4c01",
   "metadata": {},
   "outputs": [],
   "source": [
    "# Create DataLoader"
   ]
  },
  {
   "cell_type": "code",
   "execution_count": null,
   "id": "e2d4cab3",
   "metadata": {},
   "outputs": [],
   "source": [
    "train_data = TensorDataset(train_inputs, train_masks, train_labels)"
   ]
  },
  {
   "cell_type": "code",
   "execution_count": null,
   "id": "4fadff98",
   "metadata": {},
   "outputs": [],
   "source": [
    "train_dataloader = DataLoader(train_data, batch_size=32, shuffle=True)"
   ]
  },
  {
   "cell_type": "code",
   "execution_count": null,
   "id": "e43c4a39",
   "metadata": {},
   "outputs": [],
   "source": []
  },
  {
   "cell_type": "code",
   "execution_count": null,
   "id": "4b6fc369",
   "metadata": {},
   "outputs": [],
   "source": [
    "test_data = TensorDataset(test_inputs, test_masks, test_labels)"
   ]
  },
  {
   "cell_type": "code",
   "execution_count": null,
   "id": "fa17fe50",
   "metadata": {},
   "outputs": [],
   "source": [
    "test_dataloader = DataLoader(test_data, batch_size=32)"
   ]
  },
  {
   "cell_type": "code",
   "execution_count": null,
   "id": "6cd32403",
   "metadata": {},
   "outputs": [],
   "source": []
  },
  {
   "cell_type": "code",
   "execution_count": null,
   "id": "aff71133",
   "metadata": {},
   "outputs": [],
   "source": [
    "# Load Pre-trained Model"
   ]
  },
  {
   "cell_type": "code",
   "execution_count": null,
   "id": "2a5b9c69",
   "metadata": {},
   "outputs": [],
   "source": [
    "model = RobertaForSequenceClassification.from_pretrained(\"roberta-base\", num_labels=3) # 3 labels for positive, negative, neutral"
   ]
  },
  {
   "cell_type": "code",
   "execution_count": null,
   "id": "23182fed",
   "metadata": {},
   "outputs": [],
   "source": []
  },
  {
   "cell_type": "code",
   "execution_count": null,
   "id": "74fcc087",
   "metadata": {},
   "outputs": [],
   "source": [
    "# Enable GPU"
   ]
  },
  {
   "cell_type": "code",
   "execution_count": null,
   "id": "28e0186a",
   "metadata": {},
   "outputs": [],
   "source": [
    "device = torch.device('cuda' if torch.cuda.is_available() else 'cpu')"
   ]
  },
  {
   "cell_type": "code",
   "execution_count": null,
   "id": "47b44177",
   "metadata": {},
   "outputs": [],
   "source": [
    "model.to(device)"
   ]
  },
  {
   "cell_type": "code",
   "execution_count": null,
   "id": "3b541687",
   "metadata": {},
   "outputs": [],
   "source": []
  },
  {
   "cell_type": "code",
   "execution_count": null,
   "id": "c40ecc1c",
   "metadata": {},
   "outputs": [],
   "source": [
    "# Fine-tune (Optimizer, Loss Function, Training Loop)"
   ]
  },
  {
   "cell_type": "code",
   "execution_count": null,
   "id": "0340dff5",
   "metadata": {},
   "outputs": [],
   "source": [
    "optimizer = torch.optim.AdamW(model.parameters(), lr=2e-5, eps=1e-8)"
   ]
  },
  {
   "cell_type": "code",
   "execution_count": null,
   "id": "a0832df2",
   "metadata": {},
   "outputs": [],
   "source": [
    "loss_fn = torch.nn.CrossEntropyLoss()"
   ]
  },
  {
   "cell_type": "code",
   "execution_count": null,
   "id": "db94f444",
   "metadata": {},
   "outputs": [],
   "source": []
  },
  {
   "cell_type": "code",
   "execution_count": null,
   "id": "5d3d1da5",
   "metadata": {},
   "outputs": [],
   "source": [
    "for epoch in range(3):  # Adjust number of epochs"
   ]
  },
  {
   "cell_type": "code",
   "execution_count": null,
   "id": "75788dd4",
   "metadata": {},
   "outputs": [],
   "source": [
    "    model.train()"
   ]
  },
  {
   "cell_type": "code",
   "execution_count": null,
   "id": "c7d108b0",
   "metadata": {},
   "outputs": [],
   "source": [
    "    for batch in train_dataloader:"
   ]
  },
  {
   "cell_type": "code",
   "execution_count": null,
   "id": "99442c9d",
   "metadata": {},
   "outputs": [],
   "source": [
    "        batch = tuple(t.to(device) for t in batch)"
   ]
  },
  {
   "cell_type": "code",
   "execution_count": null,
   "id": "656bdfcd",
   "metadata": {},
   "outputs": [],
   "source": [
    "        b_input_ids, b_input_mask, b_labels = batch"
   ]
  },
  {
   "cell_type": "code",
   "execution_count": null,
   "id": "173c4a5f",
   "metadata": {},
   "outputs": [],
   "source": []
  },
  {
   "cell_type": "code",
   "execution_count": null,
   "id": "527a44d3",
   "metadata": {},
   "outputs": [],
   "source": [
    "        optimizer.zero_grad()"
   ]
  },
  {
   "cell_type": "code",
   "execution_count": null,
   "id": "c8f8dc73",
   "metadata": {},
   "outputs": [],
   "source": [
    "        outputs = model(b_input_ids, attention_mask=b_input_mask)  # RoBERTa doesn't use token_type_ids"
   ]
  },
  {
   "cell_type": "code",
   "execution_count": null,
   "id": "758e8acf",
   "metadata": {},
   "outputs": [],
   "source": []
  },
  {
   "cell_type": "code",
   "execution_count": null,
   "id": "4ccd88b8",
   "metadata": {},
   "outputs": [],
   "source": [
    "        loss = loss_fn(outputs.logits, b_labels)"
   ]
  },
  {
   "cell_type": "code",
   "execution_count": null,
   "id": "ab730889",
   "metadata": {},
   "outputs": [],
   "source": [
    "        loss.backward()"
   ]
  },
  {
   "cell_type": "code",
   "execution_count": null,
   "id": "32e73bb3",
   "metadata": {},
   "outputs": [],
   "source": [
    "        optimizer.step()"
   ]
  },
  {
   "cell_type": "code",
   "execution_count": null,
   "id": "83ed4359",
   "metadata": {},
   "outputs": [],
   "source": []
  },
  {
   "cell_type": "code",
   "execution_count": null,
   "id": "52a646b6",
   "metadata": {},
   "outputs": [],
   "source": [
    "# Evaluation"
   ]
  },
  {
   "cell_type": "code",
   "execution_count": null,
   "id": "c9c61e7a",
   "metadata": {},
   "outputs": [],
   "source": [
    "model.eval()"
   ]
  },
  {
   "cell_type": "code",
   "execution_count": null,
   "id": "bd122adc",
   "metadata": {},
   "outputs": [],
   "source": [
    "logits_list, true_labels = [], []"
   ]
  },
  {
   "cell_type": "code",
   "execution_count": null,
   "id": "c064cfa1",
   "metadata": {},
   "outputs": [],
   "source": [
    "for batch in test_dataloader:"
   ]
  },
  {
   "cell_type": "code",
   "execution_count": null,
   "id": "45469c0b",
   "metadata": {},
   "outputs": [],
   "source": [
    "    batch = tuple(t.to(device) for t in batch)"
   ]
  },
  {
   "cell_type": "code",
   "execution_count": null,
   "id": "20542533",
   "metadata": {},
   "outputs": [],
   "source": [
    "    b_input_ids, b_input_mask, b_labels = batch"
   ]
  },
  {
   "cell_type": "code",
   "execution_count": null,
   "id": "33c8da9e",
   "metadata": {},
   "outputs": [],
   "source": [
    "    with torch.no_grad():"
   ]
  },
  {
   "cell_type": "code",
   "execution_count": null,
   "id": "556e9750",
   "metadata": {},
   "outputs": [],
   "source": [
    "        outputs = model(b_input_ids, attention_mask=b_input_mask)"
   ]
  },
  {
   "cell_type": "code",
   "execution_count": null,
   "id": "b1c90c85",
   "metadata": {},
   "outputs": [],
   "source": [
    "    logits = outputs.logits.detach().cpu().numpy()"
   ]
  },
  {
   "cell_type": "code",
   "execution_count": null,
   "id": "7b20c04f",
   "metadata": {},
   "outputs": [],
   "source": [
    "    label_ids = b_labels.to('cpu').numpy()"
   ]
  },
  {
   "cell_type": "code",
   "execution_count": null,
   "id": "521487b9",
   "metadata": {},
   "outputs": [],
   "source": [
    "    logits_list.extend(logits)"
   ]
  },
  {
   "cell_type": "code",
   "execution_count": null,
   "id": "799d4c80",
   "metadata": {},
   "outputs": [],
   "source": [
    "    true_labels.extend(label_ids)"
   ]
  },
  {
   "cell_type": "code",
   "execution_count": null,
   "id": "a1f96ba7",
   "metadata": {},
   "outputs": [],
   "source": []
  },
  {
   "cell_type": "code",
   "execution_count": null,
   "id": "e20d7eb9",
   "metadata": {},
   "outputs": [],
   "source": [
    "# Convert logits to probabilities"
   ]
  },
  {
   "cell_type": "code",
   "execution_count": null,
   "id": "0130f377",
   "metadata": {},
   "outputs": [],
   "source": [
    "softmax = torch.nn.Softmax(dim=1)"
   ]
  },
  {
   "cell_type": "code",
   "execution_count": null,
   "id": "6a392668",
   "metadata": {},
   "outputs": [],
   "source": [
    "probs = softmax(torch.tensor(logits_list)).numpy()"
   ]
  },
  {
   "cell_type": "code",
   "execution_count": null,
   "id": "611a0fd8",
   "metadata": {},
   "outputs": [],
   "source": []
  },
  {
   "cell_type": "code",
   "execution_count": null,
   "id": "3b239927",
   "metadata": {},
   "outputs": [],
   "source": [
    "# Binarize the labels and calculate ROC AUC"
   ]
  },
  {
   "cell_type": "code",
   "execution_count": null,
   "id": "14e7e822",
   "metadata": {},
   "outputs": [],
   "source": [
    "y_test_binarized = label_binarize(true_labels, classes=[0, 1, 2])"
   ]
  },
  {
   "cell_type": "code",
   "execution_count": null,
   "id": "b8f23290",
   "metadata": {},
   "outputs": [],
   "source": [
    "n_classes = y_test_binarized.shape[1]"
   ]
  },
  {
   "cell_type": "code",
   "execution_count": null,
   "id": "1f59efb7",
   "metadata": {},
   "outputs": [],
   "source": []
  },
  {
   "cell_type": "code",
   "execution_count": null,
   "id": "3b6d20bf",
   "metadata": {},
   "outputs": [],
   "source": [
    "fpr, tpr, roc_auc = {}, {}, {}"
   ]
  },
  {
   "cell_type": "code",
   "execution_count": null,
   "id": "f4ae38ca",
   "metadata": {},
   "outputs": [],
   "source": [
    "for i in range(n_classes):"
   ]
  },
  {
   "cell_type": "code",
   "execution_count": null,
   "id": "69f70ebe",
   "metadata": {},
   "outputs": [],
   "source": [
    "    fpr[i], tpr[i], _ = roc_curve(y_test_binarized[:, i], probs[:, i])"
   ]
  },
  {
   "cell_type": "code",
   "execution_count": null,
   "id": "e288090e",
   "metadata": {},
   "outputs": [],
   "source": [
    "    roc_auc[i] = auc(fpr[i], tpr[i])"
   ]
  },
  {
   "cell_type": "code",
   "execution_count": null,
   "id": "686e2187",
   "metadata": {},
   "outputs": [],
   "source": []
  },
  {
   "cell_type": "code",
   "execution_count": null,
   "id": "b4eb18b4",
   "metadata": {},
   "outputs": [],
   "source": [
    "# Calculate macro-average ROC AUC"
   ]
  },
  {
   "cell_type": "code",
   "execution_count": null,
   "id": "19507fa4",
   "metadata": {},
   "outputs": [],
   "source": [
    "roc_auc[\"macro\"] = roc_auc_score(y_test_binarized, probs, multi_class=\"ovr\", average=\"macro\")"
   ]
  },
  {
   "cell_type": "code",
   "execution_count": null,
   "id": "451164f7",
   "metadata": {},
   "outputs": [],
   "source": []
  },
  {
   "cell_type": "code",
   "execution_count": null,
   "id": "b7f9eb04",
   "metadata": {},
   "outputs": [],
   "source": [
    "# Plot all ROC curves"
   ]
  },
  {
   "cell_type": "code",
   "execution_count": null,
   "id": "fdb4fe13",
   "metadata": {},
   "outputs": [],
   "source": [
    "plt.figure()"
   ]
  },
  {
   "cell_type": "code",
   "execution_count": null,
   "id": "85f2bf6d",
   "metadata": {},
   "outputs": [],
   "source": [
    "colors = cycle(['blue', 'green', 'red'])"
   ]
  },
  {
   "cell_type": "code",
   "execution_count": null,
   "id": "159dc333",
   "metadata": {},
   "outputs": [],
   "source": [
    "for i, color in zip(range(n_classes), colors):"
   ]
  },
  {
   "cell_type": "code",
   "execution_count": null,
   "id": "165b2897",
   "metadata": {},
   "outputs": [],
   "source": [
    "    plt.plot(fpr[i], tpr[i], color=color, lw=2,"
   ]
  },
  {
   "cell_type": "code",
   "execution_count": null,
   "id": "95eaf2bf",
   "metadata": {},
   "outputs": [],
   "source": [
    "             label='ROC curve of class {0} (area = {1:0.2f})'.format(i, roc_auc[i]))"
   ]
  },
  {
   "cell_type": "code",
   "execution_count": null,
   "id": "2f0bc7ef",
   "metadata": {},
   "outputs": [],
   "source": []
  },
  {
   "cell_type": "code",
   "execution_count": null,
   "id": "69cd9167",
   "metadata": {},
   "outputs": [],
   "source": [
    "plt.plot([0, 1], [0, 1], 'k--', lw=2)"
   ]
  },
  {
   "cell_type": "code",
   "execution_count": null,
   "id": "fcb73975",
   "metadata": {},
   "outputs": [],
   "source": [
    "plt.xlim([0.0, 1.0])"
   ]
  }
 ],
 "metadata": {},
 "nbformat": 4,
 "nbformat_minor": 5
}
