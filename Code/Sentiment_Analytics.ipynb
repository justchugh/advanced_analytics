{
 "cells": [
  {
   "cell_type": "code",
   "execution_count": null,
   "id": "4f57bed3",
   "metadata": {},
   "outputs": [],
   "source": [
    "## Tabulate"
   ]
  },
  {
   "cell_type": "code",
   "execution_count": null,
   "id": "4a60d86e",
   "metadata": {},
   "outputs": [],
   "source": []
  },
  {
   "cell_type": "code",
   "execution_count": null,
   "id": "5af02183",
   "metadata": {},
   "outputs": [],
   "source": [
    "import pandas as pd"
   ]
  },
  {
   "cell_type": "code",
   "execution_count": null,
   "id": "3723798a",
   "metadata": {},
   "outputs": [],
   "source": [
    "from tabulate import tabulate"
   ]
  },
  {
   "cell_type": "code",
   "execution_count": null,
   "id": "d98cfd12",
   "metadata": {},
   "outputs": [],
   "source": []
  },
  {
   "cell_type": "code",
   "execution_count": null,
   "id": "a670d778",
   "metadata": {},
   "outputs": [],
   "source": [
    "# Example data: replace this with your actual model metrics"
   ]
  },
  {
   "cell_type": "code",
   "execution_count": null,
   "id": "1e122d32",
   "metadata": {},
   "outputs": [],
   "source": [
    "data = ["
   ]
  },
  {
   "cell_type": "code",
   "execution_count": null,
   "id": "517d1cdb",
   "metadata": {},
   "outputs": [],
   "source": [
    "    {\"Model\": \"Logistic Regression\", \"Type\": \"Machine Learning\", \"Accuracy\": 0.74, \"Precision\": 0.74, \"Recall\": 0.74, \"F1-Score\": 0.71, \"ROC AUC Score\": 0.85},"
   ]
  },
  {
   "cell_type": "code",
   "execution_count": null,
   "id": "24caeddc",
   "metadata": {},
   "outputs": [],
   "source": [
    "    {\"Model\": \"SVM\", \"Type\": \"Machine Learning\", \"Accuracy\": 0.76, \"Precision\": 0.75, \"Recall\": 0.76, \"F1-Score\": 0.75, \"ROC AUC Score\": 0.87},"
   ]
  },
  {
   "cell_type": "code",
   "execution_count": null,
   "id": "2367965f",
   "metadata": {},
   "outputs": [],
   "source": [
    "    {\"Model\": \"Random Forest\", \"Type\": \"Machine Learning\", \"Accuracy\": 0.76, \"Precision\": 0.75, \"Recall\": 0.76, \"F1-Score\": 0.73, \"ROC AUC Score\": 0.83},"
   ]
  },
  {
   "cell_type": "code",
   "execution_count": null,
   "id": "1466868b",
   "metadata": {},
   "outputs": [],
   "source": [
    "    {\"Model\": \"CNN\", \"Type\": \"Deep Learning\", \"Accuracy\": 0.76, \"Precision\": 0.75, \"Recall\": 0.76, \"F1-Score\": 0.75, \"ROC AUC Score\": 0.85},"
   ]
  },
  {
   "cell_type": "code",
   "execution_count": null,
   "id": "daa546bb",
   "metadata": {},
   "outputs": [],
   "source": [
    "    {\"Model\": \"LSTM\", \"Type\": \"Deep Learning\", \"Accuracy\": 0.66, \"Precision\": 0.68, \"Recall\": 0.66, \"F1-Score\": 0.67, \"ROC AUC Score\": 0.80},"
   ]
  },
  {
   "cell_type": "code",
   "execution_count": null,
   "id": "8a184303",
   "metadata": {},
   "outputs": [],
   "source": [
    "    {\"Model\": \"BiLSTM\", \"Type\": \"Deep Learning\", \"Accuracy\": 0.63, \"Precision\": 0.64, \"Recall\": 0.63, \"F1-Score\": 0.64, \"ROC AUC Score\": 0.77},"
   ]
  },
  {
   "cell_type": "code",
   "execution_count": null,
   "id": "4612d406",
   "metadata": {},
   "outputs": [],
   "source": [
    "    {\"Model\": \"BERT\", \"Type\": \"Transformer Model\", \"Accuracy\": 0.85, \"Precision\": 0.86, \"Recall\": 0.85, \"F1-Score\": 0.85, \"ROC AUC Score\": 0.94},"
   ]
  },
  {
   "cell_type": "code",
   "execution_count": null,
   "id": "576927bd",
   "metadata": {},
   "outputs": [],
   "source": [
    "    {\"Model\": \"RoBERTa\", \"Type\": \"Transformer Model\", \"Accuracy\": 0.87, \"Precision\": 0.87, \"Recall\": 0.87, \"F1-Score\": 0.86, \"ROC AUC Score\": 0.95},"
   ]
  },
  {
   "cell_type": "code",
   "execution_count": null,
   "id": "35ef7a4d",
   "metadata": {},
   "outputs": [],
   "source": [
    "]"
   ]
  },
  {
   "cell_type": "code",
   "execution_count": null,
   "id": "462c8698",
   "metadata": {},
   "outputs": [],
   "source": []
  },
  {
   "cell_type": "code",
   "execution_count": null,
   "id": "cceab6b9",
   "metadata": {},
   "outputs": [],
   "source": [
    "# Creating a DataFrame"
   ]
  },
  {
   "cell_type": "code",
   "execution_count": null,
   "id": "5fd311b8",
   "metadata": {},
   "outputs": [],
   "source": [
    "df = pd.DataFrame(data)"
   ]
  }
 ],
 "metadata": {},
 "nbformat": 4,
 "nbformat_minor": 5
}
