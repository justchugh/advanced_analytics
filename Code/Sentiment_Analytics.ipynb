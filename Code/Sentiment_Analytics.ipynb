{
 "cells": [
  {
   "cell_type": "code",
   "execution_count": null,
   "id": "3c930b69",
   "metadata": {},
   "outputs": [],
   "source": [
    "# EDA"
   ]
  },
  {
   "cell_type": "code",
   "execution_count": null,
   "id": "6c286526",
   "metadata": {},
   "outputs": [],
   "source": [
    "## Text Lenghts"
   ]
  },
  {
   "cell_type": "code",
   "execution_count": null,
   "id": "31a519e4",
   "metadata": {},
   "outputs": [],
   "source": [
    "# Visualize the distribution of text lengths"
   ]
  },
  {
   "cell_type": "code",
   "execution_count": null,
   "id": "300aba2f",
   "metadata": {},
   "outputs": [],
   "source": [
    "plt.figure(figsize=(10, 6))"
   ]
  },
  {
   "cell_type": "code",
   "execution_count": null,
   "id": "eb72d539",
   "metadata": {},
   "outputs": [],
   "source": [
    "sns.histplot(df['cleaned_length'], bins=30, color='purple')"
   ]
  },
  {
   "cell_type": "code",
   "execution_count": null,
   "id": "a655d971",
   "metadata": {},
   "outputs": [],
   "source": [
    "plt.title('Distribution of Text Lengths')"
   ]
  },
  {
   "cell_type": "code",
   "execution_count": null,
   "id": "9deb4957",
   "metadata": {},
   "outputs": [],
   "source": [
    "plt.xlabel('Length of Text (number of words)')"
   ]
  },
  {
   "cell_type": "code",
   "execution_count": null,
   "id": "91d95736",
   "metadata": {},
   "outputs": [],
   "source": [
    "plt.ylabel('Frequency')"
   ]
  },
  {
   "cell_type": "code",
   "execution_count": null,
   "id": "895b307d",
   "metadata": {},
   "outputs": [],
   "source": [
    "plt.show()"
   ]
  },
  {
   "cell_type": "code",
   "execution_count": null,
   "id": "e9e77f4b",
   "metadata": {},
   "outputs": [],
   "source": [
    "import pandas as pd"
   ]
  },
  {
   "cell_type": "code",
   "execution_count": null,
   "id": "2d36b08c",
   "metadata": {},
   "outputs": [],
   "source": [
    "from sklearn.feature_extraction.text import CountVectorizer"
   ]
  },
  {
   "cell_type": "code",
   "execution_count": null,
   "id": "4959c1f8",
   "metadata": {},
   "outputs": [],
   "source": [
    "import matplotlib.pyplot as plt"
   ]
  },
  {
   "cell_type": "code",
   "execution_count": null,
   "id": "e6981f52",
   "metadata": {},
   "outputs": [],
   "source": []
  },
  {
   "cell_type": "code",
   "execution_count": null,
   "id": "adf5cfe6",
   "metadata": {},
   "outputs": [],
   "source": [
    "# Assuming 'df' is your DataFrame and 'cleaned_text' is the column with the text data"
   ]
  },
  {
   "cell_type": "code",
   "execution_count": null,
   "id": "0eb0194e",
   "metadata": {},
   "outputs": [],
   "source": [
    "vectorizer = CountVectorizer()"
   ]
  },
  {
   "cell_type": "code",
   "execution_count": null,
   "id": "7e196a41",
   "metadata": {},
   "outputs": [],
   "source": [
    "X = vectorizer.fit_transform(df['cleaned_text'])"
   ]
  },
  {
   "cell_type": "code",
   "execution_count": null,
   "id": "30245f0d",
   "metadata": {},
   "outputs": [],
   "source": []
  },
  {
   "cell_type": "code",
   "execution_count": null,
   "id": "9f0e9d75",
   "metadata": {},
   "outputs": [],
   "source": [
    "# Summing up the counts of each vocabulary word"
   ]
  },
  {
   "cell_type": "code",
   "execution_count": null,
   "id": "a0369893",
   "metadata": {},
   "outputs": [],
   "source": [
    "sum_words = X.sum(axis=0)"
   ]
  },
  {
   "cell_type": "code",
   "execution_count": null,
   "id": "769bbb69",
   "metadata": {},
   "outputs": [],
   "source": [
    "words_freq = [(word, sum_words[0, idx]) for word, idx in vectorizer.vocabulary_.items()]"
   ]
  },
  {
   "cell_type": "code",
   "execution_count": null,
   "id": "3ce3c2d8",
   "metadata": {},
   "outputs": [],
   "source": [
    "words_freq = sorted(words_freq, key=lambda x: x[1], reverse=True)"
   ]
  },
  {
   "cell_type": "code",
   "execution_count": null,
   "id": "ef6d6ecf",
   "metadata": {},
   "outputs": [],
   "source": []
  },
  {
   "cell_type": "code",
   "execution_count": null,
   "id": "8c73c743",
   "metadata": {},
   "outputs": [],
   "source": [
    "# Extracting the top 100 words"
   ]
  },
  {
   "cell_type": "code",
   "execution_count": null,
   "id": "3210174e",
   "metadata": {},
   "outputs": [],
   "source": [
    "top_words = words_freq[:60]"
   ]
  },
  {
   "cell_type": "code",
   "execution_count": null,
   "id": "11f5d97f",
   "metadata": {},
   "outputs": [],
   "source": []
  },
  {
   "cell_type": "code",
   "execution_count": null,
   "id": "a13d17b8",
   "metadata": {},
   "outputs": [],
   "source": [
    "# Converting to DataFrame for better visualization"
   ]
  },
  {
   "cell_type": "code",
   "execution_count": null,
   "id": "358b1529",
   "metadata": {},
   "outputs": [],
   "source": [
    "top_words_df = pd.DataFrame(top_words, columns=['Word', 'Frequency'])"
   ]
  },
  {
   "cell_type": "code",
   "execution_count": null,
   "id": "ac4b180a",
   "metadata": {},
   "outputs": [],
   "source": []
  },
  {
   "cell_type": "code",
   "execution_count": null,
   "id": "7d94e7e2",
   "metadata": {},
   "outputs": [],
   "source": [
    "# Printing the top 100 words with their frequencies"
   ]
  },
  {
   "cell_type": "code",
   "execution_count": null,
   "id": "ecbb5de0",
   "metadata": {},
   "outputs": [],
   "source": [
    "top_words_df"
   ]
  },
  {
   "cell_type": "code",
   "execution_count": null,
   "id": "363c85cf",
   "metadata": {},
   "outputs": [],
   "source": [
    "## Calculate and Visualize the Frequency of Individual Words"
   ]
  },
  {
   "cell_type": "code",
   "execution_count": null,
   "id": "24826e80",
   "metadata": {},
   "outputs": [],
   "source": []
  },
  {
   "cell_type": "code",
   "execution_count": null,
   "id": "a149e176",
   "metadata": {},
   "outputs": [],
   "source": [
    "from collections import Counter"
   ]
  },
  {
   "cell_type": "code",
   "execution_count": null,
   "id": "73509702",
   "metadata": {},
   "outputs": [],
   "source": [
    "import itertools"
   ]
  },
  {
   "cell_type": "code",
   "execution_count": null,
   "id": "9e9d406c",
   "metadata": {},
   "outputs": [],
   "source": []
  },
  {
   "cell_type": "code",
   "execution_count": null,
   "id": "dae4d193",
   "metadata": {},
   "outputs": [],
   "source": [
    "# Count frequencies of all words in the cleaned text"
   ]
  },
  {
   "cell_type": "code",
   "execution_count": null,
   "id": "2a649e51",
   "metadata": {},
   "outputs": [],
   "source": [
    "all_words = list(itertools.chain(*df['cleaned_text'].str.split()))"
   ]
  },
  {
   "cell_type": "code",
   "execution_count": null,
   "id": "4087a763",
   "metadata": {},
   "outputs": [],
   "source": [
    "word_counts = Counter(all_words)"
   ]
  },
  {
   "cell_type": "code",
   "execution_count": null,
   "id": "c93ab604",
   "metadata": {},
   "outputs": [],
   "source": []
  },
  {
   "cell_type": "code",
   "execution_count": null,
   "id": "303a16e0",
   "metadata": {},
   "outputs": [],
   "source": [
    "# Display the top 20 most common words"
   ]
  },
  {
   "cell_type": "code",
   "execution_count": null,
   "id": "1e007935",
   "metadata": {},
   "outputs": [],
   "source": [
    "most_common_words = word_counts.most_common(20)"
   ]
  },
  {
   "cell_type": "code",
   "execution_count": null,
   "id": "fd9fcb79",
   "metadata": {},
   "outputs": [],
   "source": [
    "words, counts = zip(*most_common_words)"
   ]
  },
  {
   "cell_type": "code",
   "execution_count": null,
   "id": "b9a5321f",
   "metadata": {},
   "outputs": [],
   "source": []
  },
  {
   "cell_type": "code",
   "execution_count": null,
   "id": "f1de8abc",
   "metadata": {},
   "outputs": [],
   "source": [
    "# Corrected code to visualize the Top 20 Most Frequent Words"
   ]
  },
  {
   "cell_type": "code",
   "execution_count": null,
   "id": "b9536b27",
   "metadata": {},
   "outputs": [],
   "source": [
    "plt.figure(figsize=(12, 8))"
   ]
  },
  {
   "cell_type": "code",
   "execution_count": null,
   "id": "3a1e27c5",
   "metadata": {},
   "outputs": [],
   "source": [
    "sns.barplot(x=list(words), y=list(counts))  # Explicitly name the parameters"
   ]
  },
  {
   "cell_type": "code",
   "execution_count": null,
   "id": "446279f0",
   "metadata": {},
   "outputs": [],
   "source": [
    "plt.title('Top 20 Most Frequent Words')"
   ]
  },
  {
   "cell_type": "code",
   "execution_count": null,
   "id": "ab4e5abe",
   "metadata": {},
   "outputs": [],
   "source": [
    "plt.xticks(rotation=45)"
   ]
  },
  {
   "cell_type": "code",
   "execution_count": null,
   "id": "d5e7facf",
   "metadata": {},
   "outputs": [],
   "source": [
    "plt.xlabel('Words')"
   ]
  },
  {
   "cell_type": "code",
   "execution_count": null,
   "id": "688df1dd",
   "metadata": {},
   "outputs": [],
   "source": [
    "plt.ylabel('Frequency')"
   ]
  },
  {
   "cell_type": "code",
   "execution_count": null,
   "id": "ef4d59f6",
   "metadata": {},
   "outputs": [],
   "source": [
    "plt.show()"
   ]
  },
  {
   "cell_type": "code",
   "execution_count": null,
   "id": "1fc6429c",
   "metadata": {},
   "outputs": [],
   "source": [
    "## Visualize the Sentiment Distribution"
   ]
  },
  {
   "cell_type": "code",
   "execution_count": null,
   "id": "2ee06c9f",
   "metadata": {},
   "outputs": [],
   "source": []
  },
  {
   "cell_type": "code",
   "execution_count": null,
   "id": "39322353",
   "metadata": {},
   "outputs": [],
   "source": [
    "print(df.columns)"
   ]
  },
  {
   "cell_type": "code",
   "execution_count": null,
   "id": "04154481",
   "metadata": {},
   "outputs": [],
   "source": [
    "sns.countplot(x=df['class'])"
   ]
  },
  {
   "cell_type": "code",
   "execution_count": null,
   "id": "3f04a8be",
   "metadata": {},
   "outputs": [],
   "source": [
    "plt.title('Distribution of Sentiment Labels')"
   ]
  },
  {
   "cell_type": "code",
   "execution_count": null,
   "id": "a5639d9f",
   "metadata": {},
   "outputs": [],
   "source": [
    "plt.xlabel('Sentiment')"
   ]
  },
  {
   "cell_type": "code",
   "execution_count": null,
   "id": "4c2df762",
   "metadata": {},
   "outputs": [],
   "source": [
    "plt.ylabel('Count')"
   ]
  },
  {
   "cell_type": "code",
   "execution_count": null,
   "id": "e71264f7",
   "metadata": {},
   "outputs": [],
   "source": [
    "plt.show()"
   ]
  },
  {
   "cell_type": "code",
   "execution_count": null,
   "id": "31a65c2a",
   "metadata": {},
   "outputs": [],
   "source": []
  },
  {
   "cell_type": "code",
   "execution_count": null,
   "id": "9fd4faae",
   "metadata": {},
   "outputs": [],
   "source": [
    "# Calculate class imbalance ratio"
   ]
  },
  {
   "cell_type": "code",
   "execution_count": null,
   "id": "c9c3b400",
   "metadata": {},
   "outputs": [],
   "source": [
    "positive_count = df[df['class'] == 'positive'].shape[0]"
   ]
  },
  {
   "cell_type": "code",
   "execution_count": null,
   "id": "e3fb3184",
   "metadata": {},
   "outputs": [],
   "source": [
    "negative_count = df[df['class'] == 'negative'].shape[0]"
   ]
  },
  {
   "cell_type": "code",
   "execution_count": null,
   "id": "d9e0bd04",
   "metadata": {},
   "outputs": [],
   "source": [
    "ratio = positive_count / negative_count"
   ]
  },
  {
   "cell_type": "code",
   "execution_count": null,
   "id": "40744f44",
   "metadata": {},
   "outputs": [],
   "source": [
    "print(f\"Ratio of Positive to Negative Samples: {ratio:.2f}\")"
   ]
  },
  {
   "cell_type": "code",
   "execution_count": null,
   "id": "ebc36b8b",
   "metadata": {},
   "outputs": [],
   "source": [
    "sentiment_counts = df['class'].value_counts()"
   ]
  },
  {
   "cell_type": "code",
   "execution_count": null,
   "id": "d40b043e",
   "metadata": {},
   "outputs": [],
   "source": [
    "plt.figure(figsize=(8, 8))"
   ]
  },
  {
   "cell_type": "code",
   "execution_count": null,
   "id": "24939648",
   "metadata": {},
   "outputs": [],
   "source": [
    "plt.pie(sentiment_counts, labels=sentiment_counts.index, autopct='%1.1f%%', startangle=140, colors=['skyblue', 'orange', 'green'])"
   ]
  },
  {
   "cell_type": "code",
   "execution_count": null,
   "id": "f01029de",
   "metadata": {},
   "outputs": [],
   "source": [
    "plt.title('Pie Chart of Sentiment Distribution')"
   ]
  },
  {
   "cell_type": "code",
   "execution_count": null,
   "id": "3d26e1c5",
   "metadata": {},
   "outputs": [],
   "source": [
    "plt.show()"
   ]
  },
  {
   "cell_type": "code",
   "execution_count": null,
   "id": "12237c39",
   "metadata": {},
   "outputs": [],
   "source": [
    "## Generate Word Clouds for Each Sentiment Category"
   ]
  },
  {
   "cell_type": "code",
   "execution_count": null,
   "id": "bab0b018",
   "metadata": {},
   "outputs": [],
   "source": []
  },
  {
   "cell_type": "code",
   "execution_count": null,
   "id": "9cbc78bb",
   "metadata": {},
   "outputs": [],
   "source": [
    "from wordcloud import WordCloud"
   ]
  },
  {
   "cell_type": "code",
   "execution_count": null,
   "id": "e14bee32",
   "metadata": {},
   "outputs": [],
   "source": []
  },
  {
   "cell_type": "code",
   "execution_count": null,
   "id": "630ece16",
   "metadata": {},
   "outputs": [],
   "source": [
    "def generate_wordcloud(data, title):"
   ]
  },
  {
   "cell_type": "code",
   "execution_count": null,
   "id": "bf4506a3",
   "metadata": {},
   "outputs": [],
   "source": [
    "    text = ' '.join(data)"
   ]
  },
  {
   "cell_type": "code",
   "execution_count": null,
   "id": "e5e3aec0",
   "metadata": {},
   "outputs": [],
   "source": [
    "    wordcloud = WordCloud(width=800, height=400, background_color='white').generate(text)"
   ]
  },
  {
   "cell_type": "code",
   "execution_count": null,
   "id": "5425dd41",
   "metadata": {},
   "outputs": [],
   "source": [
    "    plt.figure(figsize=(10, 5))"
   ]
  },
  {
   "cell_type": "code",
   "execution_count": null,
   "id": "0d1520c7",
   "metadata": {},
   "outputs": [],
   "source": [
    "    plt.imshow(wordcloud, interpolation='bilinear')"
   ]
  },
  {
   "cell_type": "code",
   "execution_count": null,
   "id": "5914cb8b",
   "metadata": {},
   "outputs": [],
   "source": [
    "    plt.axis('off')"
   ]
  },
  {
   "cell_type": "code",
   "execution_count": null,
   "id": "f336b3d2",
   "metadata": {},
   "outputs": [],
   "source": [
    "    plt.title(title)"
   ]
  },
  {
   "cell_type": "code",
   "execution_count": null,
   "id": "6b78a6e8",
   "metadata": {},
   "outputs": [],
   "source": [
    "    plt.show()"
   ]
  },
  {
   "cell_type": "code",
   "execution_count": null,
   "id": "27488ed5",
   "metadata": {},
   "outputs": [],
   "source": []
  },
  {
   "cell_type": "code",
   "execution_count": null,
   "id": "14e241ed",
   "metadata": {},
   "outputs": [],
   "source": [
    "for sentiment in ['positive', 'neutral', 'negative']:"
   ]
  },
  {
   "cell_type": "code",
   "execution_count": null,
   "id": "6a324b4d",
   "metadata": {},
   "outputs": [],
   "source": [
    "    generate_wordcloud(df[df['class'] == sentiment]['cleaned_text'], f'Word Cloud for {sentiment.capitalize()} Sentiment')"
   ]
  },
  {
   "cell_type": "code",
   "execution_count": null,
   "id": "6542a97b",
   "metadata": {},
   "outputs": [],
   "source": [
    "## Analyze the Frequency of Bigrams"
   ]
  },
  {
   "cell_type": "code",
   "execution_count": null,
   "id": "a8c3503f",
   "metadata": {},
   "outputs": [],
   "source": [
    "from sklearn.feature_extraction.text import CountVectorizer"
   ]
  },
  {
   "cell_type": "code",
   "execution_count": null,
   "id": "8b4aa24c",
   "metadata": {},
   "outputs": [],
   "source": []
  },
  {
   "cell_type": "code",
   "execution_count": null,
   "id": "c78c8473",
   "metadata": {},
   "outputs": [],
   "source": [
    "vectorizer = CountVectorizer(ngram_range=(2, 2))"
   ]
  },
  {
   "cell_type": "code",
   "execution_count": null,
   "id": "a16a50a2",
   "metadata": {},
   "outputs": [],
   "source": [
    "bigrams = vectorizer.fit_transform(df['cleaned_text'])"
   ]
  },
  {
   "cell_type": "code",
   "execution_count": null,
   "id": "0baed86d",
   "metadata": {},
   "outputs": [],
   "source": [
    "bigram_counts = bigrams.sum(axis=0)"
   ]
  },
  {
   "cell_type": "code",
   "execution_count": null,
   "id": "75fd82aa",
   "metadata": {},
   "outputs": [],
   "source": [
    "bigram_frequencies = [(word, bigram_counts[0, idx]) for word, idx in vectorizer.vocabulary_.items()]"
   ]
  },
  {
   "cell_type": "code",
   "execution_count": null,
   "id": "87073324",
   "metadata": {},
   "outputs": [],
   "source": [
    "bigram_frequencies = sorted(bigram_frequencies, key=lambda x: x[1], reverse=True)[:20]"
   ]
  },
  {
   "cell_type": "code",
   "execution_count": null,
   "id": "eadd287c",
   "metadata": {},
   "outputs": [],
   "source": []
  },
  {
   "cell_type": "code",
   "execution_count": null,
   "id": "e66fedf5",
   "metadata": {},
   "outputs": [],
   "source": [
    "# Plotting the Top 20 Bigrams"
   ]
  },
  {
   "cell_type": "code",
   "execution_count": null,
   "id": "1db8b2da",
   "metadata": {},
   "outputs": [],
   "source": []
  },
  {
   "cell_type": "code",
   "execution_count": null,
   "id": "0860ab90",
   "metadata": {},
   "outputs": [],
   "source": [
    "words, counts = zip(*bigram_frequencies)"
   ]
  },
  {
   "cell_type": "code",
   "execution_count": null,
   "id": "09e8929a",
   "metadata": {},
   "outputs": [],
   "source": [
    "plt.figure(figsize=(12, 8))"
   ]
  },
  {
   "cell_type": "code",
   "execution_count": null,
   "id": "2a337a00",
   "metadata": {},
   "outputs": [],
   "source": [
    "sns.barplot(x=list(words), y=list(counts))"
   ]
  },
  {
   "cell_type": "code",
   "execution_count": null,
   "id": "f85a0356",
   "metadata": {},
   "outputs": [],
   "source": [
    "plt.title('Top 20 Most Frequent Bigrams')"
   ]
  },
  {
   "cell_type": "code",
   "execution_count": null,
   "id": "094722dc",
   "metadata": {},
   "outputs": [],
   "source": [
    "plt.xticks(rotation=90)"
   ]
  },
  {
   "cell_type": "code",
   "execution_count": null,
   "id": "c6fcdcee",
   "metadata": {},
   "outputs": [],
   "source": [
    "plt.xlabel('Bigrams')"
   ]
  },
  {
   "cell_type": "code",
   "execution_count": null,
   "id": "62f22a37",
   "metadata": {},
   "outputs": [],
   "source": [
    "plt.ylabel('Frequency')"
   ]
  },
  {
   "cell_type": "code",
   "execution_count": null,
   "id": "8f85c6c8",
   "metadata": {},
   "outputs": [],
   "source": [
    "plt.show()"
   ]
  },
  {
   "cell_type": "code",
   "execution_count": null,
   "id": "63fead65",
   "metadata": {},
   "outputs": [],
   "source": [
    "## Analyze the Frequency of Trigrams"
   ]
  },
  {
   "cell_type": "code",
   "execution_count": null,
   "id": "1b8be374",
   "metadata": {},
   "outputs": [],
   "source": [
    "vectorizer = CountVectorizer(ngram_range=(3, 3))"
   ]
  },
  {
   "cell_type": "code",
   "execution_count": null,
   "id": "f84ac706",
   "metadata": {},
   "outputs": [],
   "source": [
    "trigrams = vectorizer.fit_transform(df['cleaned_text'])"
   ]
  },
  {
   "cell_type": "code",
   "execution_count": null,
   "id": "b01495bf",
   "metadata": {},
   "outputs": [],
   "source": [
    "trigram_counts = trigrams.sum(axis=0)"
   ]
  },
  {
   "cell_type": "code",
   "execution_count": null,
   "id": "bda9e7aa",
   "metadata": {},
   "outputs": [],
   "source": [
    "trigram_frequencies = [(word, trigram_counts[0, idx]) for word, idx in vectorizer.vocabulary_.items()]"
   ]
  },
  {
   "cell_type": "code",
   "execution_count": null,
   "id": "cb604c46",
   "metadata": {},
   "outputs": [],
   "source": [
    "trigram_frequencies = sorted(trigram_frequencies, key=lambda x: x[1], reverse=True)[:50]"
   ]
  },
  {
   "cell_type": "code",
   "execution_count": null,
   "id": "47db8f01",
   "metadata": {},
   "outputs": [],
   "source": []
  },
  {
   "cell_type": "code",
   "execution_count": null,
   "id": "638f65c4",
   "metadata": {},
   "outputs": [],
   "source": [
    "# Plotting the top 20 trigrams"
   ]
  },
  {
   "cell_type": "code",
   "execution_count": null,
   "id": "79c30db3",
   "metadata": {},
   "outputs": [],
   "source": [
    "words, counts = zip(*trigram_frequencies)"
   ]
  },
  {
   "cell_type": "code",
   "execution_count": null,
   "id": "d94eae0a",
   "metadata": {},
   "outputs": [],
   "source": [
    "plt.figure(figsize=(15, 10))"
   ]
  },
  {
   "cell_type": "code",
   "execution_count": null,
   "id": "7665e8dd",
   "metadata": {},
   "outputs": [],
   "source": [
    "sns.barplot(x=list(words), y=list(counts))"
   ]
  },
  {
   "cell_type": "code",
   "execution_count": null,
   "id": "977eb854",
   "metadata": {},
   "outputs": [],
   "source": [
    "plt.title('Top 20 Most Frequent Trigrams')"
   ]
  },
  {
   "cell_type": "code",
   "execution_count": null,
   "id": "5a5bc4b8",
   "metadata": {},
   "outputs": [],
   "source": [
    "plt.xticks(rotation=90)"
   ]
  },
  {
   "cell_type": "code",
   "execution_count": null,
   "id": "e6ad5d39",
   "metadata": {},
   "outputs": [],
   "source": [
    "plt.xlabel('Trigrams')"
   ]
  },
  {
   "cell_type": "code",
   "execution_count": null,
   "id": "d4561f82",
   "metadata": {},
   "outputs": [],
   "source": [
    "plt.ylabel('Frequency')"
   ]
  },
  {
   "cell_type": "code",
   "execution_count": null,
   "id": "c100bffd",
   "metadata": {},
   "outputs": [],
   "source": [
    "plt.show()"
   ]
  },
  {
   "cell_type": "code",
   "execution_count": null,
   "id": "bc31335d",
   "metadata": {},
   "outputs": [],
   "source": []
  },
  {
   "cell_type": "code",
   "execution_count": null,
   "id": "a8195bdc",
   "metadata": {},
   "outputs": [],
   "source": [
    "## Co-Occurrence Networks for Words in the Text"
   ]
  },
  {
   "cell_type": "code",
   "execution_count": null,
   "id": "f8a94a81",
   "metadata": {},
   "outputs": [],
   "source": [
    "import networkx as nx"
   ]
  },
  {
   "cell_type": "code",
   "execution_count": null,
   "id": "62792f43",
   "metadata": {},
   "outputs": [],
   "source": [
    "from itertools import combinations"
   ]
  },
  {
   "cell_type": "code",
   "execution_count": null,
   "id": "f90cac62",
   "metadata": {},
   "outputs": [],
   "source": []
  },
  {
   "cell_type": "code",
   "execution_count": null,
   "id": "d36c01c1",
   "metadata": {},
   "outputs": [],
   "source": [
    "def create_cooccurrence_matrix(line, vocab):"
   ]
  },
  {
   "cell_type": "code",
   "execution_count": null,
   "id": "a5ff9d78",
   "metadata": {},
   "outputs": [],
   "source": [
    "    co_occurrences = nx.Graph()"
   ]
  },
  {
   "cell_type": "code",
   "execution_count": null,
   "id": "10faf112",
   "metadata": {},
   "outputs": [],
   "source": [
    "    for word1, word2 in combinations(line.split(), 2):"
   ]
  },
  {
   "cell_type": "code",
   "execution_count": null,
   "id": "2e77ed8b",
   "metadata": {},
   "outputs": [],
   "source": [
    "        if word1 in vocab and word2 in vocab:"
   ]
  },
  {
   "cell_type": "code",
   "execution_count": null,
   "id": "dbac5db4",
   "metadata": {},
   "outputs": [],
   "source": [
    "            if co_occurrences.has_edge(word1, word2):"
   ]
  },
  {
   "cell_type": "code",
   "execution_count": null,
   "id": "6bb36f31",
   "metadata": {},
   "outputs": [],
   "source": [
    "                co_occurrences[word1][word2]['weight'] += 1"
   ]
  },
  {
   "cell_type": "code",
   "execution_count": null,
   "id": "713584b8",
   "metadata": {},
   "outputs": [],
   "source": [
    "            else:"
   ]
  },
  {
   "cell_type": "code",
   "execution_count": null,
   "id": "af95f2e5",
   "metadata": {},
   "outputs": [],
   "source": [
    "                co_occurrences.add_edge(word1, word2, weight=1)"
   ]
  },
  {
   "cell_type": "code",
   "execution_count": null,
   "id": "2c19b605",
   "metadata": {},
   "outputs": [],
   "source": [
    "    return co_occurrences"
   ]
  },
  {
   "cell_type": "code",
   "execution_count": null,
   "id": "ad3369ae",
   "metadata": {},
   "outputs": [],
   "source": []
  },
  {
   "cell_type": "code",
   "execution_count": null,
   "id": "dba74a01",
   "metadata": {},
   "outputs": [],
   "source": [
    "# Create a graph for the top 20 most frequent words"
   ]
  },
  {
   "cell_type": "code",
   "execution_count": null,
   "id": "621197e9",
   "metadata": {},
   "outputs": [],
   "source": [
    "top_words = set([word for word, count in word_counts.most_common(20)])"
   ]
  },
  {
   "cell_type": "code",
   "execution_count": null,
   "id": "f137b463",
   "metadata": {},
   "outputs": [],
   "source": [
    "co_occurrence_graph = nx.Graph()"
   ]
  },
  {
   "cell_type": "code",
   "execution_count": null,
   "id": "c307ab5e",
   "metadata": {},
   "outputs": [],
   "source": []
  },
  {
   "cell_type": "code",
   "execution_count": null,
   "id": "4988031e",
   "metadata": {},
   "outputs": [],
   "source": [
    "for line in df['cleaned_text']:"
   ]
  },
  {
   "cell_type": "code",
   "execution_count": null,
   "id": "68f92dd5",
   "metadata": {},
   "outputs": [],
   "source": [
    "    g = create_cooccurrence_matrix(line, top_words)"
   ]
  },
  {
   "cell_type": "code",
   "execution_count": null,
   "id": "05341d54",
   "metadata": {},
   "outputs": [],
   "source": [
    "    co_occurrence_graph = nx.compose(co_occurrence_graph, g)"
   ]
  },
  {
   "cell_type": "code",
   "execution_count": null,
   "id": "5ad29e3e",
   "metadata": {},
   "outputs": [],
   "source": []
  },
  {
   "cell_type": "code",
   "execution_count": null,
   "id": "385b60a2",
   "metadata": {},
   "outputs": [],
   "source": []
  },
  {
   "cell_type": "code",
   "execution_count": null,
   "id": "a99d45ed",
   "metadata": {},
   "outputs": [],
   "source": [
    "plt.figure(figsize=(12, 12))"
   ]
  },
  {
   "cell_type": "code",
   "execution_count": null,
   "id": "56fee23c",
   "metadata": {},
   "outputs": [],
   "source": [
    "pos = nx.spring_layout(co_occurrence_graph, k=0.5)  # k regulates the distance between nodes"
   ]
  },
  {
   "cell_type": "code",
   "execution_count": null,
   "id": "97e0e0ef",
   "metadata": {},
   "outputs": [],
   "source": [
    "nx.draw(co_occurrence_graph, pos, with_labels=True, node_color='skyblue', node_size=2500, edge_color='k', linewidths=1, font_size=15)"
   ]
  },
  {
   "cell_type": "code",
   "execution_count": null,
   "id": "5086ce1a",
   "metadata": {},
   "outputs": [],
   "source": [
    "plt.title('Co-Occurrence Network of Top 20 Words')"
   ]
  },
  {
   "cell_type": "code",
   "execution_count": null,
   "id": "5dd73bdb",
   "metadata": {},
   "outputs": [],
   "source": [
    "plt.show()"
   ]
  },
  {
   "cell_type": "code",
   "execution_count": null,
   "id": "2e374a25",
   "metadata": {},
   "outputs": [],
   "source": []
  },
  {
   "cell_type": "code",
   "execution_count": null,
   "id": "c9f1a49f",
   "metadata": {},
   "outputs": [],
   "source": [
    "## Saving Data"
   ]
  },
  {
   "cell_type": "code",
   "execution_count": null,
   "id": "eb2ed9fa",
   "metadata": {},
   "outputs": [],
   "source": [
    "for i in df['cleaned_text']:"
   ]
  },
  {
   "cell_type": "code",
   "execution_count": null,
   "id": "1d8b1589",
   "metadata": {},
   "outputs": [],
   "source": [
    "    print(i)"
   ]
  },
  {
   "cell_type": "code",
   "execution_count": null,
   "id": "2ed264e8",
   "metadata": {},
   "outputs": [],
   "source": [
    "# Save the DataFrame to a new CSV file"
   ]
  },
  {
   "cell_type": "code",
   "execution_count": null,
   "id": "ce1c34a8",
   "metadata": {},
   "outputs": [],
   "source": [
    "df.to_csv('eda_data.csv', index=False)"
   ]
  },
  {
   "cell_type": "code",
   "execution_count": null,
   "id": "d33c3325",
   "metadata": {},
   "outputs": [],
   "source": [
    "# Display the first few rows of the DataFrame"
   ]
  },
  {
   "cell_type": "code",
   "execution_count": null,
   "id": "c0196ed4",
   "metadata": {},
   "outputs": [],
   "source": [
    "print(df.head())"
   ]
  },
  {
   "cell_type": "code",
   "execution_count": null,
   "id": "e51f183b",
   "metadata": {},
   "outputs": [],
   "source": []
  }
 ],
 "metadata": {},
 "nbformat": 4,
 "nbformat_minor": 5
}
