{
 "cells": [
  {
   "cell_type": "code",
   "execution_count": null,
   "id": "eba44f4c",
   "metadata": {},
   "outputs": [],
   "source": [
    "## Tabulate"
   ]
  },
  {
   "cell_type": "code",
   "execution_count": null,
   "id": "51493071",
   "metadata": {},
   "outputs": [],
   "source": []
  },
  {
   "cell_type": "code",
   "execution_count": null,
   "id": "02bc3f68",
   "metadata": {},
   "outputs": [],
   "source": [
    "import pandas as pd"
   ]
  },
  {
   "cell_type": "code",
   "execution_count": null,
   "id": "c2fe5e27",
   "metadata": {},
   "outputs": [],
   "source": [
    "from tabulate import tabulate"
   ]
  },
  {
   "cell_type": "code",
   "execution_count": null,
   "id": "63153ed8",
   "metadata": {},
   "outputs": [],
   "source": []
  },
  {
   "cell_type": "code",
   "execution_count": null,
   "id": "db380740",
   "metadata": {},
   "outputs": [],
   "source": [
    "# Example data: replace this with your actual model metrics"
   ]
  },
  {
   "cell_type": "code",
   "execution_count": null,
   "id": "eb1d2a77",
   "metadata": {},
   "outputs": [],
   "source": [
    "data = ["
   ]
  },
  {
   "cell_type": "code",
   "execution_count": null,
   "id": "f5e861a9",
   "metadata": {},
   "outputs": [],
   "source": [
    "    {\"Model\": \"Logistic Regression\", \"Type\": \"Machine Learning\", \"Accuracy\": 0.74, \"Precision\": 0.74, \"Recall\": 0.74, \"F1-Score\": 0.71, \"ROC AUC Score\": 0.85},"
   ]
  },
  {
   "cell_type": "code",
   "execution_count": null,
   "id": "19d2040a",
   "metadata": {},
   "outputs": [],
   "source": [
    "    {\"Model\": \"SVM\", \"Type\": \"Machine Learning\", \"Accuracy\": 0.76, \"Precision\": 0.75, \"Recall\": 0.76, \"F1-Score\": 0.75, \"ROC AUC Score\": 0.87},"
   ]
  },
  {
   "cell_type": "code",
   "execution_count": null,
   "id": "ab1278c1",
   "metadata": {},
   "outputs": [],
   "source": [
    "    {\"Model\": \"Random Forest\", \"Type\": \"Machine Learning\", \"Accuracy\": 0.76, \"Precision\": 0.75, \"Recall\": 0.76, \"F1-Score\": 0.73, \"ROC AUC Score\": 0.83},"
   ]
  },
  {
   "cell_type": "code",
   "execution_count": null,
   "id": "c85e2ec8",
   "metadata": {},
   "outputs": [],
   "source": [
    "    {\"Model\": \"CNN\", \"Type\": \"Deep Learning\", \"Accuracy\": 0.76, \"Precision\": 0.75, \"Recall\": 0.76, \"F1-Score\": 0.75, \"ROC AUC Score\": 0.85},"
   ]
  }
 ],
 "metadata": {},
 "nbformat": 4,
 "nbformat_minor": 5
}
