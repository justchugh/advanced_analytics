{
 "cells": [
  {
   "cell_type": "code",
   "execution_count": null,
   "id": "a520fc57",
   "metadata": {},
   "outputs": [],
   "source": [
    "## Tabulate"
   ]
  },
  {
   "cell_type": "code",
   "execution_count": null,
   "id": "b905a3bc",
   "metadata": {},
   "outputs": [],
   "source": []
  },
  {
   "cell_type": "code",
   "execution_count": null,
   "id": "ccc1fc69",
   "metadata": {},
   "outputs": [],
   "source": [
    "import pandas as pd"
   ]
  },
  {
   "cell_type": "code",
   "execution_count": null,
   "id": "166a332e",
   "metadata": {},
   "outputs": [],
   "source": [
    "from tabulate import tabulate"
   ]
  },
  {
   "cell_type": "code",
   "execution_count": null,
   "id": "567c22ce",
   "metadata": {},
   "outputs": [],
   "source": []
  },
  {
   "cell_type": "code",
   "execution_count": null,
   "id": "5a124ea5",
   "metadata": {},
   "outputs": [],
   "source": [
    "# Example data: replace this with your actual model metrics"
   ]
  },
  {
   "cell_type": "code",
   "execution_count": null,
   "id": "4224619b",
   "metadata": {},
   "outputs": [],
   "source": [
    "data = ["
   ]
  },
  {
   "cell_type": "code",
   "execution_count": null,
   "id": "8b266167",
   "metadata": {},
   "outputs": [],
   "source": [
    "    {\"Model\": \"Logistic Regression\", \"Type\": \"Machine Learning\", \"Accuracy\": 0.74, \"Precision\": 0.74, \"Recall\": 0.74, \"F1-Score\": 0.71, \"ROC AUC Score\": 0.85},"
   ]
  },
  {
   "cell_type": "code",
   "execution_count": null,
   "id": "af19ec24",
   "metadata": {},
   "outputs": [],
   "source": [
    "    {\"Model\": \"SVM\", \"Type\": \"Machine Learning\", \"Accuracy\": 0.76, \"Precision\": 0.75, \"Recall\": 0.76, \"F1-Score\": 0.75, \"ROC AUC Score\": 0.87},"
   ]
  },
  {
   "cell_type": "code",
   "execution_count": null,
   "id": "bad46209",
   "metadata": {},
   "outputs": [],
   "source": [
    "    {\"Model\": \"Random Forest\", \"Type\": \"Machine Learning\", \"Accuracy\": 0.76, \"Precision\": 0.75, \"Recall\": 0.76, \"F1-Score\": 0.73, \"ROC AUC Score\": 0.83},"
   ]
  },
  {
   "cell_type": "code",
   "execution_count": null,
   "id": "a1f77a28",
   "metadata": {},
   "outputs": [],
   "source": [
    "    {\"Model\": \"CNN\", \"Type\": \"Deep Learning\", \"Accuracy\": 0.76, \"Precision\": 0.75, \"Recall\": 0.76, \"F1-Score\": 0.75, \"ROC AUC Score\": 0.85},"
   ]
  },
  {
   "cell_type": "code",
   "execution_count": null,
   "id": "970606b2",
   "metadata": {},
   "outputs": [],
   "source": [
    "    {\"Model\": \"LSTM\", \"Type\": \"Deep Learning\", \"Accuracy\": 0.66, \"Precision\": 0.68, \"Recall\": 0.66, \"F1-Score\": 0.67, \"ROC AUC Score\": 0.80},"
   ]
  },
  {
   "cell_type": "code",
   "execution_count": null,
   "id": "9b01c8af",
   "metadata": {},
   "outputs": [],
   "source": [
    "    {\"Model\": \"BiLSTM\", \"Type\": \"Deep Learning\", \"Accuracy\": 0.63, \"Precision\": 0.64, \"Recall\": 0.63, \"F1-Score\": 0.64, \"ROC AUC Score\": 0.77},"
   ]
  },
  {
   "cell_type": "code",
   "execution_count": null,
   "id": "4a312296",
   "metadata": {},
   "outputs": [],
   "source": [
    "    {\"Model\": \"BERT\", \"Type\": \"Transformer Model\", \"Accuracy\": 0.85, \"Precision\": 0.86, \"Recall\": 0.85, \"F1-Score\": 0.85, \"ROC AUC Score\": 0.94},"
   ]
  },
  {
   "cell_type": "code",
   "execution_count": null,
   "id": "3ac56a1a",
   "metadata": {},
   "outputs": [],
   "source": [
    "    {\"Model\": \"RoBERTa\", \"Type\": \"Transformer Model\", \"Accuracy\": 0.87, \"Precision\": 0.87, \"Recall\": 0.87, \"F1-Score\": 0.86, \"ROC AUC Score\": 0.95},"
   ]
  },
  {
   "cell_type": "code",
   "execution_count": null,
   "id": "25d8a4cb",
   "metadata": {},
   "outputs": [],
   "source": [
    "]"
   ]
  },
  {
   "cell_type": "code",
   "execution_count": null,
   "id": "d3b66613",
   "metadata": {},
   "outputs": [],
   "source": []
  },
  {
   "cell_type": "code",
   "execution_count": null,
   "id": "3b091b49",
   "metadata": {},
   "outputs": [],
   "source": [
    "# Creating a DataFrame"
   ]
  },
  {
   "cell_type": "code",
   "execution_count": null,
   "id": "ae04e2f2",
   "metadata": {},
   "outputs": [],
   "source": [
    "df = pd.DataFrame(data)"
   ]
  },
  {
   "cell_type": "code",
   "execution_count": null,
   "id": "89cdc2ac",
   "metadata": {},
   "outputs": [],
   "source": []
  },
  {
   "cell_type": "code",
   "execution_count": null,
   "id": "ac83ae70",
   "metadata": {},
   "outputs": [],
   "source": [
    "# Optionally, fill NaN values with dashes if any"
   ]
  }
 ],
 "metadata": {},
 "nbformat": 4,
 "nbformat_minor": 5
}
