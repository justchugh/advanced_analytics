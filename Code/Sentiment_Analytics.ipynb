{
 "cells": [
  {
   "cell_type": "code",
   "execution_count": null,
   "id": "a9d4250d",
   "metadata": {},
   "outputs": [],
   "source": [
    "## Tabulate"
   ]
  },
  {
   "cell_type": "code",
   "execution_count": null,
   "id": "3e40d7fb",
   "metadata": {},
   "outputs": [],
   "source": []
  },
  {
   "cell_type": "code",
   "execution_count": null,
   "id": "20c5ce75",
   "metadata": {},
   "outputs": [],
   "source": [
    "import pandas as pd"
   ]
  },
  {
   "cell_type": "code",
   "execution_count": null,
   "id": "b55245cb",
   "metadata": {},
   "outputs": [],
   "source": [
    "from tabulate import tabulate"
   ]
  },
  {
   "cell_type": "code",
   "execution_count": null,
   "id": "781fe8f6",
   "metadata": {},
   "outputs": [],
   "source": []
  },
  {
   "cell_type": "code",
   "execution_count": null,
   "id": "1fb7fc03",
   "metadata": {},
   "outputs": [],
   "source": [
    "# Example data: replace this with your actual model metrics"
   ]
  },
  {
   "cell_type": "code",
   "execution_count": null,
   "id": "bf7b737b",
   "metadata": {},
   "outputs": [],
   "source": [
    "data = ["
   ]
  },
  {
   "cell_type": "code",
   "execution_count": null,
   "id": "33459702",
   "metadata": {},
   "outputs": [],
   "source": [
    "    {\"Model\": \"Logistic Regression\", \"Type\": \"Machine Learning\", \"Accuracy\": 0.74, \"Precision\": 0.74, \"Recall\": 0.74, \"F1-Score\": 0.71, \"ROC AUC Score\": 0.85},"
   ]
  },
  {
   "cell_type": "code",
   "execution_count": null,
   "id": "2123a74b",
   "metadata": {},
   "outputs": [],
   "source": [
    "    {\"Model\": \"SVM\", \"Type\": \"Machine Learning\", \"Accuracy\": 0.76, \"Precision\": 0.75, \"Recall\": 0.76, \"F1-Score\": 0.75, \"ROC AUC Score\": 0.87},"
   ]
  },
  {
   "cell_type": "code",
   "execution_count": null,
   "id": "8830b655",
   "metadata": {},
   "outputs": [],
   "source": [
    "    {\"Model\": \"Random Forest\", \"Type\": \"Machine Learning\", \"Accuracy\": 0.76, \"Precision\": 0.75, \"Recall\": 0.76, \"F1-Score\": 0.73, \"ROC AUC Score\": 0.83},"
   ]
  },
  {
   "cell_type": "code",
   "execution_count": null,
   "id": "c9926ee3",
   "metadata": {},
   "outputs": [],
   "source": [
    "    {\"Model\": \"CNN\", \"Type\": \"Deep Learning\", \"Accuracy\": 0.76, \"Precision\": 0.75, \"Recall\": 0.76, \"F1-Score\": 0.75, \"ROC AUC Score\": 0.85},"
   ]
  },
  {
   "cell_type": "code",
   "execution_count": null,
   "id": "1bd7b36c",
   "metadata": {},
   "outputs": [],
   "source": [
    "    {\"Model\": \"LSTM\", \"Type\": \"Deep Learning\", \"Accuracy\": 0.66, \"Precision\": 0.68, \"Recall\": 0.66, \"F1-Score\": 0.67, \"ROC AUC Score\": 0.80},"
   ]
  },
  {
   "cell_type": "code",
   "execution_count": null,
   "id": "b5d58487",
   "metadata": {},
   "outputs": [],
   "source": [
    "    {\"Model\": \"BiLSTM\", \"Type\": \"Deep Learning\", \"Accuracy\": 0.63, \"Precision\": 0.64, \"Recall\": 0.63, \"F1-Score\": 0.64, \"ROC AUC Score\": 0.77},"
   ]
  },
  {
   "cell_type": "code",
   "execution_count": null,
   "id": "dd4081d3",
   "metadata": {},
   "outputs": [],
   "source": [
    "    {\"Model\": \"BERT\", \"Type\": \"Transformer Model\", \"Accuracy\": 0.85, \"Precision\": 0.86, \"Recall\": 0.85, \"F1-Score\": 0.85, \"ROC AUC Score\": 0.94},"
   ]
  },
  {
   "cell_type": "code",
   "execution_count": null,
   "id": "562f9697",
   "metadata": {},
   "outputs": [],
   "source": [
    "    {\"Model\": \"RoBERTa\", \"Type\": \"Transformer Model\", \"Accuracy\": 0.87, \"Precision\": 0.87, \"Recall\": 0.87, \"F1-Score\": 0.86, \"ROC AUC Score\": 0.95},"
   ]
  },
  {
   "cell_type": "code",
   "execution_count": null,
   "id": "36fcdfb3",
   "metadata": {},
   "outputs": [],
   "source": [
    "]"
   ]
  },
  {
   "cell_type": "code",
   "execution_count": null,
   "id": "fc19e793",
   "metadata": {},
   "outputs": [],
   "source": []
  }
 ],
 "metadata": {},
 "nbformat": 4,
 "nbformat_minor": 5
}
