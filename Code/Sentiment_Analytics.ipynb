{
 "cells": [
  {
   "cell_type": "code",
   "execution_count": null,
   "id": "e5329e89",
   "metadata": {},
   "outputs": [],
   "source": [
    "## BERT"
   ]
  },
  {
   "cell_type": "code",
   "execution_count": null,
   "id": "1e5c3acc",
   "metadata": {},
   "outputs": [],
   "source": [
    "!pip install transformers torch"
   ]
  },
  {
   "cell_type": "code",
   "execution_count": null,
   "id": "30bdb4c1",
   "metadata": {},
   "outputs": [],
   "source": []
  },
  {
   "cell_type": "code",
   "execution_count": null,
   "id": "7d22f626",
   "metadata": {},
   "outputs": [],
   "source": [
    "import pandas as pd"
   ]
  },
  {
   "cell_type": "code",
   "execution_count": null,
   "id": "71db55ef",
   "metadata": {},
   "outputs": [],
   "source": [
    "from transformers import BertTokenizer, BertForSequenceClassification"
   ]
  },
  {
   "cell_type": "code",
   "execution_count": null,
   "id": "d8d936e2",
   "metadata": {},
   "outputs": [],
   "source": [
    "import torch"
   ]
  },
  {
   "cell_type": "code",
   "execution_count": null,
   "id": "18e0ea82",
   "metadata": {},
   "outputs": [],
   "source": [
    "from torch.utils.data import DataLoader, TensorDataset"
   ]
  },
  {
   "cell_type": "code",
   "execution_count": null,
   "id": "289f1fa0",
   "metadata": {},
   "outputs": [],
   "source": [
    "from sklearn.model_selection import train_test_split"
   ]
  },
  {
   "cell_type": "code",
   "execution_count": null,
   "id": "c180b393",
   "metadata": {},
   "outputs": [],
   "source": [
    "from sklearn.metrics import classification_report, roc_curve, auc, roc_auc_score"
   ]
  },
  {
   "cell_type": "code",
   "execution_count": null,
   "id": "015d1dc7",
   "metadata": {},
   "outputs": [],
   "source": [
    "from sklearn.preprocessing import LabelEncoder, label_binarize"
   ]
  },
  {
   "cell_type": "code",
   "execution_count": null,
   "id": "83c53683",
   "metadata": {},
   "outputs": [],
   "source": [
    "import matplotlib.pyplot as plt"
   ]
  },
  {
   "cell_type": "code",
   "execution_count": null,
   "id": "0c341c75",
   "metadata": {},
   "outputs": [],
   "source": [
    "from itertools import cycle"
   ]
  },
  {
   "cell_type": "code",
   "execution_count": null,
   "id": "e6036d72",
   "metadata": {},
   "outputs": [],
   "source": [
    "import numpy as np"
   ]
  },
  {
   "cell_type": "code",
   "execution_count": null,
   "id": "56104d30",
   "metadata": {},
   "outputs": [],
   "source": []
  },
  {
   "cell_type": "code",
   "execution_count": null,
   "id": "820dc4a6",
   "metadata": {},
   "outputs": [],
   "source": [
    "# Encoding labels ('positive', 'negative', 'neutral') to numerical values"
   ]
  },
  {
   "cell_type": "code",
   "execution_count": null,
   "id": "ad009d56",
   "metadata": {},
   "outputs": [],
   "source": [
    "label_encoder = LabelEncoder()"
   ]
  },
  {
   "cell_type": "code",
   "execution_count": null,
   "id": "79ea359a",
   "metadata": {},
   "outputs": [],
   "source": [
    "df['label'] = label_encoder.fit_transform(df['class'])"
   ]
  },
  {
   "cell_type": "code",
   "execution_count": null,
   "id": "b43c1ce5",
   "metadata": {},
   "outputs": [],
   "source": []
  },
  {
   "cell_type": "code",
   "execution_count": null,
   "id": "293c96b6",
   "metadata": {},
   "outputs": [],
   "source": [
    "# Tokenization and Data Preparation (using cleaned text)"
   ]
  },
  {
   "cell_type": "code",
   "execution_count": null,
   "id": "102e812b",
   "metadata": {},
   "outputs": [],
   "source": [
    "tokenizer = BertTokenizer.from_pretrained('bert-base-uncased')"
   ]
  },
  {
   "cell_type": "code",
   "execution_count": null,
   "id": "f4d56989",
   "metadata": {},
   "outputs": [],
   "source": [
    "encoded_data = tokenizer.batch_encode_plus("
   ]
  },
  {
   "cell_type": "code",
   "execution_count": null,
   "id": "671fa4cd",
   "metadata": {},
   "outputs": [],
   "source": [
    "    df['cleaned_text'].tolist(),"
   ]
  },
  {
   "cell_type": "code",
   "execution_count": null,
   "id": "1d7a604d",
   "metadata": {},
   "outputs": [],
   "source": [
    "    add_special_tokens=True,"
   ]
  },
  {
   "cell_type": "code",
   "execution_count": null,
   "id": "d9b784f4",
   "metadata": {},
   "outputs": [],
   "source": [
    "    return_attention_mask=True,"
   ]
  },
  {
   "cell_type": "code",
   "execution_count": null,
   "id": "b95c3e2c",
   "metadata": {},
   "outputs": [],
   "source": [
    "    padding='max_length',"
   ]
  },
  {
   "cell_type": "code",
   "execution_count": null,
   "id": "e0e6c581",
   "metadata": {},
   "outputs": [],
   "source": [
    "    max_length=128,  # Adjust if your sentences are longer"
   ]
  },
  {
   "cell_type": "code",
   "execution_count": null,
   "id": "d0d64c30",
   "metadata": {},
   "outputs": [],
   "source": [
    "    truncation=True,"
   ]
  },
  {
   "cell_type": "code",
   "execution_count": null,
   "id": "1da82fdc",
   "metadata": {},
   "outputs": [],
   "source": [
    "    return_tensors='pt'"
   ]
  },
  {
   "cell_type": "code",
   "execution_count": null,
   "id": "f18ff72a",
   "metadata": {},
   "outputs": [],
   "source": [
    ")"
   ]
  },
  {
   "cell_type": "code",
   "execution_count": null,
   "id": "6776d630",
   "metadata": {},
   "outputs": [],
   "source": []
  },
  {
   "cell_type": "code",
   "execution_count": null,
   "id": "1a714b76",
   "metadata": {},
   "outputs": [],
   "source": [
    "input_ids = encoded_data['input_ids']"
   ]
  },
  {
   "cell_type": "code",
   "execution_count": null,
   "id": "dd70f027",
   "metadata": {},
   "outputs": [],
   "source": [
    "attention_masks = encoded_data['attention_mask']"
   ]
  },
  {
   "cell_type": "code",
   "execution_count": null,
   "id": "c7f1ac6d",
   "metadata": {},
   "outputs": [],
   "source": [
    "labels = torch.tensor(df['label'].tolist())"
   ]
  },
  {
   "cell_type": "code",
   "execution_count": null,
   "id": "72f8c660",
   "metadata": {},
   "outputs": [],
   "source": []
  },
  {
   "cell_type": "code",
   "execution_count": null,
   "id": "8c44943a",
   "metadata": {},
   "outputs": [],
   "source": [
    "# Split into training and testing sets"
   ]
  },
  {
   "cell_type": "code",
   "execution_count": null,
   "id": "5aa662ec",
   "metadata": {},
   "outputs": [],
   "source": [
    "train_inputs, test_inputs, train_labels, test_labels = train_test_split("
   ]
  },
  {
   "cell_type": "code",
   "execution_count": null,
   "id": "f687786b",
   "metadata": {},
   "outputs": [],
   "source": [
    "    input_ids, labels, random_state=35476648, test_size=0.2"
   ]
  },
  {
   "cell_type": "code",
   "execution_count": null,
   "id": "a81098d3",
   "metadata": {},
   "outputs": [],
   "source": [
    ")"
   ]
  },
  {
   "cell_type": "code",
   "execution_count": null,
   "id": "3926991d",
   "metadata": {},
   "outputs": [],
   "source": [
    "train_masks, test_masks, _, _ = train_test_split("
   ]
  },
  {
   "cell_type": "code",
   "execution_count": null,
   "id": "8721869d",
   "metadata": {},
   "outputs": [],
   "source": [
    "    attention_masks, input_ids, random_state=35476648, test_size=0.2"
   ]
  },
  {
   "cell_type": "code",
   "execution_count": null,
   "id": "65fa4936",
   "metadata": {},
   "outputs": [],
   "source": [
    ")"
   ]
  },
  {
   "cell_type": "code",
   "execution_count": null,
   "id": "85caf67c",
   "metadata": {},
   "outputs": [],
   "source": [
    "# Create DataLoader"
   ]
  },
  {
   "cell_type": "code",
   "execution_count": null,
   "id": "9f475a78",
   "metadata": {},
   "outputs": [],
   "source": [
    "train_data = TensorDataset(train_inputs, train_masks, train_labels)"
   ]
  },
  {
   "cell_type": "code",
   "execution_count": null,
   "id": "d8395c90",
   "metadata": {},
   "outputs": [],
   "source": [
    "train_dataloader = DataLoader(train_data, batch_size=32, shuffle=True)"
   ]
  },
  {
   "cell_type": "code",
   "execution_count": null,
   "id": "5cd8c368",
   "metadata": {},
   "outputs": [],
   "source": []
  },
  {
   "cell_type": "code",
   "execution_count": null,
   "id": "db9e7f1b",
   "metadata": {},
   "outputs": [],
   "source": [
    "test_data = TensorDataset(test_inputs, test_masks, test_labels)"
   ]
  },
  {
   "cell_type": "code",
   "execution_count": null,
   "id": "aa44ecad",
   "metadata": {},
   "outputs": [],
   "source": [
    "test_dataloader = DataLoader(test_data, batch_size=32)"
   ]
  },
  {
   "cell_type": "code",
   "execution_count": null,
   "id": "527fc59d",
   "metadata": {},
   "outputs": [],
   "source": []
  }
 ],
 "metadata": {},
 "nbformat": 4,
 "nbformat_minor": 5
}
