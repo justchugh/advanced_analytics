{
 "cells": [
  {
   "cell_type": "code",
   "execution_count": null,
   "id": "b00e0d13",
   "metadata": {},
   "outputs": [],
   "source": [
    "%cd /content/drive/MyDrive/ri/code/data"
   ]
  },
  {
   "cell_type": "code",
   "execution_count": null,
   "id": "0de51f1a",
   "metadata": {},
   "outputs": [],
   "source": [
    "import re"
   ]
  },
  {
   "cell_type": "code",
   "execution_count": null,
   "id": "533f356d",
   "metadata": {},
   "outputs": [],
   "source": [
    "import itertools"
   ]
  },
  {
   "cell_type": "code",
   "execution_count": null,
   "id": "c77284cd",
   "metadata": {},
   "outputs": [],
   "source": []
  },
  {
   "cell_type": "code",
   "execution_count": null,
   "id": "637fc5bd",
   "metadata": {},
   "outputs": [],
   "source": [
    "import nltk"
   ]
  },
  {
   "cell_type": "code",
   "execution_count": null,
   "id": "adfc31ce",
   "metadata": {},
   "outputs": [],
   "source": [
    "from nltk.corpus import stopwords"
   ]
  },
  {
   "cell_type": "code",
   "execution_count": null,
   "id": "90c6b936",
   "metadata": {},
   "outputs": [],
   "source": [
    "from nltk.tokenize import word_tokenize"
   ]
  },
  {
   "cell_type": "code",
   "execution_count": null,
   "id": "9b7da275",
   "metadata": {},
   "outputs": [],
   "source": [
    "from nltk.stem import WordNetLemmatizer"
   ]
  },
  {
   "cell_type": "code",
   "execution_count": null,
   "id": "dd2315e7",
   "metadata": {},
   "outputs": [],
   "source": [
    "from nltk.sentiment import SentimentIntensityAnalyzer"
   ]
  },
  {
   "cell_type": "code",
   "execution_count": null,
   "id": "8c5e0bbd",
   "metadata": {},
   "outputs": [],
   "source": []
  },
  {
   "cell_type": "code",
   "execution_count": null,
   "id": "bce741b5",
   "metadata": {},
   "outputs": [],
   "source": [
    "import pandas as pd"
   ]
  },
  {
   "cell_type": "code",
   "execution_count": null,
   "id": "1eefc06e",
   "metadata": {},
   "outputs": [],
   "source": [
    "import seaborn as sns"
   ]
  },
  {
   "cell_type": "code",
   "execution_count": null,
   "id": "2104d09e",
   "metadata": {},
   "outputs": [],
   "source": [
    "import matplotlib.pyplot as plt"
   ]
  },
  {
   "cell_type": "code",
   "execution_count": null,
   "id": "476c8cb3",
   "metadata": {},
   "outputs": [],
   "source": []
  },
  {
   "cell_type": "code",
   "execution_count": null,
   "id": "d78c0d54",
   "metadata": {},
   "outputs": [],
   "source": [
    "from sklearn.feature_extraction.text import CountVectorizer, TfidfVectorizer"
   ]
  },
  {
   "cell_type": "code",
   "execution_count": null,
   "id": "43869692",
   "metadata": {},
   "outputs": [],
   "source": []
  },
  {
   "cell_type": "code",
   "execution_count": null,
   "id": "bbc9376f",
   "metadata": {},
   "outputs": [],
   "source": [
    "from collections import Counter"
   ]
  },
  {
   "cell_type": "code",
   "execution_count": null,
   "id": "d18eff51",
   "metadata": {},
   "outputs": [],
   "source": [
    "#Data Understanding and Preparation"
   ]
  },
  {
   "cell_type": "code",
   "execution_count": null,
   "id": "91f1b93c",
   "metadata": {},
   "outputs": [],
   "source": [
    "## Import Libraries and Load Data"
   ]
  },
  {
   "cell_type": "code",
   "execution_count": null,
   "id": "9d07016c",
   "metadata": {},
   "outputs": [],
   "source": []
  },
  {
   "cell_type": "code",
   "execution_count": null,
   "id": "9e4a0e71",
   "metadata": {},
   "outputs": [],
   "source": [
    "df = pd.read_csv('/content/drive/MyDrive/ri/code/data/A1_standard.csv')"
   ]
  },
  {
   "cell_type": "code",
   "execution_count": null,
   "id": "71ba46dc",
   "metadata": {},
   "outputs": [],
   "source": [
    "print(df.head())"
   ]
  },
  {
   "cell_type": "code",
   "execution_count": null,
   "id": "92420c41",
   "metadata": {},
   "outputs": [],
   "source": [
    "## Data Information and Missing Values"
   ]
  },
  {
   "cell_type": "code",
   "execution_count": null,
   "id": "1bd52760",
   "metadata": {},
   "outputs": [],
   "source": []
  },
  {
   "cell_type": "code",
   "execution_count": null,
   "id": "34e39e19",
   "metadata": {},
   "outputs": [],
   "source": [
    "df.info()"
   ]
  },
  {
   "cell_type": "code",
   "execution_count": null,
   "id": "b94a2a6e",
   "metadata": {},
   "outputs": [],
   "source": []
  },
  {
   "cell_type": "code",
   "execution_count": null,
   "id": "034559b0",
   "metadata": {},
   "outputs": [],
   "source": [
    "import seaborn as sns"
   ]
  },
  {
   "cell_type": "code",
   "execution_count": null,
   "id": "0ba31a8f",
   "metadata": {},
   "outputs": [],
   "source": [
    "import matplotlib.pyplot as plt"
   ]
  },
  {
   "cell_type": "code",
   "execution_count": null,
   "id": "6e8de15d",
   "metadata": {},
   "outputs": [],
   "source": []
  },
  {
   "cell_type": "code",
   "execution_count": null,
   "id": "5dd239cd",
   "metadata": {},
   "outputs": [],
   "source": [
    "sns.heatmap(df.isnull(), cbar=False, cmap='viridis')"
   ]
  },
  {
   "cell_type": "code",
   "execution_count": null,
   "id": "d77e816c",
   "metadata": {},
   "outputs": [],
   "source": [
    "plt.title('Missing Data Visualization')"
   ]
  },
  {
   "cell_type": "code",
   "execution_count": null,
   "id": "5234b1fc",
   "metadata": {},
   "outputs": [],
   "source": [
    "plt.show()"
   ]
  },
  {
   "cell_type": "code",
   "execution_count": null,
   "id": "4f04f27d",
   "metadata": {},
   "outputs": [],
   "source": []
  },
  {
   "cell_type": "code",
   "execution_count": null,
   "id": "5907ba8c",
   "metadata": {},
   "outputs": [],
   "source": [
    "# Handle Missing Values, given there are none but still"
   ]
  },
  {
   "cell_type": "code",
   "execution_count": null,
   "id": "77879375",
   "metadata": {},
   "outputs": [],
   "source": [
    "if df['text'].isnull().sum() > 0:"
   ]
  },
  {
   "cell_type": "code",
   "execution_count": null,
   "id": "daaeabfb",
   "metadata": {},
   "outputs": [],
   "source": [
    "    df['text'] = df['text'].fillna('no_text')"
   ]
  },
  {
   "cell_type": "code",
   "execution_count": null,
   "id": "2dae4a97",
   "metadata": {},
   "outputs": [],
   "source": [
    "    # df.dropna(subset=['text'], inplace=True)"
   ]
  },
  {
   "cell_type": "code",
   "execution_count": null,
   "id": "ff4af811",
   "metadata": {},
   "outputs": [],
   "source": [
    "## Remove Noise, Tokenize, and Normalize Text"
   ]
  },
  {
   "cell_type": "code",
   "execution_count": null,
   "id": "d6e8740a",
   "metadata": {},
   "outputs": [],
   "source": []
  },
  {
   "cell_type": "code",
   "execution_count": null,
   "id": "dad4c1c5",
   "metadata": {},
   "outputs": [],
   "source": [
    "# Ensure nltk resources are downloaded (first time run)"
   ]
  },
  {
   "cell_type": "code",
   "execution_count": null,
   "id": "d5649635",
   "metadata": {},
   "outputs": [],
   "source": [
    "import nltk"
   ]
  },
  {
   "cell_type": "code",
   "execution_count": null,
   "id": "cfc4a399",
   "metadata": {},
   "outputs": [],
   "source": [
    "nltk.download('punkt')"
   ]
  },
  {
   "cell_type": "code",
   "execution_count": null,
   "id": "8c8ad4de",
   "metadata": {},
   "outputs": [],
   "source": [
    "nltk.download('stopwords')"
   ]
  },
  {
   "cell_type": "code",
   "execution_count": null,
   "id": "a0a63bb7",
   "metadata": {},
   "outputs": [],
   "source": [
    "nltk.download('wordnet')"
   ]
  },
  {
   "cell_type": "code",
   "execution_count": null,
   "id": "3e131052",
   "metadata": {},
   "outputs": [],
   "source": [
    "nltk.download('averaged_perceptron_tagger')"
   ]
  },
  {
   "cell_type": "code",
   "execution_count": null,
   "id": "429045ba",
   "metadata": {},
   "outputs": [],
   "source": [
    "nltk.download('vader_lexicon')"
   ]
  },
  {
   "cell_type": "code",
   "execution_count": null,
   "id": "6e9d747b",
   "metadata": {},
   "outputs": [],
   "source": [
    "# Improved dictionary for replacing abbreviations and unclear words"
   ]
  },
  {
   "cell_type": "code",
   "execution_count": null,
   "id": "fbf46e79",
   "metadata": {},
   "outputs": [],
   "source": [
    "replacement_dict = {"
   ]
  },
  {
   "cell_type": "code",
   "execution_count": null,
   "id": "4cbde805",
   "metadata": {},
   "outputs": [],
   "source": [
    "    'eur': 'euro',"
   ]
  },
  {
   "cell_type": "code",
   "execution_count": null,
   "id": "e6f07f09",
   "metadata": {},
   "outputs": [],
   "source": [
    "    'mn': 'million',"
   ]
  },
  {
   "cell_type": "code",
   "execution_count": null,
   "id": "c691c46a",
   "metadata": {},
   "outputs": [],
   "source": [
    "    'mln': 'million',"
   ]
  },
  {
   "cell_type": "code",
   "execution_count": null,
   "id": "b62c9789",
   "metadata": {},
   "outputs": [],
   "source": [
    "    'oyj': 'company',"
   ]
  },
  {
   "cell_type": "code",
   "execution_count": null,
   "id": "95297858",
   "metadata": {},
   "outputs": [],
   "source": [
    "    'pct': 'percent',"
   ]
  },
  {
   "cell_type": "code",
   "execution_count": null,
   "id": "0bb0f61e",
   "metadata": {},
   "outputs": [],
   "source": [
    "    'hel': 'Helsinki',"
   ]
  },
  {
   "cell_type": "code",
   "execution_count": null,
   "id": "6cb397b0",
   "metadata": {},
   "outputs": [],
   "source": [
    "    'eurm': 'euro million'  # Assuming eurm means euro million"
   ]
  },
  {
   "cell_type": "code",
   "execution_count": null,
   "id": "d06b7dd2",
   "metadata": {},
   "outputs": [],
   "source": [
    "}"
   ]
  },
  {
   "cell_type": "code",
   "execution_count": null,
   "id": "37c7253e",
   "metadata": {},
   "outputs": [],
   "source": []
  },
  {
   "cell_type": "code",
   "execution_count": null,
   "id": "ea1f5bb1",
   "metadata": {},
   "outputs": [],
   "source": [
    "def preprocess_text(text):"
   ]
  },
  {
   "cell_type": "code",
   "execution_count": null,
   "id": "98c579bf",
   "metadata": {},
   "outputs": [],
   "source": [
    "    # Remove HTML tags"
   ]
  },
  {
   "cell_type": "code",
   "execution_count": null,
   "id": "124aeb86",
   "metadata": {},
   "outputs": [],
   "source": [
    "    text = re.sub(r'<.*?>', '', text)"
   ]
  }
 ],
 "metadata": {},
 "nbformat": 4,
 "nbformat_minor": 5
}
