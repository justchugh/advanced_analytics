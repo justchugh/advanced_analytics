{
 "cells": [
  {
   "cell_type": "code",
   "execution_count": null,
   "id": "4b217b4a",
   "metadata": {},
   "outputs": [],
   "source": [
    "# EDA"
   ]
  },
  {
   "cell_type": "code",
   "execution_count": null,
   "id": "05cc1ae4",
   "metadata": {},
   "outputs": [],
   "source": [
    "## Text Lenghts"
   ]
  },
  {
   "cell_type": "code",
   "execution_count": null,
   "id": "9ee68644",
   "metadata": {},
   "outputs": [],
   "source": [
    "# Visualize the distribution of text lengths"
   ]
  },
  {
   "cell_type": "code",
   "execution_count": null,
   "id": "081709e7",
   "metadata": {},
   "outputs": [],
   "source": [
    "plt.figure(figsize=(10, 6))"
   ]
  },
  {
   "cell_type": "code",
   "execution_count": null,
   "id": "a8c52f7c",
   "metadata": {},
   "outputs": [],
   "source": [
    "sns.histplot(df['cleaned_length'], bins=30, color='purple')"
   ]
  },
  {
   "cell_type": "code",
   "execution_count": null,
   "id": "4221bf97",
   "metadata": {},
   "outputs": [],
   "source": [
    "plt.title('Distribution of Text Lengths')"
   ]
  },
  {
   "cell_type": "code",
   "execution_count": null,
   "id": "1d3cd96d",
   "metadata": {},
   "outputs": [],
   "source": [
    "plt.xlabel('Length of Text (number of words)')"
   ]
  },
  {
   "cell_type": "code",
   "execution_count": null,
   "id": "73b5c902",
   "metadata": {},
   "outputs": [],
   "source": [
    "plt.ylabel('Frequency')"
   ]
  },
  {
   "cell_type": "code",
   "execution_count": null,
   "id": "07b87d3a",
   "metadata": {},
   "outputs": [],
   "source": [
    "plt.show()"
   ]
  },
  {
   "cell_type": "code",
   "execution_count": null,
   "id": "cccd81a5",
   "metadata": {},
   "outputs": [],
   "source": [
    "import pandas as pd"
   ]
  },
  {
   "cell_type": "code",
   "execution_count": null,
   "id": "80f364c0",
   "metadata": {},
   "outputs": [],
   "source": [
    "from sklearn.feature_extraction.text import CountVectorizer"
   ]
  },
  {
   "cell_type": "code",
   "execution_count": null,
   "id": "263a7ffa",
   "metadata": {},
   "outputs": [],
   "source": [
    "import matplotlib.pyplot as plt"
   ]
  },
  {
   "cell_type": "code",
   "execution_count": null,
   "id": "c48534b6",
   "metadata": {},
   "outputs": [],
   "source": []
  },
  {
   "cell_type": "code",
   "execution_count": null,
   "id": "6ed558fc",
   "metadata": {},
   "outputs": [],
   "source": [
    "# Assuming 'df' is your DataFrame and 'cleaned_text' is the column with the text data"
   ]
  },
  {
   "cell_type": "code",
   "execution_count": null,
   "id": "8d4b8cd4",
   "metadata": {},
   "outputs": [],
   "source": [
    "vectorizer = CountVectorizer()"
   ]
  },
  {
   "cell_type": "code",
   "execution_count": null,
   "id": "e6d7eaeb",
   "metadata": {},
   "outputs": [],
   "source": [
    "X = vectorizer.fit_transform(df['cleaned_text'])"
   ]
  },
  {
   "cell_type": "code",
   "execution_count": null,
   "id": "e8cd3c54",
   "metadata": {},
   "outputs": [],
   "source": []
  },
  {
   "cell_type": "code",
   "execution_count": null,
   "id": "17f3e8e5",
   "metadata": {},
   "outputs": [],
   "source": [
    "# Summing up the counts of each vocabulary word"
   ]
  },
  {
   "cell_type": "code",
   "execution_count": null,
   "id": "67d93630",
   "metadata": {},
   "outputs": [],
   "source": [
    "sum_words = X.sum(axis=0)"
   ]
  },
  {
   "cell_type": "code",
   "execution_count": null,
   "id": "07f5bce1",
   "metadata": {},
   "outputs": [],
   "source": [
    "words_freq = [(word, sum_words[0, idx]) for word, idx in vectorizer.vocabulary_.items()]"
   ]
  },
  {
   "cell_type": "code",
   "execution_count": null,
   "id": "2f7d27b0",
   "metadata": {},
   "outputs": [],
   "source": [
    "words_freq = sorted(words_freq, key=lambda x: x[1], reverse=True)"
   ]
  },
  {
   "cell_type": "code",
   "execution_count": null,
   "id": "e930ac7e",
   "metadata": {},
   "outputs": [],
   "source": []
  },
  {
   "cell_type": "code",
   "execution_count": null,
   "id": "48a394e8",
   "metadata": {},
   "outputs": [],
   "source": [
    "# Extracting the top 100 words"
   ]
  },
  {
   "cell_type": "code",
   "execution_count": null,
   "id": "7d519a33",
   "metadata": {},
   "outputs": [],
   "source": [
    "top_words = words_freq[:60]"
   ]
  },
  {
   "cell_type": "code",
   "execution_count": null,
   "id": "cb09484d",
   "metadata": {},
   "outputs": [],
   "source": []
  },
  {
   "cell_type": "code",
   "execution_count": null,
   "id": "f3b01677",
   "metadata": {},
   "outputs": [],
   "source": [
    "# Converting to DataFrame for better visualization"
   ]
  },
  {
   "cell_type": "code",
   "execution_count": null,
   "id": "c7733715",
   "metadata": {},
   "outputs": [],
   "source": [
    "top_words_df = pd.DataFrame(top_words, columns=['Word', 'Frequency'])"
   ]
  },
  {
   "cell_type": "code",
   "execution_count": null,
   "id": "5cf57d46",
   "metadata": {},
   "outputs": [],
   "source": []
  },
  {
   "cell_type": "code",
   "execution_count": null,
   "id": "61a36077",
   "metadata": {},
   "outputs": [],
   "source": [
    "# Printing the top 100 words with their frequencies"
   ]
  },
  {
   "cell_type": "code",
   "execution_count": null,
   "id": "dcaf78c4",
   "metadata": {},
   "outputs": [],
   "source": [
    "top_words_df"
   ]
  },
  {
   "cell_type": "code",
   "execution_count": null,
   "id": "3f28ab23",
   "metadata": {},
   "outputs": [],
   "source": [
    "## Calculate and Visualize the Frequency of Individual Words"
   ]
  },
  {
   "cell_type": "code",
   "execution_count": null,
   "id": "93893688",
   "metadata": {},
   "outputs": [],
   "source": []
  },
  {
   "cell_type": "code",
   "execution_count": null,
   "id": "a23a5af0",
   "metadata": {},
   "outputs": [],
   "source": [
    "from collections import Counter"
   ]
  },
  {
   "cell_type": "code",
   "execution_count": null,
   "id": "af5a07dc",
   "metadata": {},
   "outputs": [],
   "source": [
    "import itertools"
   ]
  },
  {
   "cell_type": "code",
   "execution_count": null,
   "id": "f3e5482e",
   "metadata": {},
   "outputs": [],
   "source": []
  },
  {
   "cell_type": "code",
   "execution_count": null,
   "id": "3f5a357b",
   "metadata": {},
   "outputs": [],
   "source": [
    "# Count frequencies of all words in the cleaned text"
   ]
  },
  {
   "cell_type": "code",
   "execution_count": null,
   "id": "9680d3f9",
   "metadata": {},
   "outputs": [],
   "source": [
    "all_words = list(itertools.chain(*df['cleaned_text'].str.split()))"
   ]
  },
  {
   "cell_type": "code",
   "execution_count": null,
   "id": "8f16b421",
   "metadata": {},
   "outputs": [],
   "source": [
    "word_counts = Counter(all_words)"
   ]
  },
  {
   "cell_type": "code",
   "execution_count": null,
   "id": "9ebac587",
   "metadata": {},
   "outputs": [],
   "source": []
  },
  {
   "cell_type": "code",
   "execution_count": null,
   "id": "3549974e",
   "metadata": {},
   "outputs": [],
   "source": [
    "# Display the top 20 most common words"
   ]
  },
  {
   "cell_type": "code",
   "execution_count": null,
   "id": "ea594392",
   "metadata": {},
   "outputs": [],
   "source": [
    "most_common_words = word_counts.most_common(20)"
   ]
  },
  {
   "cell_type": "code",
   "execution_count": null,
   "id": "2c732571",
   "metadata": {},
   "outputs": [],
   "source": [
    "words, counts = zip(*most_common_words)"
   ]
  },
  {
   "cell_type": "code",
   "execution_count": null,
   "id": "755441b6",
   "metadata": {},
   "outputs": [],
   "source": []
  },
  {
   "cell_type": "code",
   "execution_count": null,
   "id": "6764803b",
   "metadata": {},
   "outputs": [],
   "source": [
    "# Corrected code to visualize the Top 20 Most Frequent Words"
   ]
  },
  {
   "cell_type": "code",
   "execution_count": null,
   "id": "c7de8618",
   "metadata": {},
   "outputs": [],
   "source": [
    "plt.figure(figsize=(12, 8))"
   ]
  },
  {
   "cell_type": "code",
   "execution_count": null,
   "id": "6f859e31",
   "metadata": {},
   "outputs": [],
   "source": [
    "sns.barplot(x=list(words), y=list(counts))  # Explicitly name the parameters"
   ]
  },
  {
   "cell_type": "code",
   "execution_count": null,
   "id": "7717ee59",
   "metadata": {},
   "outputs": [],
   "source": [
    "plt.title('Top 20 Most Frequent Words')"
   ]
  },
  {
   "cell_type": "code",
   "execution_count": null,
   "id": "8707e442",
   "metadata": {},
   "outputs": [],
   "source": [
    "plt.xticks(rotation=45)"
   ]
  },
  {
   "cell_type": "code",
   "execution_count": null,
   "id": "b926dc4b",
   "metadata": {},
   "outputs": [],
   "source": [
    "plt.xlabel('Words')"
   ]
  },
  {
   "cell_type": "code",
   "execution_count": null,
   "id": "82c35786",
   "metadata": {},
   "outputs": [],
   "source": [
    "plt.ylabel('Frequency')"
   ]
  },
  {
   "cell_type": "code",
   "execution_count": null,
   "id": "8df07c98",
   "metadata": {},
   "outputs": [],
   "source": [
    "plt.show()"
   ]
  },
  {
   "cell_type": "code",
   "execution_count": null,
   "id": "cf504268",
   "metadata": {},
   "outputs": [],
   "source": [
    "## Visualize the Sentiment Distribution"
   ]
  },
  {
   "cell_type": "code",
   "execution_count": null,
   "id": "4ecbad30",
   "metadata": {},
   "outputs": [],
   "source": []
  },
  {
   "cell_type": "code",
   "execution_count": null,
   "id": "abec0dc9",
   "metadata": {},
   "outputs": [],
   "source": [
    "print(df.columns)"
   ]
  },
  {
   "cell_type": "code",
   "execution_count": null,
   "id": "b10015d2",
   "metadata": {},
   "outputs": [],
   "source": [
    "sns.countplot(x=df['class'])"
   ]
  },
  {
   "cell_type": "code",
   "execution_count": null,
   "id": "f51db9ed",
   "metadata": {},
   "outputs": [],
   "source": [
    "plt.title('Distribution of Sentiment Labels')"
   ]
  },
  {
   "cell_type": "code",
   "execution_count": null,
   "id": "35dd0dfd",
   "metadata": {},
   "outputs": [],
   "source": [
    "plt.xlabel('Sentiment')"
   ]
  },
  {
   "cell_type": "code",
   "execution_count": null,
   "id": "a93e7b8b",
   "metadata": {},
   "outputs": [],
   "source": [
    "plt.ylabel('Count')"
   ]
  },
  {
   "cell_type": "code",
   "execution_count": null,
   "id": "9e561272",
   "metadata": {},
   "outputs": [],
   "source": [
    "plt.show()"
   ]
  },
  {
   "cell_type": "code",
   "execution_count": null,
   "id": "5a73767d",
   "metadata": {},
   "outputs": [],
   "source": []
  },
  {
   "cell_type": "code",
   "execution_count": null,
   "id": "c01d84ce",
   "metadata": {},
   "outputs": [],
   "source": [
    "# Calculate class imbalance ratio"
   ]
  },
  {
   "cell_type": "code",
   "execution_count": null,
   "id": "3424fd97",
   "metadata": {},
   "outputs": [],
   "source": [
    "positive_count = df[df['class'] == 'positive'].shape[0]"
   ]
  },
  {
   "cell_type": "code",
   "execution_count": null,
   "id": "f94c3aff",
   "metadata": {},
   "outputs": [],
   "source": [
    "negative_count = df[df['class'] == 'negative'].shape[0]"
   ]
  },
  {
   "cell_type": "code",
   "execution_count": null,
   "id": "b3d05de0",
   "metadata": {},
   "outputs": [],
   "source": [
    "ratio = positive_count / negative_count"
   ]
  },
  {
   "cell_type": "code",
   "execution_count": null,
   "id": "db29253d",
   "metadata": {},
   "outputs": [],
   "source": [
    "print(f\"Ratio of Positive to Negative Samples: {ratio:.2f}\")"
   ]
  },
  {
   "cell_type": "code",
   "execution_count": null,
   "id": "a364b089",
   "metadata": {},
   "outputs": [],
   "source": [
    "sentiment_counts = df['class'].value_counts()"
   ]
  },
  {
   "cell_type": "code",
   "execution_count": null,
   "id": "374b0922",
   "metadata": {},
   "outputs": [],
   "source": [
    "plt.figure(figsize=(8, 8))"
   ]
  },
  {
   "cell_type": "code",
   "execution_count": null,
   "id": "c4f0c98d",
   "metadata": {},
   "outputs": [],
   "source": [
    "plt.pie(sentiment_counts, labels=sentiment_counts.index, autopct='%1.1f%%', startangle=140, colors=['skyblue', 'orange', 'green'])"
   ]
  },
  {
   "cell_type": "code",
   "execution_count": null,
   "id": "b21624bf",
   "metadata": {},
   "outputs": [],
   "source": [
    "plt.title('Pie Chart of Sentiment Distribution')"
   ]
  },
  {
   "cell_type": "code",
   "execution_count": null,
   "id": "83644a9b",
   "metadata": {},
   "outputs": [],
   "source": [
    "plt.show()"
   ]
  },
  {
   "cell_type": "code",
   "execution_count": null,
   "id": "1d6cc3ff",
   "metadata": {},
   "outputs": [],
   "source": [
    "## Generate Word Clouds for Each Sentiment Category"
   ]
  },
  {
   "cell_type": "code",
   "execution_count": null,
   "id": "75ded57d",
   "metadata": {},
   "outputs": [],
   "source": []
  },
  {
   "cell_type": "code",
   "execution_count": null,
   "id": "199eb067",
   "metadata": {},
   "outputs": [],
   "source": [
    "from wordcloud import WordCloud"
   ]
  },
  {
   "cell_type": "code",
   "execution_count": null,
   "id": "3e1ec054",
   "metadata": {},
   "outputs": [],
   "source": []
  },
  {
   "cell_type": "code",
   "execution_count": null,
   "id": "f64b3d09",
   "metadata": {},
   "outputs": [],
   "source": [
    "def generate_wordcloud(data, title):"
   ]
  },
  {
   "cell_type": "code",
   "execution_count": null,
   "id": "2bde5072",
   "metadata": {},
   "outputs": [],
   "source": [
    "    text = ' '.join(data)"
   ]
  },
  {
   "cell_type": "code",
   "execution_count": null,
   "id": "0cbbef38",
   "metadata": {},
   "outputs": [],
   "source": [
    "    wordcloud = WordCloud(width=800, height=400, background_color='white').generate(text)"
   ]
  },
  {
   "cell_type": "code",
   "execution_count": null,
   "id": "560f9457",
   "metadata": {},
   "outputs": [],
   "source": [
    "    plt.figure(figsize=(10, 5))"
   ]
  },
  {
   "cell_type": "code",
   "execution_count": null,
   "id": "e069ec0e",
   "metadata": {},
   "outputs": [],
   "source": [
    "    plt.imshow(wordcloud, interpolation='bilinear')"
   ]
  },
  {
   "cell_type": "code",
   "execution_count": null,
   "id": "b453b63d",
   "metadata": {},
   "outputs": [],
   "source": [
    "    plt.axis('off')"
   ]
  },
  {
   "cell_type": "code",
   "execution_count": null,
   "id": "b5c4094c",
   "metadata": {},
   "outputs": [],
   "source": [
    "    plt.title(title)"
   ]
  },
  {
   "cell_type": "code",
   "execution_count": null,
   "id": "f2a6cc13",
   "metadata": {},
   "outputs": [],
   "source": [
    "    plt.show()"
   ]
  },
  {
   "cell_type": "code",
   "execution_count": null,
   "id": "2f8e72ee",
   "metadata": {},
   "outputs": [],
   "source": []
  },
  {
   "cell_type": "code",
   "execution_count": null,
   "id": "4af7927c",
   "metadata": {},
   "outputs": [],
   "source": [
    "for sentiment in ['positive', 'neutral', 'negative']:"
   ]
  },
  {
   "cell_type": "code",
   "execution_count": null,
   "id": "15d3140c",
   "metadata": {},
   "outputs": [],
   "source": [
    "    generate_wordcloud(df[df['class'] == sentiment]['cleaned_text'], f'Word Cloud for {sentiment.capitalize()} Sentiment')"
   ]
  },
  {
   "cell_type": "code",
   "execution_count": null,
   "id": "f13accd5",
   "metadata": {},
   "outputs": [],
   "source": [
    "## Analyze the Frequency of Bigrams"
   ]
  },
  {
   "cell_type": "code",
   "execution_count": null,
   "id": "ccb3104a",
   "metadata": {},
   "outputs": [],
   "source": [
    "from sklearn.feature_extraction.text import CountVectorizer"
   ]
  },
  {
   "cell_type": "code",
   "execution_count": null,
   "id": "7fdcf729",
   "metadata": {},
   "outputs": [],
   "source": []
  },
  {
   "cell_type": "code",
   "execution_count": null,
   "id": "5f2cae07",
   "metadata": {},
   "outputs": [],
   "source": [
    "vectorizer = CountVectorizer(ngram_range=(2, 2))"
   ]
  },
  {
   "cell_type": "code",
   "execution_count": null,
   "id": "f22a5f59",
   "metadata": {},
   "outputs": [],
   "source": [
    "bigrams = vectorizer.fit_transform(df['cleaned_text'])"
   ]
  },
  {
   "cell_type": "code",
   "execution_count": null,
   "id": "3499505e",
   "metadata": {},
   "outputs": [],
   "source": [
    "bigram_counts = bigrams.sum(axis=0)"
   ]
  },
  {
   "cell_type": "code",
   "execution_count": null,
   "id": "4d093a5e",
   "metadata": {},
   "outputs": [],
   "source": [
    "bigram_frequencies = [(word, bigram_counts[0, idx]) for word, idx in vectorizer.vocabulary_.items()]"
   ]
  },
  {
   "cell_type": "code",
   "execution_count": null,
   "id": "6d009c0f",
   "metadata": {},
   "outputs": [],
   "source": [
    "bigram_frequencies = sorted(bigram_frequencies, key=lambda x: x[1], reverse=True)[:20]"
   ]
  },
  {
   "cell_type": "code",
   "execution_count": null,
   "id": "64373a5e",
   "metadata": {},
   "outputs": [],
   "source": []
  },
  {
   "cell_type": "code",
   "execution_count": null,
   "id": "9584a9bb",
   "metadata": {},
   "outputs": [],
   "source": [
    "# Plotting the Top 20 Bigrams"
   ]
  },
  {
   "cell_type": "code",
   "execution_count": null,
   "id": "d9609013",
   "metadata": {},
   "outputs": [],
   "source": []
  },
  {
   "cell_type": "code",
   "execution_count": null,
   "id": "6c56d992",
   "metadata": {},
   "outputs": [],
   "source": [
    "words, counts = zip(*bigram_frequencies)"
   ]
  },
  {
   "cell_type": "code",
   "execution_count": null,
   "id": "e2ea51c9",
   "metadata": {},
   "outputs": [],
   "source": [
    "plt.figure(figsize=(12, 8))"
   ]
  },
  {
   "cell_type": "code",
   "execution_count": null,
   "id": "f7f0ec24",
   "metadata": {},
   "outputs": [],
   "source": [
    "sns.barplot(x=list(words), y=list(counts))"
   ]
  },
  {
   "cell_type": "code",
   "execution_count": null,
   "id": "7d4f2860",
   "metadata": {},
   "outputs": [],
   "source": [
    "plt.title('Top 20 Most Frequent Bigrams')"
   ]
  },
  {
   "cell_type": "code",
   "execution_count": null,
   "id": "8126b401",
   "metadata": {},
   "outputs": [],
   "source": [
    "plt.xticks(rotation=90)"
   ]
  },
  {
   "cell_type": "code",
   "execution_count": null,
   "id": "2f146373",
   "metadata": {},
   "outputs": [],
   "source": [
    "plt.xlabel('Bigrams')"
   ]
  },
  {
   "cell_type": "code",
   "execution_count": null,
   "id": "c64c0774",
   "metadata": {},
   "outputs": [],
   "source": [
    "plt.ylabel('Frequency')"
   ]
  },
  {
   "cell_type": "code",
   "execution_count": null,
   "id": "9881e95d",
   "metadata": {},
   "outputs": [],
   "source": [
    "plt.show()"
   ]
  },
  {
   "cell_type": "code",
   "execution_count": null,
   "id": "59a10208",
   "metadata": {},
   "outputs": [],
   "source": [
    "## Analyze the Frequency of Trigrams"
   ]
  },
  {
   "cell_type": "code",
   "execution_count": null,
   "id": "13c0f4d7",
   "metadata": {},
   "outputs": [],
   "source": [
    "vectorizer = CountVectorizer(ngram_range=(3, 3))"
   ]
  },
  {
   "cell_type": "code",
   "execution_count": null,
   "id": "7faa2152",
   "metadata": {},
   "outputs": [],
   "source": [
    "trigrams = vectorizer.fit_transform(df['cleaned_text'])"
   ]
  },
  {
   "cell_type": "code",
   "execution_count": null,
   "id": "0f226cb1",
   "metadata": {},
   "outputs": [],
   "source": [
    "trigram_counts = trigrams.sum(axis=0)"
   ]
  },
  {
   "cell_type": "code",
   "execution_count": null,
   "id": "88e4c62c",
   "metadata": {},
   "outputs": [],
   "source": [
    "trigram_frequencies = [(word, trigram_counts[0, idx]) for word, idx in vectorizer.vocabulary_.items()]"
   ]
  },
  {
   "cell_type": "code",
   "execution_count": null,
   "id": "bc0c3785",
   "metadata": {},
   "outputs": [],
   "source": [
    "trigram_frequencies = sorted(trigram_frequencies, key=lambda x: x[1], reverse=True)[:50]"
   ]
  },
  {
   "cell_type": "code",
   "execution_count": null,
   "id": "b6ee91fc",
   "metadata": {},
   "outputs": [],
   "source": []
  },
  {
   "cell_type": "code",
   "execution_count": null,
   "id": "6e5068b2",
   "metadata": {},
   "outputs": [],
   "source": [
    "# Plotting the top 20 trigrams"
   ]
  },
  {
   "cell_type": "code",
   "execution_count": null,
   "id": "d8f49c3b",
   "metadata": {},
   "outputs": [],
   "source": [
    "words, counts = zip(*trigram_frequencies)"
   ]
  },
  {
   "cell_type": "code",
   "execution_count": null,
   "id": "8dda8c3e",
   "metadata": {},
   "outputs": [],
   "source": [
    "plt.figure(figsize=(15, 10))"
   ]
  },
  {
   "cell_type": "code",
   "execution_count": null,
   "id": "582ed0a0",
   "metadata": {},
   "outputs": [],
   "source": [
    "sns.barplot(x=list(words), y=list(counts))"
   ]
  },
  {
   "cell_type": "code",
   "execution_count": null,
   "id": "1e4bf843",
   "metadata": {},
   "outputs": [],
   "source": [
    "plt.title('Top 20 Most Frequent Trigrams')"
   ]
  },
  {
   "cell_type": "code",
   "execution_count": null,
   "id": "278ddd1a",
   "metadata": {},
   "outputs": [],
   "source": [
    "plt.xticks(rotation=90)"
   ]
  },
  {
   "cell_type": "code",
   "execution_count": null,
   "id": "c79aecfe",
   "metadata": {},
   "outputs": [],
   "source": [
    "plt.xlabel('Trigrams')"
   ]
  },
  {
   "cell_type": "code",
   "execution_count": null,
   "id": "8bce3401",
   "metadata": {},
   "outputs": [],
   "source": [
    "plt.ylabel('Frequency')"
   ]
  },
  {
   "cell_type": "code",
   "execution_count": null,
   "id": "70996443",
   "metadata": {},
   "outputs": [],
   "source": [
    "plt.show()"
   ]
  },
  {
   "cell_type": "code",
   "execution_count": null,
   "id": "88e5d5b9",
   "metadata": {},
   "outputs": [],
   "source": []
  },
  {
   "cell_type": "code",
   "execution_count": null,
   "id": "70464b88",
   "metadata": {},
   "outputs": [],
   "source": [
    "## Co-Occurrence Networks for Words in the Text"
   ]
  },
  {
   "cell_type": "code",
   "execution_count": null,
   "id": "3c7e5def",
   "metadata": {},
   "outputs": [],
   "source": [
    "import networkx as nx"
   ]
  }
 ],
 "metadata": {},
 "nbformat": 4,
 "nbformat_minor": 5
}
