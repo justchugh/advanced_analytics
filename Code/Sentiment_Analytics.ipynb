{
 "cells": [
  {
   "cell_type": "code",
   "execution_count": null,
   "id": "b945b1e6",
   "metadata": {},
   "outputs": [],
   "source": [
    "# EDA"
   ]
  },
  {
   "cell_type": "code",
   "execution_count": null,
   "id": "932b0415",
   "metadata": {},
   "outputs": [],
   "source": [
    "## Text Lenghts"
   ]
  },
  {
   "cell_type": "code",
   "execution_count": null,
   "id": "d58fd194",
   "metadata": {},
   "outputs": [],
   "source": [
    "# Visualize the distribution of text lengths"
   ]
  },
  {
   "cell_type": "code",
   "execution_count": null,
   "id": "42e702db",
   "metadata": {},
   "outputs": [],
   "source": [
    "plt.figure(figsize=(10, 6))"
   ]
  },
  {
   "cell_type": "code",
   "execution_count": null,
   "id": "ea60d7ef",
   "metadata": {},
   "outputs": [],
   "source": [
    "sns.histplot(df['cleaned_length'], bins=30, color='purple')"
   ]
  },
  {
   "cell_type": "code",
   "execution_count": null,
   "id": "e41f0403",
   "metadata": {},
   "outputs": [],
   "source": [
    "plt.title('Distribution of Text Lengths')"
   ]
  },
  {
   "cell_type": "code",
   "execution_count": null,
   "id": "1823c815",
   "metadata": {},
   "outputs": [],
   "source": [
    "plt.xlabel('Length of Text (number of words)')"
   ]
  },
  {
   "cell_type": "code",
   "execution_count": null,
   "id": "cbee6d0e",
   "metadata": {},
   "outputs": [],
   "source": [
    "plt.ylabel('Frequency')"
   ]
  },
  {
   "cell_type": "code",
   "execution_count": null,
   "id": "91862a5f",
   "metadata": {},
   "outputs": [],
   "source": [
    "plt.show()"
   ]
  },
  {
   "cell_type": "code",
   "execution_count": null,
   "id": "18a248ab",
   "metadata": {},
   "outputs": [],
   "source": [
    "import pandas as pd"
   ]
  },
  {
   "cell_type": "code",
   "execution_count": null,
   "id": "346cb263",
   "metadata": {},
   "outputs": [],
   "source": [
    "from sklearn.feature_extraction.text import CountVectorizer"
   ]
  },
  {
   "cell_type": "code",
   "execution_count": null,
   "id": "f6a970aa",
   "metadata": {},
   "outputs": [],
   "source": [
    "import matplotlib.pyplot as plt"
   ]
  },
  {
   "cell_type": "code",
   "execution_count": null,
   "id": "25663669",
   "metadata": {},
   "outputs": [],
   "source": []
  },
  {
   "cell_type": "code",
   "execution_count": null,
   "id": "5b1662d0",
   "metadata": {},
   "outputs": [],
   "source": [
    "# Assuming 'df' is your DataFrame and 'cleaned_text' is the column with the text data"
   ]
  },
  {
   "cell_type": "code",
   "execution_count": null,
   "id": "4d988c3a",
   "metadata": {},
   "outputs": [],
   "source": [
    "vectorizer = CountVectorizer()"
   ]
  },
  {
   "cell_type": "code",
   "execution_count": null,
   "id": "3ecda5e0",
   "metadata": {},
   "outputs": [],
   "source": [
    "X = vectorizer.fit_transform(df['cleaned_text'])"
   ]
  },
  {
   "cell_type": "code",
   "execution_count": null,
   "id": "7907b889",
   "metadata": {},
   "outputs": [],
   "source": []
  },
  {
   "cell_type": "code",
   "execution_count": null,
   "id": "3875ba6c",
   "metadata": {},
   "outputs": [],
   "source": [
    "# Summing up the counts of each vocabulary word"
   ]
  },
  {
   "cell_type": "code",
   "execution_count": null,
   "id": "8852f9c3",
   "metadata": {},
   "outputs": [],
   "source": [
    "sum_words = X.sum(axis=0)"
   ]
  },
  {
   "cell_type": "code",
   "execution_count": null,
   "id": "4d401431",
   "metadata": {},
   "outputs": [],
   "source": [
    "words_freq = [(word, sum_words[0, idx]) for word, idx in vectorizer.vocabulary_.items()]"
   ]
  },
  {
   "cell_type": "code",
   "execution_count": null,
   "id": "d10616a2",
   "metadata": {},
   "outputs": [],
   "source": [
    "words_freq = sorted(words_freq, key=lambda x: x[1], reverse=True)"
   ]
  },
  {
   "cell_type": "code",
   "execution_count": null,
   "id": "1087f532",
   "metadata": {},
   "outputs": [],
   "source": []
  },
  {
   "cell_type": "code",
   "execution_count": null,
   "id": "99ef5df2",
   "metadata": {},
   "outputs": [],
   "source": [
    "# Extracting the top 100 words"
   ]
  },
  {
   "cell_type": "code",
   "execution_count": null,
   "id": "b086c398",
   "metadata": {},
   "outputs": [],
   "source": [
    "top_words = words_freq[:60]"
   ]
  },
  {
   "cell_type": "code",
   "execution_count": null,
   "id": "0d85da7c",
   "metadata": {},
   "outputs": [],
   "source": []
  },
  {
   "cell_type": "code",
   "execution_count": null,
   "id": "7bee8a1b",
   "metadata": {},
   "outputs": [],
   "source": [
    "# Converting to DataFrame for better visualization"
   ]
  },
  {
   "cell_type": "code",
   "execution_count": null,
   "id": "147c5582",
   "metadata": {},
   "outputs": [],
   "source": [
    "top_words_df = pd.DataFrame(top_words, columns=['Word', 'Frequency'])"
   ]
  },
  {
   "cell_type": "code",
   "execution_count": null,
   "id": "c2c5a947",
   "metadata": {},
   "outputs": [],
   "source": []
  },
  {
   "cell_type": "code",
   "execution_count": null,
   "id": "404074b8",
   "metadata": {},
   "outputs": [],
   "source": [
    "# Printing the top 100 words with their frequencies"
   ]
  },
  {
   "cell_type": "code",
   "execution_count": null,
   "id": "cbc96e23",
   "metadata": {},
   "outputs": [],
   "source": [
    "top_words_df"
   ]
  },
  {
   "cell_type": "code",
   "execution_count": null,
   "id": "66f76d34",
   "metadata": {},
   "outputs": [],
   "source": [
    "## Calculate and Visualize the Frequency of Individual Words"
   ]
  },
  {
   "cell_type": "code",
   "execution_count": null,
   "id": "161968b7",
   "metadata": {},
   "outputs": [],
   "source": []
  },
  {
   "cell_type": "code",
   "execution_count": null,
   "id": "7fd10ffc",
   "metadata": {},
   "outputs": [],
   "source": [
    "from collections import Counter"
   ]
  },
  {
   "cell_type": "code",
   "execution_count": null,
   "id": "9dd40192",
   "metadata": {},
   "outputs": [],
   "source": [
    "import itertools"
   ]
  },
  {
   "cell_type": "code",
   "execution_count": null,
   "id": "9a94c69d",
   "metadata": {},
   "outputs": [],
   "source": []
  },
  {
   "cell_type": "code",
   "execution_count": null,
   "id": "705ead3c",
   "metadata": {},
   "outputs": [],
   "source": [
    "# Count frequencies of all words in the cleaned text"
   ]
  },
  {
   "cell_type": "code",
   "execution_count": null,
   "id": "c529c5b2",
   "metadata": {},
   "outputs": [],
   "source": [
    "all_words = list(itertools.chain(*df['cleaned_text'].str.split()))"
   ]
  },
  {
   "cell_type": "code",
   "execution_count": null,
   "id": "b3365bc5",
   "metadata": {},
   "outputs": [],
   "source": [
    "word_counts = Counter(all_words)"
   ]
  },
  {
   "cell_type": "code",
   "execution_count": null,
   "id": "d270cda3",
   "metadata": {},
   "outputs": [],
   "source": []
  },
  {
   "cell_type": "code",
   "execution_count": null,
   "id": "560bf920",
   "metadata": {},
   "outputs": [],
   "source": [
    "# Display the top 20 most common words"
   ]
  },
  {
   "cell_type": "code",
   "execution_count": null,
   "id": "1515de23",
   "metadata": {},
   "outputs": [],
   "source": [
    "most_common_words = word_counts.most_common(20)"
   ]
  },
  {
   "cell_type": "code",
   "execution_count": null,
   "id": "e1aa2a10",
   "metadata": {},
   "outputs": [],
   "source": [
    "words, counts = zip(*most_common_words)"
   ]
  },
  {
   "cell_type": "code",
   "execution_count": null,
   "id": "4a71a13f",
   "metadata": {},
   "outputs": [],
   "source": []
  },
  {
   "cell_type": "code",
   "execution_count": null,
   "id": "4e07d125",
   "metadata": {},
   "outputs": [],
   "source": [
    "# Corrected code to visualize the Top 20 Most Frequent Words"
   ]
  },
  {
   "cell_type": "code",
   "execution_count": null,
   "id": "a2e00ad4",
   "metadata": {},
   "outputs": [],
   "source": [
    "plt.figure(figsize=(12, 8))"
   ]
  },
  {
   "cell_type": "code",
   "execution_count": null,
   "id": "c4399653",
   "metadata": {},
   "outputs": [],
   "source": [
    "sns.barplot(x=list(words), y=list(counts))  # Explicitly name the parameters"
   ]
  },
  {
   "cell_type": "code",
   "execution_count": null,
   "id": "578a5603",
   "metadata": {},
   "outputs": [],
   "source": [
    "plt.title('Top 20 Most Frequent Words')"
   ]
  },
  {
   "cell_type": "code",
   "execution_count": null,
   "id": "efd308c3",
   "metadata": {},
   "outputs": [],
   "source": [
    "plt.xticks(rotation=45)"
   ]
  },
  {
   "cell_type": "code",
   "execution_count": null,
   "id": "f1de798e",
   "metadata": {},
   "outputs": [],
   "source": [
    "plt.xlabel('Words')"
   ]
  },
  {
   "cell_type": "code",
   "execution_count": null,
   "id": "7abb100d",
   "metadata": {},
   "outputs": [],
   "source": [
    "plt.ylabel('Frequency')"
   ]
  },
  {
   "cell_type": "code",
   "execution_count": null,
   "id": "0c0c1390",
   "metadata": {},
   "outputs": [],
   "source": [
    "plt.show()"
   ]
  },
  {
   "cell_type": "code",
   "execution_count": null,
   "id": "52308fec",
   "metadata": {},
   "outputs": [],
   "source": [
    "## Visualize the Sentiment Distribution"
   ]
  },
  {
   "cell_type": "code",
   "execution_count": null,
   "id": "44de7afb",
   "metadata": {},
   "outputs": [],
   "source": []
  },
  {
   "cell_type": "code",
   "execution_count": null,
   "id": "6f84f9a5",
   "metadata": {},
   "outputs": [],
   "source": [
    "print(df.columns)"
   ]
  },
  {
   "cell_type": "code",
   "execution_count": null,
   "id": "c83b1cdb",
   "metadata": {},
   "outputs": [],
   "source": [
    "sns.countplot(x=df['class'])"
   ]
  },
  {
   "cell_type": "code",
   "execution_count": null,
   "id": "7351db12",
   "metadata": {},
   "outputs": [],
   "source": [
    "plt.title('Distribution of Sentiment Labels')"
   ]
  },
  {
   "cell_type": "code",
   "execution_count": null,
   "id": "9faba4cf",
   "metadata": {},
   "outputs": [],
   "source": [
    "plt.xlabel('Sentiment')"
   ]
  },
  {
   "cell_type": "code",
   "execution_count": null,
   "id": "b4a88e75",
   "metadata": {},
   "outputs": [],
   "source": [
    "plt.ylabel('Count')"
   ]
  },
  {
   "cell_type": "code",
   "execution_count": null,
   "id": "b9a6ac33",
   "metadata": {},
   "outputs": [],
   "source": [
    "plt.show()"
   ]
  },
  {
   "cell_type": "code",
   "execution_count": null,
   "id": "7e7e2fdf",
   "metadata": {},
   "outputs": [],
   "source": []
  },
  {
   "cell_type": "code",
   "execution_count": null,
   "id": "6c849ce5",
   "metadata": {},
   "outputs": [],
   "source": [
    "# Calculate class imbalance ratio"
   ]
  },
  {
   "cell_type": "code",
   "execution_count": null,
   "id": "cf73e9ab",
   "metadata": {},
   "outputs": [],
   "source": [
    "positive_count = df[df['class'] == 'positive'].shape[0]"
   ]
  },
  {
   "cell_type": "code",
   "execution_count": null,
   "id": "ae382472",
   "metadata": {},
   "outputs": [],
   "source": [
    "negative_count = df[df['class'] == 'negative'].shape[0]"
   ]
  },
  {
   "cell_type": "code",
   "execution_count": null,
   "id": "863c6ff3",
   "metadata": {},
   "outputs": [],
   "source": [
    "ratio = positive_count / negative_count"
   ]
  }
 ],
 "metadata": {},
 "nbformat": 4,
 "nbformat_minor": 5
}
