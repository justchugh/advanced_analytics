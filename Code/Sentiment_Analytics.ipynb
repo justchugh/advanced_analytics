{
 "cells": [
  {
   "cell_type": "code",
   "execution_count": null,
   "id": "9ff37ba6",
   "metadata": {},
   "outputs": [],
   "source": [
    "%cd /content/drive/MyDrive/ri/code/data"
   ]
  },
  {
   "cell_type": "code",
   "execution_count": null,
   "id": "edcbd6bd",
   "metadata": {},
   "outputs": [],
   "source": [
    "import re"
   ]
  },
  {
   "cell_type": "code",
   "execution_count": null,
   "id": "a80c5da5",
   "metadata": {},
   "outputs": [],
   "source": [
    "import itertools"
   ]
  },
  {
   "cell_type": "code",
   "execution_count": null,
   "id": "cf704c76",
   "metadata": {},
   "outputs": [],
   "source": []
  },
  {
   "cell_type": "code",
   "execution_count": null,
   "id": "ebf991ae",
   "metadata": {},
   "outputs": [],
   "source": [
    "import nltk"
   ]
  },
  {
   "cell_type": "code",
   "execution_count": null,
   "id": "931b43ba",
   "metadata": {},
   "outputs": [],
   "source": [
    "from nltk.corpus import stopwords"
   ]
  },
  {
   "cell_type": "code",
   "execution_count": null,
   "id": "aca25452",
   "metadata": {},
   "outputs": [],
   "source": [
    "from nltk.tokenize import word_tokenize"
   ]
  },
  {
   "cell_type": "code",
   "execution_count": null,
   "id": "4bd8aa7a",
   "metadata": {},
   "outputs": [],
   "source": [
    "from nltk.stem import WordNetLemmatizer"
   ]
  },
  {
   "cell_type": "code",
   "execution_count": null,
   "id": "4198587f",
   "metadata": {},
   "outputs": [],
   "source": [
    "from nltk.sentiment import SentimentIntensityAnalyzer"
   ]
  },
  {
   "cell_type": "code",
   "execution_count": null,
   "id": "16f0746f",
   "metadata": {},
   "outputs": [],
   "source": []
  },
  {
   "cell_type": "code",
   "execution_count": null,
   "id": "c79cd1af",
   "metadata": {},
   "outputs": [],
   "source": [
    "import pandas as pd"
   ]
  },
  {
   "cell_type": "code",
   "execution_count": null,
   "id": "043578c7",
   "metadata": {},
   "outputs": [],
   "source": [
    "import seaborn as sns"
   ]
  },
  {
   "cell_type": "code",
   "execution_count": null,
   "id": "1b6a35be",
   "metadata": {},
   "outputs": [],
   "source": [
    "import matplotlib.pyplot as plt"
   ]
  },
  {
   "cell_type": "code",
   "execution_count": null,
   "id": "bcd840d8",
   "metadata": {},
   "outputs": [],
   "source": []
  },
  {
   "cell_type": "code",
   "execution_count": null,
   "id": "20b10203",
   "metadata": {},
   "outputs": [],
   "source": [
    "from sklearn.feature_extraction.text import CountVectorizer, TfidfVectorizer"
   ]
  },
  {
   "cell_type": "code",
   "execution_count": null,
   "id": "417bf22e",
   "metadata": {},
   "outputs": [],
   "source": []
  },
  {
   "cell_type": "code",
   "execution_count": null,
   "id": "31df4b61",
   "metadata": {},
   "outputs": [],
   "source": [
    "from collections import Counter"
   ]
  },
  {
   "cell_type": "code",
   "execution_count": null,
   "id": "f248a1a7",
   "metadata": {},
   "outputs": [],
   "source": [
    "#Data Understanding and Preparation"
   ]
  },
  {
   "cell_type": "code",
   "execution_count": null,
   "id": "25283dca",
   "metadata": {},
   "outputs": [],
   "source": [
    "## Import Libraries and Load Data"
   ]
  },
  {
   "cell_type": "code",
   "execution_count": null,
   "id": "eb419b2d",
   "metadata": {},
   "outputs": [],
   "source": []
  },
  {
   "cell_type": "code",
   "execution_count": null,
   "id": "244e5184",
   "metadata": {},
   "outputs": [],
   "source": [
    "df = pd.read_csv('/content/drive/MyDrive/ri/code/data/A1_standard.csv')"
   ]
  },
  {
   "cell_type": "code",
   "execution_count": null,
   "id": "45c02ff9",
   "metadata": {},
   "outputs": [],
   "source": [
    "print(df.head())"
   ]
  },
  {
   "cell_type": "code",
   "execution_count": null,
   "id": "ef27fd2e",
   "metadata": {},
   "outputs": [],
   "source": [
    "## Data Information and Missing Values"
   ]
  },
  {
   "cell_type": "code",
   "execution_count": null,
   "id": "8e654a5f",
   "metadata": {},
   "outputs": [],
   "source": []
  },
  {
   "cell_type": "code",
   "execution_count": null,
   "id": "173b7c66",
   "metadata": {},
   "outputs": [],
   "source": [
    "df.info()"
   ]
  },
  {
   "cell_type": "code",
   "execution_count": null,
   "id": "54b228ce",
   "metadata": {},
   "outputs": [],
   "source": []
  },
  {
   "cell_type": "code",
   "execution_count": null,
   "id": "dff180ee",
   "metadata": {},
   "outputs": [],
   "source": [
    "import seaborn as sns"
   ]
  },
  {
   "cell_type": "code",
   "execution_count": null,
   "id": "d0ea145c",
   "metadata": {},
   "outputs": [],
   "source": [
    "import matplotlib.pyplot as plt"
   ]
  },
  {
   "cell_type": "code",
   "execution_count": null,
   "id": "ccab5a8d",
   "metadata": {},
   "outputs": [],
   "source": []
  },
  {
   "cell_type": "code",
   "execution_count": null,
   "id": "dddadd8a",
   "metadata": {},
   "outputs": [],
   "source": [
    "sns.heatmap(df.isnull(), cbar=False, cmap='viridis')"
   ]
  },
  {
   "cell_type": "code",
   "execution_count": null,
   "id": "e403715d",
   "metadata": {},
   "outputs": [],
   "source": [
    "plt.title('Missing Data Visualization')"
   ]
  },
  {
   "cell_type": "code",
   "execution_count": null,
   "id": "8d107b05",
   "metadata": {},
   "outputs": [],
   "source": [
    "plt.show()"
   ]
  },
  {
   "cell_type": "code",
   "execution_count": null,
   "id": "1f3a8bf6",
   "metadata": {},
   "outputs": [],
   "source": []
  },
  {
   "cell_type": "code",
   "execution_count": null,
   "id": "bd37765d",
   "metadata": {},
   "outputs": [],
   "source": [
    "# Handle Missing Values, given there are none but still"
   ]
  },
  {
   "cell_type": "code",
   "execution_count": null,
   "id": "bd352fc5",
   "metadata": {},
   "outputs": [],
   "source": [
    "if df['text'].isnull().sum() > 0:"
   ]
  },
  {
   "cell_type": "code",
   "execution_count": null,
   "id": "24fbef72",
   "metadata": {},
   "outputs": [],
   "source": [
    "    df['text'] = df['text'].fillna('no_text')"
   ]
  },
  {
   "cell_type": "code",
   "execution_count": null,
   "id": "3f6b18a0",
   "metadata": {},
   "outputs": [],
   "source": [
    "    # df.dropna(subset=['text'], inplace=True)"
   ]
  },
  {
   "cell_type": "code",
   "execution_count": null,
   "id": "3a9410d1",
   "metadata": {},
   "outputs": [],
   "source": [
    "## Remove Noise, Tokenize, and Normalize Text"
   ]
  },
  {
   "cell_type": "code",
   "execution_count": null,
   "id": "9b7f222b",
   "metadata": {},
   "outputs": [],
   "source": []
  },
  {
   "cell_type": "code",
   "execution_count": null,
   "id": "4143d8b0",
   "metadata": {},
   "outputs": [],
   "source": [
    "# Ensure nltk resources are downloaded (first time run)"
   ]
  },
  {
   "cell_type": "code",
   "execution_count": null,
   "id": "d9616f63",
   "metadata": {},
   "outputs": [],
   "source": [
    "import nltk"
   ]
  },
  {
   "cell_type": "code",
   "execution_count": null,
   "id": "745d60ab",
   "metadata": {},
   "outputs": [],
   "source": [
    "nltk.download('punkt')"
   ]
  },
  {
   "cell_type": "code",
   "execution_count": null,
   "id": "fd40d169",
   "metadata": {},
   "outputs": [],
   "source": [
    "nltk.download('stopwords')"
   ]
  },
  {
   "cell_type": "code",
   "execution_count": null,
   "id": "abffa9ee",
   "metadata": {},
   "outputs": [],
   "source": [
    "nltk.download('wordnet')"
   ]
  },
  {
   "cell_type": "code",
   "execution_count": null,
   "id": "38b2931f",
   "metadata": {},
   "outputs": [],
   "source": [
    "nltk.download('averaged_perceptron_tagger')"
   ]
  },
  {
   "cell_type": "code",
   "execution_count": null,
   "id": "3de259ed",
   "metadata": {},
   "outputs": [],
   "source": [
    "nltk.download('vader_lexicon')"
   ]
  },
  {
   "cell_type": "code",
   "execution_count": null,
   "id": "3137bf9c",
   "metadata": {},
   "outputs": [],
   "source": [
    "# Improved dictionary for replacing abbreviations and unclear words"
   ]
  },
  {
   "cell_type": "code",
   "execution_count": null,
   "id": "3eb5b7ad",
   "metadata": {},
   "outputs": [],
   "source": [
    "replacement_dict = {"
   ]
  },
  {
   "cell_type": "code",
   "execution_count": null,
   "id": "2b2d0f15",
   "metadata": {},
   "outputs": [],
   "source": [
    "    'eur': 'euro',"
   ]
  },
  {
   "cell_type": "code",
   "execution_count": null,
   "id": "7d06bca3",
   "metadata": {},
   "outputs": [],
   "source": [
    "    'mn': 'million',"
   ]
  },
  {
   "cell_type": "code",
   "execution_count": null,
   "id": "65073c7e",
   "metadata": {},
   "outputs": [],
   "source": [
    "    'mln': 'million',"
   ]
  },
  {
   "cell_type": "code",
   "execution_count": null,
   "id": "b62da563",
   "metadata": {},
   "outputs": [],
   "source": [
    "    'oyj': 'company',"
   ]
  },
  {
   "cell_type": "code",
   "execution_count": null,
   "id": "ca9ec197",
   "metadata": {},
   "outputs": [],
   "source": [
    "    'pct': 'percent',"
   ]
  },
  {
   "cell_type": "code",
   "execution_count": null,
   "id": "ff24dcdf",
   "metadata": {},
   "outputs": [],
   "source": [
    "    'hel': 'Helsinki',"
   ]
  },
  {
   "cell_type": "code",
   "execution_count": null,
   "id": "3caf1e16",
   "metadata": {},
   "outputs": [],
   "source": [
    "    'eurm': 'euro million'  # Assuming eurm means euro million"
   ]
  },
  {
   "cell_type": "code",
   "execution_count": null,
   "id": "1d9364f0",
   "metadata": {},
   "outputs": [],
   "source": [
    "}"
   ]
  },
  {
   "cell_type": "code",
   "execution_count": null,
   "id": "2a0867ea",
   "metadata": {},
   "outputs": [],
   "source": []
  },
  {
   "cell_type": "code",
   "execution_count": null,
   "id": "319e9bfb",
   "metadata": {},
   "outputs": [],
   "source": [
    "def preprocess_text(text):"
   ]
  },
  {
   "cell_type": "code",
   "execution_count": null,
   "id": "8fc60481",
   "metadata": {},
   "outputs": [],
   "source": [
    "    # Remove HTML tags"
   ]
  },
  {
   "cell_type": "code",
   "execution_count": null,
   "id": "bd6f5707",
   "metadata": {},
   "outputs": [],
   "source": [
    "    text = re.sub(r'<.*?>', '', text)"
   ]
  },
  {
   "cell_type": "code",
   "execution_count": null,
   "id": "1f137654",
   "metadata": {},
   "outputs": [],
   "source": [
    "    # Replace hyphens with spaces (to maintain semantic integrity)"
   ]
  },
  {
   "cell_type": "code",
   "execution_count": null,
   "id": "7cee5189",
   "metadata": {},
   "outputs": [],
   "source": [
    "    text = re.sub(r'-', ' ', text)"
   ]
  },
  {
   "cell_type": "code",
   "execution_count": null,
   "id": "5d17dc23",
   "metadata": {},
   "outputs": [],
   "source": [
    "    # Remove punctuation except for periods (which can help in maintaining sentence boundaries)"
   ]
  },
  {
   "cell_type": "code",
   "execution_count": null,
   "id": "46c77fd2",
   "metadata": {},
   "outputs": [],
   "source": [
    "    text = re.sub(r'[^\\w\\s\\.]', '', text)"
   ]
  },
  {
   "cell_type": "code",
   "execution_count": null,
   "id": "10cdfcd4",
   "metadata": {},
   "outputs": [],
   "source": [
    "    # Convert text to lowercase"
   ]
  },
  {
   "cell_type": "code",
   "execution_count": null,
   "id": "821fe0bb",
   "metadata": {},
   "outputs": [],
   "source": [
    "    text = text.lower()"
   ]
  },
  {
   "cell_type": "code",
   "execution_count": null,
   "id": "7abb3216",
   "metadata": {},
   "outputs": [],
   "source": [
    "    # Tokenize text"
   ]
  },
  {
   "cell_type": "code",
   "execution_count": null,
   "id": "f40021a4",
   "metadata": {},
   "outputs": [],
   "source": [
    "    tokens = word_tokenize(text)"
   ]
  },
  {
   "cell_type": "code",
   "execution_count": null,
   "id": "bc8ff922",
   "metadata": {},
   "outputs": [],
   "source": [
    "    # Lemmatization (Avoid lemmatizing negations to preserve their form)"
   ]
  },
  {
   "cell_type": "code",
   "execution_count": null,
   "id": "3d4eb706",
   "metadata": {},
   "outputs": [],
   "source": [
    "    lemmatizer = WordNetLemmatizer()"
   ]
  },
  {
   "cell_type": "code",
   "execution_count": null,
   "id": "9626b928",
   "metadata": {},
   "outputs": [],
   "source": [
    "    tokens = [lemmatizer.lemmatize(word) if not plural_related(word) else word for word in tokens]"
   ]
  },
  {
   "cell_type": "code",
   "execution_count": null,
   "id": "73d44d68",
   "metadata": {},
   "outputs": [],
   "source": [
    "    # Replace words based on dictionary, preserving semantic integrity"
   ]
  },
  {
   "cell_type": "code",
   "execution_count": null,
   "id": "9db705c4",
   "metadata": {},
   "outputs": [],
   "source": [
    "    tokens = [replacement_dict.get(word, word) for word in tokens]"
   ]
  },
  {
   "cell_type": "code",
   "execution_count": null,
   "id": "16f113d1",
   "metadata": {},
   "outputs": [],
   "source": [
    "    # Remove single characters that are not meaningful (adjust according to your needs)"
   ]
  },
  {
   "cell_type": "code",
   "execution_count": null,
   "id": "4c39188b",
   "metadata": {},
   "outputs": [],
   "source": [
    "    tokens = [word for word in tokens if len(word) > 1 or word in ['a', 'i']]"
   ]
  },
  {
   "cell_type": "code",
   "execution_count": null,
   "id": "bd700822",
   "metadata": {},
   "outputs": [],
   "source": [
    "    # Join tokens and handle multiple spaces, especially around periods."
   ]
  },
  {
   "cell_type": "code",
   "execution_count": null,
   "id": "6aed9bd7",
   "metadata": {},
   "outputs": [],
   "source": [
    "    processed_text = ' '.join(tokens).replace(' .', '.')"
   ]
  }
 ],
 "metadata": {},
 "nbformat": 4,
 "nbformat_minor": 5
}
