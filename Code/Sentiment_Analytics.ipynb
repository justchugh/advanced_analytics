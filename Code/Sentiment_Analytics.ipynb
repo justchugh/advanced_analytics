{
 "cells": [
  {
   "cell_type": "code",
   "execution_count": null,
   "id": "4d35ee42",
   "metadata": {},
   "outputs": [],
   "source": [
    "## Tabulate"
   ]
  },
  {
   "cell_type": "code",
   "execution_count": null,
   "id": "76df64c7",
   "metadata": {},
   "outputs": [],
   "source": []
  },
  {
   "cell_type": "code",
   "execution_count": null,
   "id": "59ee8cca",
   "metadata": {},
   "outputs": [],
   "source": [
    "import pandas as pd"
   ]
  },
  {
   "cell_type": "code",
   "execution_count": null,
   "id": "9ef738e8",
   "metadata": {},
   "outputs": [],
   "source": [
    "from tabulate import tabulate"
   ]
  },
  {
   "cell_type": "code",
   "execution_count": null,
   "id": "a1b7063a",
   "metadata": {},
   "outputs": [],
   "source": []
  },
  {
   "cell_type": "code",
   "execution_count": null,
   "id": "8b697d18",
   "metadata": {},
   "outputs": [],
   "source": [
    "# Example data: replace this with your actual model metrics"
   ]
  },
  {
   "cell_type": "code",
   "execution_count": null,
   "id": "a7a98fe1",
   "metadata": {},
   "outputs": [],
   "source": [
    "data = ["
   ]
  },
  {
   "cell_type": "code",
   "execution_count": null,
   "id": "fbbc8294",
   "metadata": {},
   "outputs": [],
   "source": [
    "    {\"Model\": \"Logistic Regression\", \"Type\": \"Machine Learning\", \"Accuracy\": 0.74, \"Precision\": 0.74, \"Recall\": 0.74, \"F1-Score\": 0.71, \"ROC AUC Score\": 0.85},"
   ]
  },
  {
   "cell_type": "code",
   "execution_count": null,
   "id": "eae01442",
   "metadata": {},
   "outputs": [],
   "source": [
    "    {\"Model\": \"SVM\", \"Type\": \"Machine Learning\", \"Accuracy\": 0.76, \"Precision\": 0.75, \"Recall\": 0.76, \"F1-Score\": 0.75, \"ROC AUC Score\": 0.87},"
   ]
  },
  {
   "cell_type": "code",
   "execution_count": null,
   "id": "b3fd1e95",
   "metadata": {},
   "outputs": [],
   "source": [
    "    {\"Model\": \"Random Forest\", \"Type\": \"Machine Learning\", \"Accuracy\": 0.76, \"Precision\": 0.75, \"Recall\": 0.76, \"F1-Score\": 0.73, \"ROC AUC Score\": 0.83},"
   ]
  },
  {
   "cell_type": "code",
   "execution_count": null,
   "id": "ca2858bc",
   "metadata": {},
   "outputs": [],
   "source": [
    "    {\"Model\": \"CNN\", \"Type\": \"Deep Learning\", \"Accuracy\": 0.76, \"Precision\": 0.75, \"Recall\": 0.76, \"F1-Score\": 0.75, \"ROC AUC Score\": 0.85},"
   ]
  },
  {
   "cell_type": "code",
   "execution_count": null,
   "id": "72345108",
   "metadata": {},
   "outputs": [],
   "source": [
    "    {\"Model\": \"LSTM\", \"Type\": \"Deep Learning\", \"Accuracy\": 0.66, \"Precision\": 0.68, \"Recall\": 0.66, \"F1-Score\": 0.67, \"ROC AUC Score\": 0.80},"
   ]
  },
  {
   "cell_type": "code",
   "execution_count": null,
   "id": "ef59100a",
   "metadata": {},
   "outputs": [],
   "source": [
    "    {\"Model\": \"BiLSTM\", \"Type\": \"Deep Learning\", \"Accuracy\": 0.63, \"Precision\": 0.64, \"Recall\": 0.63, \"F1-Score\": 0.64, \"ROC AUC Score\": 0.77},"
   ]
  },
  {
   "cell_type": "code",
   "execution_count": null,
   "id": "0e2a2954",
   "metadata": {},
   "outputs": [],
   "source": [
    "    {\"Model\": \"BERT\", \"Type\": \"Transformer Model\", \"Accuracy\": 0.85, \"Precision\": 0.86, \"Recall\": 0.85, \"F1-Score\": 0.85, \"ROC AUC Score\": 0.94},"
   ]
  },
  {
   "cell_type": "code",
   "execution_count": null,
   "id": "ffc22574",
   "metadata": {},
   "outputs": [],
   "source": [
    "    {\"Model\": \"RoBERTa\", \"Type\": \"Transformer Model\", \"Accuracy\": 0.87, \"Precision\": 0.87, \"Recall\": 0.87, \"F1-Score\": 0.86, \"ROC AUC Score\": 0.95},"
   ]
  }
 ],
 "metadata": {},
 "nbformat": 4,
 "nbformat_minor": 5
}
